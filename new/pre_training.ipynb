{
 "cells": [
  {
   "cell_type": "markdown",
   "source": [
    "## Model Pre Training with augmentations and random labels\n"
   ],
   "metadata": {
    "collapsed": false
   }
  },
  {
   "cell_type": "code",
   "execution_count": 1,
   "metadata": {
    "collapsed": true
   },
   "outputs": [],
   "source": [
    "from datetime import datetime\n",
    "\n",
    "import torch\n",
    "import torch.backends.cudnn as cudnn\n",
    "from torchvision import transforms, datasets\n",
    "\n",
    "from models.model import ConvModel\n",
    "from models.pre_trainer import PreTrainer"
   ]
  },
  {
   "cell_type": "code",
   "execution_count": 2,
   "outputs": [],
   "source": [
    "if torch.cuda.is_available():\n",
    "    device = torch.device('cuda')\n",
    "    cudnn.deterministic = True\n",
    "    cudnn.benchmark = True\n",
    "    gpu_index = 0\n",
    "else:\n",
    "    device = torch.device('cpu')\n",
    "    gpu_index = -1"
   ],
   "metadata": {
    "collapsed": false
   }
  },
  {
   "cell_type": "code",
   "execution_count": 3,
   "outputs": [],
   "source": [
    "color_jitter = transforms.ColorJitter(0.8, 0.8, 0.8, 0.2)\n",
    "\n",
    "composed_transforms = transforms.Compose([\n",
    "    transforms.RandomApply([color_jitter], p=0.8),\n",
    "    transforms.RandomGrayscale(p=0.2),\n",
    "    transforms.GaussianBlur(kernel_size=3),\n",
    "    transforms.ToTensor()])"
   ],
   "metadata": {
    "collapsed": false
   }
  },
  {
   "cell_type": "code",
   "execution_count": 4,
   "outputs": [
    {
     "name": "stdout",
     "output_type": "stream",
     "text": [
      "Files already downloaded and verified\n"
     ]
    },
    {
     "data": {
      "text/plain": "<torch._C.Generator at 0x19c5bc62370>"
     },
     "execution_count": 4,
     "metadata": {},
     "output_type": "execute_result"
    }
   ],
   "source": [
    "train_dataset = datasets.CIFAR10('./datasets',  download=True, train=True, transform=composed_transforms)\n",
    "g = torch.Generator()\n",
    "g.manual_seed(0)"
   ],
   "metadata": {
    "collapsed": false
   }
  },
  {
   "cell_type": "code",
   "execution_count": 5,
   "outputs": [],
   "source": [
    "train_loader_1 = torch.utils.data.DataLoader(train_dataset, batch_size=256, shuffle=False, pin_memory=True, drop_last=True, generator=g)"
   ],
   "metadata": {
    "collapsed": false
   }
  },
  {
   "cell_type": "code",
   "execution_count": 6,
   "outputs": [
    {
     "name": "stderr",
     "output_type": "stream",
     "text": [
      "C:\\Users\\kacpe\\DataspellProjects\\SimCLRPytorch\\venv\\lib\\site-packages\\torchvision\\models\\_utils.py:208: UserWarning: The parameter 'pretrained' is deprecated since 0.13 and may be removed in the future, please use 'weights' instead.\n",
      "  warnings.warn(\n",
      "C:\\Users\\kacpe\\DataspellProjects\\SimCLRPytorch\\venv\\lib\\site-packages\\torchvision\\models\\_utils.py:223: UserWarning: Arguments other than a weight enum or `None` for 'weights' are deprecated since 0.13 and may be removed in the future. The current behavior is equivalent to passing `weights=None`.\n",
      "  warnings.warn(msg)\n"
     ]
    }
   ],
   "source": [
    "model = ConvModel(out_dim=10, dataset='CIFAR10')"
   ],
   "metadata": {
    "collapsed": false
   }
  },
  {
   "cell_type": "code",
   "execution_count": 7,
   "outputs": [
    {
     "name": "stderr",
     "output_type": "stream",
     "text": [
      "  0%|          | 0/195 [00:00<?, ?it/s]C:\\Users\\kacpe\\DataspellProjects\\SimCLRPytorch\\venv\\lib\\site-packages\\torch\\optim\\lr_scheduler.py:807: UserWarning: To get the last learning rate computed by the scheduler, please use `get_last_lr()`.\n",
      "  warnings.warn(\"To get the last learning rate computed by the scheduler, \"\n",
      "100%|██████████| 195/195 [01:04<00:00,  3.04it/s]\n",
      "100%|██████████| 195/195 [00:49<00:00,  3.97it/s]\n",
      "100%|██████████| 195/195 [00:48<00:00,  4.05it/s]\n",
      "100%|██████████| 195/195 [00:48<00:00,  4.05it/s]\n",
      "100%|██████████| 195/195 [00:49<00:00,  3.98it/s]\n",
      "100%|██████████| 195/195 [00:50<00:00,  3.89it/s]\n",
      "100%|██████████| 195/195 [00:49<00:00,  3.92it/s]\n",
      "100%|██████████| 195/195 [00:49<00:00,  3.93it/s]\n",
      "100%|██████████| 195/195 [00:49<00:00,  3.90it/s]\n",
      "100%|██████████| 195/195 [00:49<00:00,  3.90it/s]\n",
      "100%|██████████| 195/195 [00:50<00:00,  3.83it/s]\n",
      "100%|██████████| 195/195 [00:50<00:00,  3.90it/s]\n",
      "100%|██████████| 195/195 [00:50<00:00,  3.88it/s]\n",
      "100%|██████████| 195/195 [00:50<00:00,  3.86it/s]\n",
      "100%|██████████| 195/195 [00:49<00:00,  3.92it/s]\n",
      "100%|██████████| 195/195 [00:50<00:00,  3.84it/s]\n",
      "100%|██████████| 195/195 [00:51<00:00,  3.78it/s]\n",
      "100%|██████████| 195/195 [00:47<00:00,  4.06it/s]\n",
      "100%|██████████| 195/195 [00:48<00:00,  4.06it/s]\n",
      "100%|██████████| 195/195 [00:47<00:00,  4.07it/s]\n",
      "100%|██████████| 195/195 [00:48<00:00,  4.04it/s]\n",
      "100%|██████████| 195/195 [00:47<00:00,  4.07it/s]\n",
      "100%|██████████| 195/195 [00:48<00:00,  4.06it/s]\n",
      "100%|██████████| 195/195 [00:47<00:00,  4.07it/s]\n",
      "100%|██████████| 195/195 [00:47<00:00,  4.08it/s]\n",
      "100%|██████████| 195/195 [00:47<00:00,  4.08it/s]\n",
      "100%|██████████| 195/195 [00:47<00:00,  4.08it/s]\n",
      "100%|██████████| 195/195 [00:47<00:00,  4.08it/s]\n",
      "100%|██████████| 195/195 [00:47<00:00,  4.07it/s]\n",
      "100%|██████████| 195/195 [00:47<00:00,  4.08it/s]\n",
      "100%|██████████| 195/195 [00:47<00:00,  4.06it/s]\n",
      "100%|██████████| 195/195 [00:48<00:00,  4.05it/s]\n",
      "100%|██████████| 195/195 [00:47<00:00,  4.09it/s]\n",
      "100%|██████████| 195/195 [00:47<00:00,  4.09it/s]\n",
      "100%|██████████| 195/195 [00:48<00:00,  4.06it/s]\n",
      "100%|██████████| 195/195 [00:47<00:00,  4.06it/s]\n",
      "100%|██████████| 195/195 [00:47<00:00,  4.07it/s]\n",
      "100%|██████████| 195/195 [00:47<00:00,  4.08it/s]\n",
      "100%|██████████| 195/195 [00:48<00:00,  4.05it/s]\n",
      "100%|██████████| 195/195 [00:54<00:00,  3.56it/s]\n",
      "100%|██████████| 195/195 [00:50<00:00,  3.89it/s]\n",
      "100%|██████████| 195/195 [00:49<00:00,  3.92it/s]\n",
      "100%|██████████| 195/195 [00:51<00:00,  3.81it/s]\n",
      "100%|██████████| 195/195 [00:49<00:00,  3.96it/s]\n",
      "100%|██████████| 195/195 [00:51<00:00,  3.79it/s]\n",
      "100%|██████████| 195/195 [00:50<00:00,  3.88it/s]\n",
      "100%|██████████| 195/195 [00:51<00:00,  3.80it/s]\n",
      "100%|██████████| 195/195 [00:51<00:00,  3.76it/s]\n",
      "100%|██████████| 195/195 [00:51<00:00,  3.80it/s]\n",
      "100%|██████████| 195/195 [00:50<00:00,  3.89it/s]\n",
      "100%|██████████| 195/195 [00:49<00:00,  3.97it/s]\n",
      "100%|██████████| 195/195 [00:49<00:00,  3.95it/s]\n",
      "100%|██████████| 195/195 [00:51<00:00,  3.80it/s]\n",
      "100%|██████████| 195/195 [00:50<00:00,  3.87it/s]\n",
      "100%|██████████| 195/195 [00:49<00:00,  3.93it/s]\n",
      "100%|██████████| 195/195 [00:50<00:00,  3.88it/s]\n",
      "100%|██████████| 195/195 [00:51<00:00,  3.82it/s]\n",
      "100%|██████████| 195/195 [00:51<00:00,  3.77it/s]\n",
      "100%|██████████| 195/195 [00:49<00:00,  3.92it/s]\n",
      "100%|██████████| 195/195 [00:49<00:00,  3.94it/s]\n",
      "100%|██████████| 195/195 [00:49<00:00,  3.97it/s]\n",
      "100%|██████████| 195/195 [00:48<00:00,  3.99it/s]\n",
      "100%|██████████| 195/195 [00:48<00:00,  3.99it/s]\n",
      "100%|██████████| 195/195 [00:48<00:00,  4.00it/s]\n",
      "100%|██████████| 195/195 [00:48<00:00,  3.99it/s]\n",
      "100%|██████████| 195/195 [00:48<00:00,  3.98it/s]\n",
      "100%|██████████| 195/195 [00:49<00:00,  3.93it/s]\n",
      "100%|██████████| 195/195 [00:50<00:00,  3.84it/s]\n",
      "100%|██████████| 195/195 [00:49<00:00,  3.97it/s]\n",
      "100%|██████████| 195/195 [00:48<00:00,  3.99it/s]\n",
      "100%|██████████| 195/195 [00:48<00:00,  4.00it/s]\n",
      "100%|██████████| 195/195 [00:49<00:00,  3.97it/s]\n",
      "100%|██████████| 195/195 [00:49<00:00,  3.97it/s]\n",
      "100%|██████████| 195/195 [00:49<00:00,  3.97it/s]\n",
      "100%|██████████| 195/195 [00:48<00:00,  3.98it/s]\n",
      "100%|██████████| 195/195 [00:48<00:00,  3.98it/s]\n",
      "100%|██████████| 195/195 [00:52<00:00,  3.74it/s]\n",
      "100%|██████████| 195/195 [00:51<00:00,  3.80it/s]\n",
      "100%|██████████| 195/195 [00:51<00:00,  3.78it/s]\n",
      "100%|██████████| 195/195 [00:49<00:00,  3.92it/s]\n",
      "100%|██████████| 195/195 [00:50<00:00,  3.84it/s]\n",
      "100%|██████████| 195/195 [00:50<00:00,  3.84it/s]\n",
      "100%|██████████| 195/195 [00:50<00:00,  3.88it/s]\n",
      "100%|██████████| 195/195 [00:51<00:00,  3.75it/s]\n",
      "100%|██████████| 195/195 [00:51<00:00,  3.78it/s]\n",
      "100%|██████████| 195/195 [00:52<00:00,  3.73it/s]\n",
      "100%|██████████| 195/195 [00:52<00:00,  3.71it/s]\n",
      "100%|██████████| 195/195 [00:51<00:00,  3.76it/s]\n",
      "100%|██████████| 195/195 [00:52<00:00,  3.68it/s]\n",
      "100%|██████████| 195/195 [00:54<00:00,  3.59it/s]\n",
      "100%|██████████| 195/195 [00:55<00:00,  3.51it/s]\n",
      "100%|██████████| 195/195 [00:54<00:00,  3.55it/s]\n",
      "100%|██████████| 195/195 [00:56<00:00,  3.43it/s]\n",
      "100%|██████████| 195/195 [00:54<00:00,  3.55it/s]\n",
      "100%|██████████| 195/195 [00:50<00:00,  3.87it/s]\n",
      "100%|██████████| 195/195 [00:49<00:00,  3.96it/s]\n",
      "100%|██████████| 195/195 [00:49<00:00,  3.98it/s]\n",
      "100%|██████████| 195/195 [00:48<00:00,  3.98it/s]\n",
      "100%|██████████| 195/195 [00:48<00:00,  4.02it/s]\n",
      "100%|██████████| 195/195 [00:48<00:00,  3.99it/s]\n",
      "100%|██████████| 195/195 [00:49<00:00,  3.96it/s]\n",
      "100%|██████████| 195/195 [00:49<00:00,  3.97it/s]\n",
      "100%|██████████| 195/195 [00:49<00:00,  3.92it/s]\n",
      "100%|██████████| 195/195 [00:49<00:00,  3.93it/s]\n",
      "100%|██████████| 195/195 [00:51<00:00,  3.80it/s]\n",
      "100%|██████████| 195/195 [00:53<00:00,  3.67it/s]\n",
      "100%|██████████| 195/195 [00:51<00:00,  3.81it/s]\n",
      "100%|██████████| 195/195 [00:50<00:00,  3.87it/s]\n",
      "100%|██████████| 195/195 [00:50<00:00,  3.88it/s]\n",
      "100%|██████████| 195/195 [00:50<00:00,  3.85it/s]\n",
      "100%|██████████| 195/195 [00:48<00:00,  3.98it/s]\n",
      "100%|██████████| 195/195 [00:48<00:00,  4.00it/s]\n",
      "100%|██████████| 195/195 [00:50<00:00,  3.83it/s]\n",
      "100%|██████████| 195/195 [00:52<00:00,  3.72it/s]\n",
      "100%|██████████| 195/195 [00:51<00:00,  3.81it/s]\n",
      "100%|██████████| 195/195 [00:53<00:00,  3.61it/s]\n",
      "100%|██████████| 195/195 [00:51<00:00,  3.78it/s]\n",
      "100%|██████████| 195/195 [00:50<00:00,  3.83it/s]\n",
      "100%|██████████| 195/195 [00:52<00:00,  3.69it/s]\n",
      "100%|██████████| 195/195 [00:51<00:00,  3.76it/s]\n",
      "100%|██████████| 195/195 [00:52<00:00,  3.73it/s]\n",
      "100%|██████████| 195/195 [00:51<00:00,  3.80it/s]\n",
      "100%|██████████| 195/195 [00:51<00:00,  3.77it/s]\n",
      "100%|██████████| 195/195 [00:53<00:00,  3.67it/s]\n",
      "100%|██████████| 195/195 [00:51<00:00,  3.76it/s]\n",
      "100%|██████████| 195/195 [00:50<00:00,  3.89it/s]\n",
      "100%|██████████| 195/195 [00:49<00:00,  3.91it/s]\n",
      "100%|██████████| 195/195 [00:52<00:00,  3.74it/s]\n",
      "100%|██████████| 195/195 [00:51<00:00,  3.79it/s]\n",
      "100%|██████████| 195/195 [00:52<00:00,  3.73it/s]\n",
      "100%|██████████| 195/195 [00:51<00:00,  3.80it/s]\n",
      "100%|██████████| 195/195 [00:51<00:00,  3.78it/s]\n",
      "100%|██████████| 195/195 [00:51<00:00,  3.82it/s]\n",
      " 42%|████▏     | 81/195 [00:22<00:31,  3.67it/s]\n"
     ]
    },
    {
     "ename": "KeyboardInterrupt",
     "evalue": "",
     "output_type": "error",
     "traceback": [
      "\u001B[1;31m---------------------------------------------------------------------------\u001B[0m",
      "\u001B[1;31mKeyboardInterrupt\u001B[0m                         Traceback (most recent call last)",
      "Cell \u001B[1;32mIn [7], line 9\u001B[0m\n\u001B[0;32m      6\u001B[0m \u001B[38;5;28;01mwith\u001B[39;00m torch\u001B[38;5;241m.\u001B[39mcuda\u001B[38;5;241m.\u001B[39mdevice(gpu_index):\n\u001B[0;32m      7\u001B[0m     pre_trainer \u001B[38;5;241m=\u001B[39m PreTrainer(model\u001B[38;5;241m=\u001B[39mmodel, optimizer\u001B[38;5;241m=\u001B[39moptimizer, scheduler\u001B[38;5;241m=\u001B[39mscheduler, device\u001B[38;5;241m=\u001B[39mdevice, epochs\u001B[38;5;241m=\u001B[39m\u001B[38;5;241m200\u001B[39m, log_every_n_steps\u001B[38;5;241m=\u001B[39m\u001B[38;5;241m100\u001B[39m,\n\u001B[0;32m      8\u001B[0m                         log_dir\u001B[38;5;241m=\u001B[39m\u001B[38;5;124mf\u001B[39m\u001B[38;5;124m'\u001B[39m\u001B[38;5;124mruns/Pretraining_CIFAR10_\u001B[39m\u001B[38;5;132;01m{\u001B[39;00mdatetime\u001B[38;5;241m.\u001B[39mnow()\u001B[38;5;241m.\u001B[39mstrftime(\u001B[38;5;124m\"\u001B[39m\u001B[38;5;132;01m%d\u001B[39;00m\u001B[38;5;124m-\u001B[39m\u001B[38;5;124m%\u001B[39m\u001B[38;5;124mm-\u001B[39m\u001B[38;5;124m%\u001B[39m\u001B[38;5;124mY_\u001B[39m\u001B[38;5;124m%\u001B[39m\u001B[38;5;124mH-\u001B[39m\u001B[38;5;124m%\u001B[39m\u001B[38;5;124mM\u001B[39m\u001B[38;5;124m\"\u001B[39m)\u001B[38;5;132;01m}\u001B[39;00m\u001B[38;5;124m'\u001B[39m)\n\u001B[1;32m----> 9\u001B[0m     \u001B[43mpre_trainer\u001B[49m\u001B[38;5;241;43m.\u001B[39;49m\u001B[43mtrain\u001B[49m\u001B[43m(\u001B[49m\u001B[43mtrain_loader_1\u001B[49m\u001B[43m,\u001B[49m\u001B[43m \u001B[49m\u001B[43mshuffle\u001B[49m\u001B[38;5;241;43m=\u001B[39;49m\u001B[38;5;28;43;01mTrue\u001B[39;49;00m\u001B[43m)\u001B[49m\n",
      "File \u001B[1;32m~\\DataspellProjects\\SimCLRPytorch\\new\\models\\pre_trainer.py:33\u001B[0m, in \u001B[0;36mPreTrainer.train\u001B[1;34m(self, train_loader, shuffle)\u001B[0m\n\u001B[0;32m     31\u001B[0m g \u001B[38;5;241m=\u001B[39m torch\u001B[38;5;241m.\u001B[39mGenerator()\n\u001B[0;32m     32\u001B[0m g\u001B[38;5;241m.\u001B[39mmanual_seed(\u001B[38;5;241m0\u001B[39m)\n\u001B[1;32m---> 33\u001B[0m \u001B[38;5;28;01mfor\u001B[39;00m images, labels \u001B[38;5;129;01min\u001B[39;00m tqdm(train_loader):\n\u001B[0;32m     34\u001B[0m     images \u001B[38;5;241m=\u001B[39m torch\u001B[38;5;241m.\u001B[39mcat((images, images), dim\u001B[38;5;241m=\u001B[39m\u001B[38;5;241m0\u001B[39m)\n\u001B[0;32m     35\u001B[0m     \u001B[38;5;28;01mif\u001B[39;00m shuffle:\n",
      "File \u001B[1;32m~\\DataspellProjects\\SimCLRPytorch\\venv\\lib\\site-packages\\tqdm\\std.py:1195\u001B[0m, in \u001B[0;36mtqdm.__iter__\u001B[1;34m(self)\u001B[0m\n\u001B[0;32m   1192\u001B[0m time \u001B[38;5;241m=\u001B[39m \u001B[38;5;28mself\u001B[39m\u001B[38;5;241m.\u001B[39m_time\n\u001B[0;32m   1194\u001B[0m \u001B[38;5;28;01mtry\u001B[39;00m:\n\u001B[1;32m-> 1195\u001B[0m     \u001B[38;5;28;01mfor\u001B[39;00m obj \u001B[38;5;129;01min\u001B[39;00m iterable:\n\u001B[0;32m   1196\u001B[0m         \u001B[38;5;28;01myield\u001B[39;00m obj\n\u001B[0;32m   1197\u001B[0m         \u001B[38;5;66;03m# Update and possibly print the progressbar.\u001B[39;00m\n\u001B[0;32m   1198\u001B[0m         \u001B[38;5;66;03m# Note: does not call self.update(1) for speed optimisation.\u001B[39;00m\n",
      "File \u001B[1;32m~\\DataspellProjects\\SimCLRPytorch\\venv\\lib\\site-packages\\torch\\utils\\data\\dataloader.py:628\u001B[0m, in \u001B[0;36m_BaseDataLoaderIter.__next__\u001B[1;34m(self)\u001B[0m\n\u001B[0;32m    625\u001B[0m \u001B[38;5;28;01mif\u001B[39;00m \u001B[38;5;28mself\u001B[39m\u001B[38;5;241m.\u001B[39m_sampler_iter \u001B[38;5;129;01mis\u001B[39;00m \u001B[38;5;28;01mNone\u001B[39;00m:\n\u001B[0;32m    626\u001B[0m     \u001B[38;5;66;03m# TODO(https://github.com/pytorch/pytorch/issues/76750)\u001B[39;00m\n\u001B[0;32m    627\u001B[0m     \u001B[38;5;28mself\u001B[39m\u001B[38;5;241m.\u001B[39m_reset()  \u001B[38;5;66;03m# type: ignore[call-arg]\u001B[39;00m\n\u001B[1;32m--> 628\u001B[0m data \u001B[38;5;241m=\u001B[39m \u001B[38;5;28;43mself\u001B[39;49m\u001B[38;5;241;43m.\u001B[39;49m\u001B[43m_next_data\u001B[49m\u001B[43m(\u001B[49m\u001B[43m)\u001B[49m\n\u001B[0;32m    629\u001B[0m \u001B[38;5;28mself\u001B[39m\u001B[38;5;241m.\u001B[39m_num_yielded \u001B[38;5;241m+\u001B[39m\u001B[38;5;241m=\u001B[39m \u001B[38;5;241m1\u001B[39m\n\u001B[0;32m    630\u001B[0m \u001B[38;5;28;01mif\u001B[39;00m \u001B[38;5;28mself\u001B[39m\u001B[38;5;241m.\u001B[39m_dataset_kind \u001B[38;5;241m==\u001B[39m _DatasetKind\u001B[38;5;241m.\u001B[39mIterable \u001B[38;5;129;01mand\u001B[39;00m \\\n\u001B[0;32m    631\u001B[0m         \u001B[38;5;28mself\u001B[39m\u001B[38;5;241m.\u001B[39m_IterableDataset_len_called \u001B[38;5;129;01mis\u001B[39;00m \u001B[38;5;129;01mnot\u001B[39;00m \u001B[38;5;28;01mNone\u001B[39;00m \u001B[38;5;129;01mand\u001B[39;00m \\\n\u001B[0;32m    632\u001B[0m         \u001B[38;5;28mself\u001B[39m\u001B[38;5;241m.\u001B[39m_num_yielded \u001B[38;5;241m>\u001B[39m \u001B[38;5;28mself\u001B[39m\u001B[38;5;241m.\u001B[39m_IterableDataset_len_called:\n",
      "File \u001B[1;32m~\\DataspellProjects\\SimCLRPytorch\\venv\\lib\\site-packages\\torch\\utils\\data\\dataloader.py:671\u001B[0m, in \u001B[0;36m_SingleProcessDataLoaderIter._next_data\u001B[1;34m(self)\u001B[0m\n\u001B[0;32m    669\u001B[0m \u001B[38;5;28;01mdef\u001B[39;00m \u001B[38;5;21m_next_data\u001B[39m(\u001B[38;5;28mself\u001B[39m):\n\u001B[0;32m    670\u001B[0m     index \u001B[38;5;241m=\u001B[39m \u001B[38;5;28mself\u001B[39m\u001B[38;5;241m.\u001B[39m_next_index()  \u001B[38;5;66;03m# may raise StopIteration\u001B[39;00m\n\u001B[1;32m--> 671\u001B[0m     data \u001B[38;5;241m=\u001B[39m \u001B[38;5;28;43mself\u001B[39;49m\u001B[38;5;241;43m.\u001B[39;49m\u001B[43m_dataset_fetcher\u001B[49m\u001B[38;5;241;43m.\u001B[39;49m\u001B[43mfetch\u001B[49m\u001B[43m(\u001B[49m\u001B[43mindex\u001B[49m\u001B[43m)\u001B[49m  \u001B[38;5;66;03m# may raise StopIteration\u001B[39;00m\n\u001B[0;32m    672\u001B[0m     \u001B[38;5;28;01mif\u001B[39;00m \u001B[38;5;28mself\u001B[39m\u001B[38;5;241m.\u001B[39m_pin_memory:\n\u001B[0;32m    673\u001B[0m         data \u001B[38;5;241m=\u001B[39m _utils\u001B[38;5;241m.\u001B[39mpin_memory\u001B[38;5;241m.\u001B[39mpin_memory(data, \u001B[38;5;28mself\u001B[39m\u001B[38;5;241m.\u001B[39m_pin_memory_device)\n",
      "File \u001B[1;32m~\\DataspellProjects\\SimCLRPytorch\\venv\\lib\\site-packages\\torch\\utils\\data\\_utils\\fetch.py:58\u001B[0m, in \u001B[0;36m_MapDatasetFetcher.fetch\u001B[1;34m(self, possibly_batched_index)\u001B[0m\n\u001B[0;32m     56\u001B[0m         data \u001B[38;5;241m=\u001B[39m \u001B[38;5;28mself\u001B[39m\u001B[38;5;241m.\u001B[39mdataset\u001B[38;5;241m.\u001B[39m__getitems__(possibly_batched_index)\n\u001B[0;32m     57\u001B[0m     \u001B[38;5;28;01melse\u001B[39;00m:\n\u001B[1;32m---> 58\u001B[0m         data \u001B[38;5;241m=\u001B[39m [\u001B[38;5;28mself\u001B[39m\u001B[38;5;241m.\u001B[39mdataset[idx] \u001B[38;5;28;01mfor\u001B[39;00m idx \u001B[38;5;129;01min\u001B[39;00m possibly_batched_index]\n\u001B[0;32m     59\u001B[0m \u001B[38;5;28;01melse\u001B[39;00m:\n\u001B[0;32m     60\u001B[0m     data \u001B[38;5;241m=\u001B[39m \u001B[38;5;28mself\u001B[39m\u001B[38;5;241m.\u001B[39mdataset[possibly_batched_index]\n",
      "File \u001B[1;32m~\\DataspellProjects\\SimCLRPytorch\\venv\\lib\\site-packages\\torch\\utils\\data\\_utils\\fetch.py:58\u001B[0m, in \u001B[0;36m<listcomp>\u001B[1;34m(.0)\u001B[0m\n\u001B[0;32m     56\u001B[0m         data \u001B[38;5;241m=\u001B[39m \u001B[38;5;28mself\u001B[39m\u001B[38;5;241m.\u001B[39mdataset\u001B[38;5;241m.\u001B[39m__getitems__(possibly_batched_index)\n\u001B[0;32m     57\u001B[0m     \u001B[38;5;28;01melse\u001B[39;00m:\n\u001B[1;32m---> 58\u001B[0m         data \u001B[38;5;241m=\u001B[39m [\u001B[38;5;28;43mself\u001B[39;49m\u001B[38;5;241;43m.\u001B[39;49m\u001B[43mdataset\u001B[49m\u001B[43m[\u001B[49m\u001B[43midx\u001B[49m\u001B[43m]\u001B[49m \u001B[38;5;28;01mfor\u001B[39;00m idx \u001B[38;5;129;01min\u001B[39;00m possibly_batched_index]\n\u001B[0;32m     59\u001B[0m \u001B[38;5;28;01melse\u001B[39;00m:\n\u001B[0;32m     60\u001B[0m     data \u001B[38;5;241m=\u001B[39m \u001B[38;5;28mself\u001B[39m\u001B[38;5;241m.\u001B[39mdataset[possibly_batched_index]\n",
      "File \u001B[1;32m~\\DataspellProjects\\SimCLRPytorch\\venv\\lib\\site-packages\\torchvision\\datasets\\cifar.py:118\u001B[0m, in \u001B[0;36mCIFAR10.__getitem__\u001B[1;34m(self, index)\u001B[0m\n\u001B[0;32m    115\u001B[0m img \u001B[38;5;241m=\u001B[39m Image\u001B[38;5;241m.\u001B[39mfromarray(img)\n\u001B[0;32m    117\u001B[0m \u001B[38;5;28;01mif\u001B[39;00m \u001B[38;5;28mself\u001B[39m\u001B[38;5;241m.\u001B[39mtransform \u001B[38;5;129;01mis\u001B[39;00m \u001B[38;5;129;01mnot\u001B[39;00m \u001B[38;5;28;01mNone\u001B[39;00m:\n\u001B[1;32m--> 118\u001B[0m     img \u001B[38;5;241m=\u001B[39m \u001B[38;5;28;43mself\u001B[39;49m\u001B[38;5;241;43m.\u001B[39;49m\u001B[43mtransform\u001B[49m\u001B[43m(\u001B[49m\u001B[43mimg\u001B[49m\u001B[43m)\u001B[49m\n\u001B[0;32m    120\u001B[0m \u001B[38;5;28;01mif\u001B[39;00m \u001B[38;5;28mself\u001B[39m\u001B[38;5;241m.\u001B[39mtarget_transform \u001B[38;5;129;01mis\u001B[39;00m \u001B[38;5;129;01mnot\u001B[39;00m \u001B[38;5;28;01mNone\u001B[39;00m:\n\u001B[0;32m    121\u001B[0m     target \u001B[38;5;241m=\u001B[39m \u001B[38;5;28mself\u001B[39m\u001B[38;5;241m.\u001B[39mtarget_transform(target)\n",
      "File \u001B[1;32m~\\DataspellProjects\\SimCLRPytorch\\venv\\lib\\site-packages\\torchvision\\transforms\\transforms.py:95\u001B[0m, in \u001B[0;36mCompose.__call__\u001B[1;34m(self, img)\u001B[0m\n\u001B[0;32m     93\u001B[0m \u001B[38;5;28;01mdef\u001B[39;00m \u001B[38;5;21m__call__\u001B[39m(\u001B[38;5;28mself\u001B[39m, img):\n\u001B[0;32m     94\u001B[0m     \u001B[38;5;28;01mfor\u001B[39;00m t \u001B[38;5;129;01min\u001B[39;00m \u001B[38;5;28mself\u001B[39m\u001B[38;5;241m.\u001B[39mtransforms:\n\u001B[1;32m---> 95\u001B[0m         img \u001B[38;5;241m=\u001B[39m \u001B[43mt\u001B[49m\u001B[43m(\u001B[49m\u001B[43mimg\u001B[49m\u001B[43m)\u001B[49m\n\u001B[0;32m     96\u001B[0m     \u001B[38;5;28;01mreturn\u001B[39;00m img\n",
      "File \u001B[1;32m~\\DataspellProjects\\SimCLRPytorch\\venv\\lib\\site-packages\\torch\\nn\\modules\\module.py:1190\u001B[0m, in \u001B[0;36mModule._call_impl\u001B[1;34m(self, *input, **kwargs)\u001B[0m\n\u001B[0;32m   1186\u001B[0m \u001B[38;5;66;03m# If we don't have any hooks, we want to skip the rest of the logic in\u001B[39;00m\n\u001B[0;32m   1187\u001B[0m \u001B[38;5;66;03m# this function, and just call forward.\u001B[39;00m\n\u001B[0;32m   1188\u001B[0m \u001B[38;5;28;01mif\u001B[39;00m \u001B[38;5;129;01mnot\u001B[39;00m (\u001B[38;5;28mself\u001B[39m\u001B[38;5;241m.\u001B[39m_backward_hooks \u001B[38;5;129;01mor\u001B[39;00m \u001B[38;5;28mself\u001B[39m\u001B[38;5;241m.\u001B[39m_forward_hooks \u001B[38;5;129;01mor\u001B[39;00m \u001B[38;5;28mself\u001B[39m\u001B[38;5;241m.\u001B[39m_forward_pre_hooks \u001B[38;5;129;01mor\u001B[39;00m _global_backward_hooks\n\u001B[0;32m   1189\u001B[0m         \u001B[38;5;129;01mor\u001B[39;00m _global_forward_hooks \u001B[38;5;129;01mor\u001B[39;00m _global_forward_pre_hooks):\n\u001B[1;32m-> 1190\u001B[0m     \u001B[38;5;28;01mreturn\u001B[39;00m \u001B[43mforward_call\u001B[49m\u001B[43m(\u001B[49m\u001B[38;5;241;43m*\u001B[39;49m\u001B[38;5;28;43minput\u001B[39;49m\u001B[43m,\u001B[49m\u001B[43m \u001B[49m\u001B[38;5;241;43m*\u001B[39;49m\u001B[38;5;241;43m*\u001B[39;49m\u001B[43mkwargs\u001B[49m\u001B[43m)\u001B[49m\n\u001B[0;32m   1191\u001B[0m \u001B[38;5;66;03m# Do not call functions when jit is used\u001B[39;00m\n\u001B[0;32m   1192\u001B[0m full_backward_hooks, non_full_backward_hooks \u001B[38;5;241m=\u001B[39m [], []\n",
      "File \u001B[1;32m~\\DataspellProjects\\SimCLRPytorch\\venv\\lib\\site-packages\\torchvision\\transforms\\transforms.py:1799\u001B[0m, in \u001B[0;36mGaussianBlur.forward\u001B[1;34m(self, img)\u001B[0m\n\u001B[0;32m   1791\u001B[0m \u001B[38;5;124;03m\"\"\"\u001B[39;00m\n\u001B[0;32m   1792\u001B[0m \u001B[38;5;124;03mArgs:\u001B[39;00m\n\u001B[0;32m   1793\u001B[0m \u001B[38;5;124;03m    img (PIL Image or Tensor): image to be blurred.\u001B[39;00m\n\u001B[1;32m   (...)\u001B[0m\n\u001B[0;32m   1796\u001B[0m \u001B[38;5;124;03m    PIL Image or Tensor: Gaussian blurred image\u001B[39;00m\n\u001B[0;32m   1797\u001B[0m \u001B[38;5;124;03m\"\"\"\u001B[39;00m\n\u001B[0;32m   1798\u001B[0m sigma \u001B[38;5;241m=\u001B[39m \u001B[38;5;28mself\u001B[39m\u001B[38;5;241m.\u001B[39mget_params(\u001B[38;5;28mself\u001B[39m\u001B[38;5;241m.\u001B[39msigma[\u001B[38;5;241m0\u001B[39m], \u001B[38;5;28mself\u001B[39m\u001B[38;5;241m.\u001B[39msigma[\u001B[38;5;241m1\u001B[39m])\n\u001B[1;32m-> 1799\u001B[0m \u001B[38;5;28;01mreturn\u001B[39;00m \u001B[43mF\u001B[49m\u001B[38;5;241;43m.\u001B[39;49m\u001B[43mgaussian_blur\u001B[49m\u001B[43m(\u001B[49m\u001B[43mimg\u001B[49m\u001B[43m,\u001B[49m\u001B[43m \u001B[49m\u001B[38;5;28;43mself\u001B[39;49m\u001B[38;5;241;43m.\u001B[39;49m\u001B[43mkernel_size\u001B[49m\u001B[43m,\u001B[49m\u001B[43m \u001B[49m\u001B[43m[\u001B[49m\u001B[43msigma\u001B[49m\u001B[43m,\u001B[49m\u001B[43m \u001B[49m\u001B[43msigma\u001B[49m\u001B[43m]\u001B[49m\u001B[43m)\u001B[49m\n",
      "File \u001B[1;32m~\\DataspellProjects\\SimCLRPytorch\\venv\\lib\\site-packages\\torchvision\\transforms\\functional.py:1366\u001B[0m, in \u001B[0;36mgaussian_blur\u001B[1;34m(img, kernel_size, sigma)\u001B[0m\n\u001B[0;32m   1362\u001B[0m         \u001B[38;5;28;01mraise\u001B[39;00m \u001B[38;5;167;01mTypeError\u001B[39;00m(\u001B[38;5;124mf\u001B[39m\u001B[38;5;124m\"\u001B[39m\u001B[38;5;124mimg should be PIL Image or Tensor. Got \u001B[39m\u001B[38;5;132;01m{\u001B[39;00m\u001B[38;5;28mtype\u001B[39m(img)\u001B[38;5;132;01m}\u001B[39;00m\u001B[38;5;124m\"\u001B[39m)\n\u001B[0;32m   1364\u001B[0m     t_img \u001B[38;5;241m=\u001B[39m pil_to_tensor(img)\n\u001B[1;32m-> 1366\u001B[0m output \u001B[38;5;241m=\u001B[39m \u001B[43mF_t\u001B[49m\u001B[38;5;241;43m.\u001B[39;49m\u001B[43mgaussian_blur\u001B[49m\u001B[43m(\u001B[49m\u001B[43mt_img\u001B[49m\u001B[43m,\u001B[49m\u001B[43m \u001B[49m\u001B[43mkernel_size\u001B[49m\u001B[43m,\u001B[49m\u001B[43m \u001B[49m\u001B[43msigma\u001B[49m\u001B[43m)\u001B[49m\n\u001B[0;32m   1368\u001B[0m \u001B[38;5;28;01mif\u001B[39;00m \u001B[38;5;129;01mnot\u001B[39;00m \u001B[38;5;28misinstance\u001B[39m(img, torch\u001B[38;5;241m.\u001B[39mTensor):\n\u001B[0;32m   1369\u001B[0m     output \u001B[38;5;241m=\u001B[39m to_pil_image(output, mode\u001B[38;5;241m=\u001B[39mimg\u001B[38;5;241m.\u001B[39mmode)\n",
      "File \u001B[1;32m~\\DataspellProjects\\SimCLRPytorch\\venv\\lib\\site-packages\\torchvision\\transforms\\functional_tensor.py:755\u001B[0m, in \u001B[0;36mgaussian_blur\u001B[1;34m(img, kernel_size, sigma)\u001B[0m\n\u001B[0;32m    752\u001B[0m _assert_image_tensor(img)\n\u001B[0;32m    754\u001B[0m dtype \u001B[38;5;241m=\u001B[39m img\u001B[38;5;241m.\u001B[39mdtype \u001B[38;5;28;01mif\u001B[39;00m torch\u001B[38;5;241m.\u001B[39mis_floating_point(img) \u001B[38;5;28;01melse\u001B[39;00m torch\u001B[38;5;241m.\u001B[39mfloat32\n\u001B[1;32m--> 755\u001B[0m kernel \u001B[38;5;241m=\u001B[39m \u001B[43m_get_gaussian_kernel2d\u001B[49m\u001B[43m(\u001B[49m\u001B[43mkernel_size\u001B[49m\u001B[43m,\u001B[49m\u001B[43m \u001B[49m\u001B[43msigma\u001B[49m\u001B[43m,\u001B[49m\u001B[43m \u001B[49m\u001B[43mdtype\u001B[49m\u001B[38;5;241;43m=\u001B[39;49m\u001B[43mdtype\u001B[49m\u001B[43m,\u001B[49m\u001B[43m \u001B[49m\u001B[43mdevice\u001B[49m\u001B[38;5;241;43m=\u001B[39;49m\u001B[43mimg\u001B[49m\u001B[38;5;241;43m.\u001B[39;49m\u001B[43mdevice\u001B[49m\u001B[43m)\u001B[49m\n\u001B[0;32m    756\u001B[0m kernel \u001B[38;5;241m=\u001B[39m kernel\u001B[38;5;241m.\u001B[39mexpand(img\u001B[38;5;241m.\u001B[39mshape[\u001B[38;5;241m-\u001B[39m\u001B[38;5;241m3\u001B[39m], \u001B[38;5;241m1\u001B[39m, kernel\u001B[38;5;241m.\u001B[39mshape[\u001B[38;5;241m0\u001B[39m], kernel\u001B[38;5;241m.\u001B[39mshape[\u001B[38;5;241m1\u001B[39m])\n\u001B[0;32m    758\u001B[0m img, need_cast, need_squeeze, out_dtype \u001B[38;5;241m=\u001B[39m _cast_squeeze_in(\n\u001B[0;32m    759\u001B[0m     img,\n\u001B[0;32m    760\u001B[0m     [\n\u001B[0;32m    761\u001B[0m         kernel\u001B[38;5;241m.\u001B[39mdtype,\n\u001B[0;32m    762\u001B[0m     ],\n\u001B[0;32m    763\u001B[0m )\n",
      "File \u001B[1;32m~\\DataspellProjects\\SimCLRPytorch\\venv\\lib\\site-packages\\torchvision\\transforms\\functional_tensor.py:744\u001B[0m, in \u001B[0;36m_get_gaussian_kernel2d\u001B[1;34m(kernel_size, sigma, dtype, device)\u001B[0m\n\u001B[0;32m    742\u001B[0m kernel1d_x \u001B[38;5;241m=\u001B[39m _get_gaussian_kernel1d(kernel_size[\u001B[38;5;241m0\u001B[39m], sigma[\u001B[38;5;241m0\u001B[39m])\u001B[38;5;241m.\u001B[39mto(device, dtype\u001B[38;5;241m=\u001B[39mdtype)\n\u001B[0;32m    743\u001B[0m kernel1d_y \u001B[38;5;241m=\u001B[39m _get_gaussian_kernel1d(kernel_size[\u001B[38;5;241m1\u001B[39m], sigma[\u001B[38;5;241m1\u001B[39m])\u001B[38;5;241m.\u001B[39mto(device, dtype\u001B[38;5;241m=\u001B[39mdtype)\n\u001B[1;32m--> 744\u001B[0m kernel2d \u001B[38;5;241m=\u001B[39m \u001B[43mtorch\u001B[49m\u001B[38;5;241;43m.\u001B[39;49m\u001B[43mmm\u001B[49m\u001B[43m(\u001B[49m\u001B[43mkernel1d_y\u001B[49m\u001B[43m[\u001B[49m\u001B[43m:\u001B[49m\u001B[43m,\u001B[49m\u001B[43m \u001B[49m\u001B[38;5;28;43;01mNone\u001B[39;49;00m\u001B[43m]\u001B[49m\u001B[43m,\u001B[49m\u001B[43m \u001B[49m\u001B[43mkernel1d_x\u001B[49m\u001B[43m[\u001B[49m\u001B[38;5;28;43;01mNone\u001B[39;49;00m\u001B[43m,\u001B[49m\u001B[43m \u001B[49m\u001B[43m:\u001B[49m\u001B[43m]\u001B[49m\u001B[43m)\u001B[49m\n\u001B[0;32m    745\u001B[0m \u001B[38;5;28;01mreturn\u001B[39;00m kernel2d\n",
      "\u001B[1;31mKeyboardInterrupt\u001B[0m: "
     ]
    }
   ],
   "source": [
    "optimizer = torch.optim.Adam(model.parameters(), 0.0003, weight_decay=1e-4)\n",
    "\n",
    "scheduler = torch.optim.lr_scheduler.CosineAnnealingLR(optimizer, T_max=len(train_loader_1), eta_min=0,\n",
    "                                                       last_epoch=-1)\n",
    "\n",
    "with torch.cuda.device(gpu_index):\n",
    "    pre_trainer = PreTrainer(model=model, optimizer=optimizer, scheduler=scheduler, device=device, epochs=200, log_every_n_steps=100,\n",
    "                        log_dir=f'runs/Pretraining_CIFAR10_{datetime.now().strftime(\"%d-%m-%Y_%H-%M\")}')\n",
    "    pre_trainer.train(train_loader_1, shuffle=True)"
   ],
   "metadata": {
    "collapsed": false
   }
  },
  {
   "cell_type": "code",
   "execution_count": 8,
   "outputs": [],
   "source": [
    "torch.save(model.state_dict(), 'saved_models/pretraining/pretrained_cifar10.pth')"
   ],
   "metadata": {
    "collapsed": false
   }
  },
  {
   "cell_type": "code",
   "execution_count": null,
   "outputs": [],
   "source": [],
   "metadata": {
    "collapsed": false
   }
  }
 ],
 "metadata": {
  "kernelspec": {
   "display_name": "Python 3",
   "language": "python",
   "name": "python3"
  },
  "language_info": {
   "codemirror_mode": {
    "name": "ipython",
    "version": 2
   },
   "file_extension": ".py",
   "mimetype": "text/x-python",
   "name": "python",
   "nbconvert_exporter": "python",
   "pygments_lexer": "ipython2",
   "version": "2.7.6"
  }
 },
 "nbformat": 4,
 "nbformat_minor": 0
}
