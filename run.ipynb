{
 "cells": [
  {
   "cell_type": "code",
   "execution_count": 1,
   "metadata": {
    "collapsed": true
   },
   "outputs": [],
   "source": [
    "from model.model import ConvModel, SimCLR\n",
    "import argparse\n",
    "import torch\n",
    "import torch.backends.cudnn as cudnn\n",
    "from torchvision import models\n",
    "from torchvision import transforms, datasets\n"
   ]
  },
  {
   "cell_type": "code",
   "execution_count": 2,
   "outputs": [],
   "source": [
    "if torch.cuda.is_available():\n",
    "    device = torch.device('cuda')\n",
    "    cudnn.deterministic = True\n",
    "    cudnn.benchmark = True\n",
    "    gpu_index = 0\n",
    "else:\n",
    "    device = torch.device('cpu')\n",
    "    gpu_index = -1\n"
   ],
   "metadata": {
    "collapsed": false
   }
  },
  {
   "cell_type": "code",
   "execution_count": 5,
   "outputs": [],
   "source": [
    "composed_transforms = transforms.Compose([\n",
    "        transforms.GaussianBlur(kernel_size=3),\n",
    "      transforms.RandomRotation(degrees=10), # TODO\n",
    "      transforms.RandomGrayscale(p=0.2),\n",
    "      transforms.ToTensor()])"
   ],
   "metadata": {
    "collapsed": false
   }
  },
  {
   "cell_type": "code",
   "execution_count": 6,
   "outputs": [
    {
     "data": {
      "text/plain": "<torch._C.Generator at 0x1f9266935f0>"
     },
     "execution_count": 6,
     "metadata": {},
     "output_type": "execute_result"
    }
   ],
   "source": [
    "train_dataset = datasets.MNIST('./datasets', train=True,\n",
    "                               transform=composed_transforms,\n",
    "                               download=True)\n",
    "val_dataset = datasets.MNIST('./datasets', download=True, transform=transforms.ToTensor())\n",
    "g = torch.Generator()\n",
    "g.manual_seed(0)"
   ],
   "metadata": {
    "collapsed": false
   }
  },
  {
   "cell_type": "code",
   "execution_count": 7,
   "outputs": [],
   "source": [
    "train_loader = torch.utils.data.DataLoader(\n",
    "    train_dataset, batch_size=256, shuffle=False,\n",
    "     pin_memory=True, drop_last=True, generator=g)\n",
    "val_loader = torch.utils.data.DataLoader(val_dataset, batch_size=256, shuffle=True)"
   ],
   "metadata": {
    "collapsed": false
   }
  },
  {
   "cell_type": "code",
   "execution_count": 8,
   "outputs": [
    {
     "name": "stderr",
     "output_type": "stream",
     "text": [
      "C:\\Users\\kacpe\\DataspellProjects\\SimCLRPytorch\\venv\\lib\\site-packages\\torchvision\\models\\_utils.py:208: UserWarning: The parameter 'pretrained' is deprecated since 0.13 and may be removed in the future, please use 'weights' instead.\n",
      "  warnings.warn(\n",
      "C:\\Users\\kacpe\\DataspellProjects\\SimCLRPytorch\\venv\\lib\\site-packages\\torchvision\\models\\_utils.py:223: UserWarning: Arguments other than a weight enum or `None` for 'weights' are deprecated since 0.13 and may be removed in the future. The current behavior is equivalent to passing `weights=None`.\n",
      "  warnings.warn(msg)\n"
     ]
    }
   ],
   "source": [
    "model = ConvModel(out_dim=10)\n",
    "\n",
    "# model.load_state_dict(torch.load('saved_models/model_01_no_aug_random_labels.pth'))\n"
   ],
   "metadata": {
    "collapsed": false
   }
  },
  {
   "cell_type": "code",
   "execution_count": 9,
   "outputs": [
    {
     "name": "stderr",
     "output_type": "stream",
     "text": [
      "  0%|          | 0/234 [00:00<?, ?it/s]C:\\Users\\kacpe\\DataspellProjects\\SimCLRPytorch\\venv\\lib\\site-packages\\torch\\optim\\lr_scheduler.py:807: UserWarning: To get the last learning rate computed by the scheduler, please use `get_last_lr()`.\n",
      "  warnings.warn(\"To get the last learning rate computed by the scheduler, \"\n",
      "100%|██████████| 234/234 [00:36<00:00,  6.41it/s]\n",
      "100%|██████████| 234/234 [00:30<00:00,  7.71it/s]\n",
      "100%|██████████| 234/234 [00:29<00:00,  7.84it/s]\n",
      "100%|██████████| 234/234 [00:29<00:00,  7.87it/s]\n",
      "100%|██████████| 234/234 [00:29<00:00,  7.94it/s]\n",
      "100%|██████████| 234/234 [00:30<00:00,  7.79it/s]\n",
      "100%|██████████| 234/234 [00:30<00:00,  7.67it/s]\n",
      "100%|██████████| 234/234 [00:29<00:00,  7.88it/s]\n",
      "100%|██████████| 234/234 [00:35<00:00,  6.66it/s]\n",
      "100%|██████████| 234/234 [00:32<00:00,  7.11it/s]\n",
      "100%|██████████| 234/234 [00:29<00:00,  7.92it/s]\n",
      "100%|██████████| 234/234 [00:31<00:00,  7.52it/s]\n",
      "100%|██████████| 234/234 [00:30<00:00,  7.72it/s]\n",
      "100%|██████████| 234/234 [00:30<00:00,  7.74it/s]\n",
      "100%|██████████| 234/234 [00:29<00:00,  7.86it/s]\n",
      "100%|██████████| 234/234 [00:30<00:00,  7.70it/s]\n",
      "100%|██████████| 234/234 [00:30<00:00,  7.77it/s]\n",
      "100%|██████████| 234/234 [00:29<00:00,  7.82it/s]\n",
      "100%|██████████| 234/234 [00:30<00:00,  7.65it/s]\n",
      "100%|██████████| 234/234 [00:29<00:00,  7.82it/s]\n",
      "100%|██████████| 234/234 [00:29<00:00,  7.91it/s]\n",
      "100%|██████████| 234/234 [00:29<00:00,  7.95it/s]\n",
      "100%|██████████| 234/234 [00:29<00:00,  7.99it/s]\n",
      "100%|██████████| 234/234 [00:29<00:00,  7.96it/s]\n",
      "100%|██████████| 234/234 [00:28<00:00,  8.08it/s]\n",
      "100%|██████████| 234/234 [00:29<00:00,  7.87it/s]\n",
      "100%|██████████| 234/234 [00:30<00:00,  7.64it/s]\n",
      "100%|██████████| 234/234 [00:30<00:00,  7.78it/s]\n",
      "100%|██████████| 234/234 [00:29<00:00,  7.89it/s]\n",
      "100%|██████████| 234/234 [00:30<00:00,  7.72it/s]\n",
      "100%|██████████| 234/234 [00:29<00:00,  7.98it/s]\n",
      "100%|██████████| 234/234 [00:30<00:00,  7.63it/s]\n",
      "100%|██████████| 234/234 [00:30<00:00,  7.73it/s]\n",
      "100%|██████████| 234/234 [00:29<00:00,  7.91it/s]\n",
      "100%|██████████| 234/234 [00:29<00:00,  7.83it/s]\n",
      "100%|██████████| 234/234 [00:29<00:00,  7.81it/s]\n",
      "100%|██████████| 234/234 [00:30<00:00,  7.65it/s]\n",
      "100%|██████████| 234/234 [00:30<00:00,  7.79it/s]\n",
      "100%|██████████| 234/234 [00:30<00:00,  7.78it/s]\n",
      "100%|██████████| 234/234 [00:29<00:00,  7.80it/s]\n",
      "100%|██████████| 234/234 [00:30<00:00,  7.63it/s]\n",
      "100%|██████████| 234/234 [00:30<00:00,  7.64it/s]\n",
      "100%|██████████| 234/234 [00:30<00:00,  7.62it/s]\n",
      "100%|██████████| 234/234 [00:30<00:00,  7.74it/s]\n",
      "100%|██████████| 234/234 [00:30<00:00,  7.66it/s]\n",
      "100%|██████████| 234/234 [00:29<00:00,  7.81it/s]\n",
      "100%|██████████| 234/234 [00:30<00:00,  7.69it/s]\n",
      "100%|██████████| 234/234 [00:30<00:00,  7.69it/s]\n",
      "100%|██████████| 234/234 [00:30<00:00,  7.78it/s]\n",
      "100%|██████████| 234/234 [00:30<00:00,  7.79it/s]\n",
      "100%|██████████| 234/234 [00:29<00:00,  7.84it/s]\n",
      "100%|██████████| 234/234 [00:29<00:00,  7.85it/s]\n",
      "100%|██████████| 234/234 [00:29<00:00,  7.83it/s]\n",
      "100%|██████████| 234/234 [00:29<00:00,  7.90it/s]\n",
      "100%|██████████| 234/234 [00:29<00:00,  7.94it/s]\n",
      "100%|██████████| 234/234 [00:29<00:00,  7.84it/s]\n",
      "100%|██████████| 234/234 [00:29<00:00,  7.89it/s]\n",
      "100%|██████████| 234/234 [00:30<00:00,  7.67it/s]\n",
      "100%|██████████| 234/234 [00:31<00:00,  7.54it/s]\n",
      "100%|██████████| 234/234 [00:30<00:00,  7.71it/s]\n",
      "100%|██████████| 234/234 [00:29<00:00,  7.80it/s]\n",
      "100%|██████████| 234/234 [00:29<00:00,  7.82it/s]\n",
      "100%|██████████| 234/234 [00:29<00:00,  7.92it/s]\n",
      "100%|██████████| 234/234 [00:29<00:00,  7.86it/s]\n",
      "100%|██████████| 234/234 [00:30<00:00,  7.74it/s]\n",
      "100%|██████████| 234/234 [00:30<00:00,  7.66it/s]\n",
      "100%|██████████| 234/234 [00:29<00:00,  7.82it/s]\n",
      "100%|██████████| 234/234 [00:30<00:00,  7.68it/s]\n",
      "100%|██████████| 234/234 [00:30<00:00,  7.63it/s]\n",
      "100%|██████████| 234/234 [00:30<00:00,  7.71it/s]\n",
      "100%|██████████| 234/234 [00:30<00:00,  7.57it/s]\n",
      "100%|██████████| 234/234 [00:29<00:00,  7.90it/s]\n",
      "100%|██████████| 234/234 [00:29<00:00,  7.85it/s]\n",
      "100%|██████████| 234/234 [00:30<00:00,  7.64it/s]\n",
      "100%|██████████| 234/234 [00:30<00:00,  7.65it/s]\n",
      "100%|██████████| 234/234 [00:30<00:00,  7.64it/s]\n",
      "100%|██████████| 234/234 [00:30<00:00,  7.73it/s]\n",
      "100%|██████████| 234/234 [00:30<00:00,  7.64it/s]\n",
      "100%|██████████| 234/234 [00:29<00:00,  7.84it/s]\n",
      "100%|██████████| 234/234 [00:29<00:00,  7.85it/s]\n",
      "100%|██████████| 234/234 [00:29<00:00,  7.89it/s]\n",
      "100%|██████████| 234/234 [00:29<00:00,  7.82it/s]\n",
      "100%|██████████| 234/234 [00:29<00:00,  7.86it/s]\n",
      "100%|██████████| 234/234 [00:29<00:00,  7.95it/s]\n",
      "100%|██████████| 234/234 [00:29<00:00,  7.87it/s]\n",
      "100%|██████████| 234/234 [00:29<00:00,  7.84it/s]\n",
      "100%|██████████| 234/234 [00:29<00:00,  7.90it/s]\n",
      "100%|██████████| 234/234 [00:29<00:00,  7.88it/s]\n",
      "100%|██████████| 234/234 [00:29<00:00,  7.83it/s]\n",
      "100%|██████████| 234/234 [00:30<00:00,  7.79it/s]\n",
      "100%|██████████| 234/234 [00:30<00:00,  7.75it/s]\n",
      "100%|██████████| 234/234 [00:31<00:00,  7.54it/s]\n",
      "100%|██████████| 234/234 [00:29<00:00,  7.90it/s]\n",
      "100%|██████████| 234/234 [00:29<00:00,  7.92it/s]\n",
      "100%|██████████| 234/234 [00:29<00:00,  7.92it/s]\n",
      "100%|██████████| 234/234 [00:29<00:00,  7.84it/s]\n",
      "100%|██████████| 234/234 [00:29<00:00,  7.87it/s]\n",
      "100%|██████████| 234/234 [00:29<00:00,  7.86it/s]\n",
      "100%|██████████| 234/234 [00:29<00:00,  7.95it/s]\n",
      "100%|██████████| 234/234 [00:29<00:00,  7.86it/s]\n"
     ]
    }
   ],
   "source": [
    "optimizer = torch.optim.Adam(model.parameters(), 0.0003, weight_decay=1e-4)\n",
    "\n",
    "scheduler = torch.optim.lr_scheduler.CosineAnnealingLR(optimizer, T_max=len(train_loader), eta_min=0,\n",
    "                                                       last_epoch=-1)\n",
    "\n",
    "with torch.cuda.device(gpu_index):\n",
    "    simclr = SimCLR(model=model, optimizer=optimizer, scheduler=scheduler, device=device, epochs=100, log_every_n_steps=100)\n",
    "    simclr.train(train_loader, shuffle=True)"
   ],
   "metadata": {
    "collapsed": false
   }
  },
  {
   "cell_type": "code",
   "execution_count": 10,
   "outputs": [],
   "source": [
    "torch.save(model.state_dict(), 'saved_models/model_final.pth')"
   ],
   "metadata": {
    "collapsed": false
   }
  },
  {
   "cell_type": "code",
   "execution_count": 17,
   "outputs": [
    {
     "data": {
      "text/plain": "ConvModel(\n  (resnet_model): ResNet(\n    (conv1): Conv2d(1, 64, kernel_size=(7, 7), stride=(2, 2), padding=(3, 3), bias=False)\n    (bn1): BatchNorm2d(64, eps=1e-05, momentum=0.1, affine=True, track_running_stats=True)\n    (relu): ReLU(inplace=True)\n    (maxpool): MaxPool2d(kernel_size=3, stride=2, padding=1, dilation=1, ceil_mode=False)\n    (layer1): Sequential(\n      (0): BasicBlock(\n        (conv1): Conv2d(64, 64, kernel_size=(3, 3), stride=(1, 1), padding=(1, 1), bias=False)\n        (bn1): BatchNorm2d(64, eps=1e-05, momentum=0.1, affine=True, track_running_stats=True)\n        (relu): ReLU(inplace=True)\n        (conv2): Conv2d(64, 64, kernel_size=(3, 3), stride=(1, 1), padding=(1, 1), bias=False)\n        (bn2): BatchNorm2d(64, eps=1e-05, momentum=0.1, affine=True, track_running_stats=True)\n      )\n      (1): BasicBlock(\n        (conv1): Conv2d(64, 64, kernel_size=(3, 3), stride=(1, 1), padding=(1, 1), bias=False)\n        (bn1): BatchNorm2d(64, eps=1e-05, momentum=0.1, affine=True, track_running_stats=True)\n        (relu): ReLU(inplace=True)\n        (conv2): Conv2d(64, 64, kernel_size=(3, 3), stride=(1, 1), padding=(1, 1), bias=False)\n        (bn2): BatchNorm2d(64, eps=1e-05, momentum=0.1, affine=True, track_running_stats=True)\n      )\n    )\n    (layer2): Sequential(\n      (0): BasicBlock(\n        (conv1): Conv2d(64, 128, kernel_size=(3, 3), stride=(2, 2), padding=(1, 1), bias=False)\n        (bn1): BatchNorm2d(128, eps=1e-05, momentum=0.1, affine=True, track_running_stats=True)\n        (relu): ReLU(inplace=True)\n        (conv2): Conv2d(128, 128, kernel_size=(3, 3), stride=(1, 1), padding=(1, 1), bias=False)\n        (bn2): BatchNorm2d(128, eps=1e-05, momentum=0.1, affine=True, track_running_stats=True)\n        (downsample): Sequential(\n          (0): Conv2d(64, 128, kernel_size=(1, 1), stride=(2, 2), bias=False)\n          (1): BatchNorm2d(128, eps=1e-05, momentum=0.1, affine=True, track_running_stats=True)\n        )\n      )\n      (1): BasicBlock(\n        (conv1): Conv2d(128, 128, kernel_size=(3, 3), stride=(1, 1), padding=(1, 1), bias=False)\n        (bn1): BatchNorm2d(128, eps=1e-05, momentum=0.1, affine=True, track_running_stats=True)\n        (relu): ReLU(inplace=True)\n        (conv2): Conv2d(128, 128, kernel_size=(3, 3), stride=(1, 1), padding=(1, 1), bias=False)\n        (bn2): BatchNorm2d(128, eps=1e-05, momentum=0.1, affine=True, track_running_stats=True)\n      )\n    )\n    (layer3): Sequential(\n      (0): BasicBlock(\n        (conv1): Conv2d(128, 256, kernel_size=(3, 3), stride=(2, 2), padding=(1, 1), bias=False)\n        (bn1): BatchNorm2d(256, eps=1e-05, momentum=0.1, affine=True, track_running_stats=True)\n        (relu): ReLU(inplace=True)\n        (conv2): Conv2d(256, 256, kernel_size=(3, 3), stride=(1, 1), padding=(1, 1), bias=False)\n        (bn2): BatchNorm2d(256, eps=1e-05, momentum=0.1, affine=True, track_running_stats=True)\n        (downsample): Sequential(\n          (0): Conv2d(128, 256, kernel_size=(1, 1), stride=(2, 2), bias=False)\n          (1): BatchNorm2d(256, eps=1e-05, momentum=0.1, affine=True, track_running_stats=True)\n        )\n      )\n      (1): BasicBlock(\n        (conv1): Conv2d(256, 256, kernel_size=(3, 3), stride=(1, 1), padding=(1, 1), bias=False)\n        (bn1): BatchNorm2d(256, eps=1e-05, momentum=0.1, affine=True, track_running_stats=True)\n        (relu): ReLU(inplace=True)\n        (conv2): Conv2d(256, 256, kernel_size=(3, 3), stride=(1, 1), padding=(1, 1), bias=False)\n        (bn2): BatchNorm2d(256, eps=1e-05, momentum=0.1, affine=True, track_running_stats=True)\n      )\n    )\n    (layer4): Sequential(\n      (0): BasicBlock(\n        (conv1): Conv2d(256, 512, kernel_size=(3, 3), stride=(2, 2), padding=(1, 1), bias=False)\n        (bn1): BatchNorm2d(512, eps=1e-05, momentum=0.1, affine=True, track_running_stats=True)\n        (relu): ReLU(inplace=True)\n        (conv2): Conv2d(512, 512, kernel_size=(3, 3), stride=(1, 1), padding=(1, 1), bias=False)\n        (bn2): BatchNorm2d(512, eps=1e-05, momentum=0.1, affine=True, track_running_stats=True)\n        (downsample): Sequential(\n          (0): Conv2d(256, 512, kernel_size=(1, 1), stride=(2, 2), bias=False)\n          (1): BatchNorm2d(512, eps=1e-05, momentum=0.1, affine=True, track_running_stats=True)\n        )\n      )\n      (1): BasicBlock(\n        (conv1): Conv2d(512, 512, kernel_size=(3, 3), stride=(1, 1), padding=(1, 1), bias=False)\n        (bn1): BatchNorm2d(512, eps=1e-05, momentum=0.1, affine=True, track_running_stats=True)\n        (relu): ReLU(inplace=True)\n        (conv2): Conv2d(512, 512, kernel_size=(3, 3), stride=(1, 1), padding=(1, 1), bias=False)\n        (bn2): BatchNorm2d(512, eps=1e-05, momentum=0.1, affine=True, track_running_stats=True)\n      )\n    )\n    (avgpool): AdaptiveAvgPool2d(output_size=(1, 1))\n    (fc): Linear(in_features=512, out_features=10, bias=True)\n  )\n  (backbone): ResNet(\n    (conv1): Conv2d(1, 64, kernel_size=(7, 7), stride=(2, 2), padding=(3, 3), bias=False)\n    (bn1): BatchNorm2d(64, eps=1e-05, momentum=0.1, affine=True, track_running_stats=True)\n    (relu): ReLU(inplace=True)\n    (maxpool): MaxPool2d(kernel_size=3, stride=2, padding=1, dilation=1, ceil_mode=False)\n    (layer1): Sequential(\n      (0): BasicBlock(\n        (conv1): Conv2d(64, 64, kernel_size=(3, 3), stride=(1, 1), padding=(1, 1), bias=False)\n        (bn1): BatchNorm2d(64, eps=1e-05, momentum=0.1, affine=True, track_running_stats=True)\n        (relu): ReLU(inplace=True)\n        (conv2): Conv2d(64, 64, kernel_size=(3, 3), stride=(1, 1), padding=(1, 1), bias=False)\n        (bn2): BatchNorm2d(64, eps=1e-05, momentum=0.1, affine=True, track_running_stats=True)\n      )\n      (1): BasicBlock(\n        (conv1): Conv2d(64, 64, kernel_size=(3, 3), stride=(1, 1), padding=(1, 1), bias=False)\n        (bn1): BatchNorm2d(64, eps=1e-05, momentum=0.1, affine=True, track_running_stats=True)\n        (relu): ReLU(inplace=True)\n        (conv2): Conv2d(64, 64, kernel_size=(3, 3), stride=(1, 1), padding=(1, 1), bias=False)\n        (bn2): BatchNorm2d(64, eps=1e-05, momentum=0.1, affine=True, track_running_stats=True)\n      )\n    )\n    (layer2): Sequential(\n      (0): BasicBlock(\n        (conv1): Conv2d(64, 128, kernel_size=(3, 3), stride=(2, 2), padding=(1, 1), bias=False)\n        (bn1): BatchNorm2d(128, eps=1e-05, momentum=0.1, affine=True, track_running_stats=True)\n        (relu): ReLU(inplace=True)\n        (conv2): Conv2d(128, 128, kernel_size=(3, 3), stride=(1, 1), padding=(1, 1), bias=False)\n        (bn2): BatchNorm2d(128, eps=1e-05, momentum=0.1, affine=True, track_running_stats=True)\n        (downsample): Sequential(\n          (0): Conv2d(64, 128, kernel_size=(1, 1), stride=(2, 2), bias=False)\n          (1): BatchNorm2d(128, eps=1e-05, momentum=0.1, affine=True, track_running_stats=True)\n        )\n      )\n      (1): BasicBlock(\n        (conv1): Conv2d(128, 128, kernel_size=(3, 3), stride=(1, 1), padding=(1, 1), bias=False)\n        (bn1): BatchNorm2d(128, eps=1e-05, momentum=0.1, affine=True, track_running_stats=True)\n        (relu): ReLU(inplace=True)\n        (conv2): Conv2d(128, 128, kernel_size=(3, 3), stride=(1, 1), padding=(1, 1), bias=False)\n        (bn2): BatchNorm2d(128, eps=1e-05, momentum=0.1, affine=True, track_running_stats=True)\n      )\n    )\n    (layer3): Sequential(\n      (0): BasicBlock(\n        (conv1): Conv2d(128, 256, kernel_size=(3, 3), stride=(2, 2), padding=(1, 1), bias=False)\n        (bn1): BatchNorm2d(256, eps=1e-05, momentum=0.1, affine=True, track_running_stats=True)\n        (relu): ReLU(inplace=True)\n        (conv2): Conv2d(256, 256, kernel_size=(3, 3), stride=(1, 1), padding=(1, 1), bias=False)\n        (bn2): BatchNorm2d(256, eps=1e-05, momentum=0.1, affine=True, track_running_stats=True)\n        (downsample): Sequential(\n          (0): Conv2d(128, 256, kernel_size=(1, 1), stride=(2, 2), bias=False)\n          (1): BatchNorm2d(256, eps=1e-05, momentum=0.1, affine=True, track_running_stats=True)\n        )\n      )\n      (1): BasicBlock(\n        (conv1): Conv2d(256, 256, kernel_size=(3, 3), stride=(1, 1), padding=(1, 1), bias=False)\n        (bn1): BatchNorm2d(256, eps=1e-05, momentum=0.1, affine=True, track_running_stats=True)\n        (relu): ReLU(inplace=True)\n        (conv2): Conv2d(256, 256, kernel_size=(3, 3), stride=(1, 1), padding=(1, 1), bias=False)\n        (bn2): BatchNorm2d(256, eps=1e-05, momentum=0.1, affine=True, track_running_stats=True)\n      )\n    )\n    (layer4): Sequential(\n      (0): BasicBlock(\n        (conv1): Conv2d(256, 512, kernel_size=(3, 3), stride=(2, 2), padding=(1, 1), bias=False)\n        (bn1): BatchNorm2d(512, eps=1e-05, momentum=0.1, affine=True, track_running_stats=True)\n        (relu): ReLU(inplace=True)\n        (conv2): Conv2d(512, 512, kernel_size=(3, 3), stride=(1, 1), padding=(1, 1), bias=False)\n        (bn2): BatchNorm2d(512, eps=1e-05, momentum=0.1, affine=True, track_running_stats=True)\n        (downsample): Sequential(\n          (0): Conv2d(256, 512, kernel_size=(1, 1), stride=(2, 2), bias=False)\n          (1): BatchNorm2d(512, eps=1e-05, momentum=0.1, affine=True, track_running_stats=True)\n        )\n      )\n      (1): BasicBlock(\n        (conv1): Conv2d(512, 512, kernel_size=(3, 3), stride=(1, 1), padding=(1, 1), bias=False)\n        (bn1): BatchNorm2d(512, eps=1e-05, momentum=0.1, affine=True, track_running_stats=True)\n        (relu): ReLU(inplace=True)\n        (conv2): Conv2d(512, 512, kernel_size=(3, 3), stride=(1, 1), padding=(1, 1), bias=False)\n        (bn2): BatchNorm2d(512, eps=1e-05, momentum=0.1, affine=True, track_running_stats=True)\n      )\n    )\n    (avgpool): AdaptiveAvgPool2d(output_size=(1, 1))\n    (fc): Linear(in_features=512, out_features=10, bias=True)\n  )\n)"
     },
     "execution_count": 17,
     "metadata": {},
     "output_type": "execute_result"
    }
   ],
   "source": [
    "model"
   ],
   "metadata": {
    "collapsed": false
   }
  },
  {
   "cell_type": "code",
   "execution_count": 12,
   "outputs": [],
   "source": [
    "model.backbone.fc = torch.nn.Sequential(\n",
    "    torch.nn.Linear(in_features=512, out_features=128, bias=True),\n",
    "    torch.nn.ReLU(inplace=True),\n",
    "    # torch.nn.BatchNorm2d(128,)\n",
    "    torch.nn.Linear(in_features=128, out_features=10, bias=True),\n",
    ")\n",
    "# liniowa 512 -> 128\n",
    "# relu\n",
    "# batchnorm\n",
    "# liniowa 128 -> 10"
   ],
   "metadata": {
    "collapsed": false
   }
  },
  {
   "cell_type": "code",
   "execution_count": 13,
   "outputs": [
    {
     "data": {
      "text/plain": "ConvModel(\n  (resnet_model): ResNet(\n    (conv1): Conv2d(1, 64, kernel_size=(7, 7), stride=(2, 2), padding=(3, 3), bias=False)\n    (bn1): BatchNorm2d(64, eps=1e-05, momentum=0.1, affine=True, track_running_stats=True)\n    (relu): ReLU(inplace=True)\n    (maxpool): MaxPool2d(kernel_size=3, stride=2, padding=1, dilation=1, ceil_mode=False)\n    (layer1): Sequential(\n      (0): BasicBlock(\n        (conv1): Conv2d(64, 64, kernel_size=(3, 3), stride=(1, 1), padding=(1, 1), bias=False)\n        (bn1): BatchNorm2d(64, eps=1e-05, momentum=0.1, affine=True, track_running_stats=True)\n        (relu): ReLU(inplace=True)\n        (conv2): Conv2d(64, 64, kernel_size=(3, 3), stride=(1, 1), padding=(1, 1), bias=False)\n        (bn2): BatchNorm2d(64, eps=1e-05, momentum=0.1, affine=True, track_running_stats=True)\n      )\n      (1): BasicBlock(\n        (conv1): Conv2d(64, 64, kernel_size=(3, 3), stride=(1, 1), padding=(1, 1), bias=False)\n        (bn1): BatchNorm2d(64, eps=1e-05, momentum=0.1, affine=True, track_running_stats=True)\n        (relu): ReLU(inplace=True)\n        (conv2): Conv2d(64, 64, kernel_size=(3, 3), stride=(1, 1), padding=(1, 1), bias=False)\n        (bn2): BatchNorm2d(64, eps=1e-05, momentum=0.1, affine=True, track_running_stats=True)\n      )\n    )\n    (layer2): Sequential(\n      (0): BasicBlock(\n        (conv1): Conv2d(64, 128, kernel_size=(3, 3), stride=(2, 2), padding=(1, 1), bias=False)\n        (bn1): BatchNorm2d(128, eps=1e-05, momentum=0.1, affine=True, track_running_stats=True)\n        (relu): ReLU(inplace=True)\n        (conv2): Conv2d(128, 128, kernel_size=(3, 3), stride=(1, 1), padding=(1, 1), bias=False)\n        (bn2): BatchNorm2d(128, eps=1e-05, momentum=0.1, affine=True, track_running_stats=True)\n        (downsample): Sequential(\n          (0): Conv2d(64, 128, kernel_size=(1, 1), stride=(2, 2), bias=False)\n          (1): BatchNorm2d(128, eps=1e-05, momentum=0.1, affine=True, track_running_stats=True)\n        )\n      )\n      (1): BasicBlock(\n        (conv1): Conv2d(128, 128, kernel_size=(3, 3), stride=(1, 1), padding=(1, 1), bias=False)\n        (bn1): BatchNorm2d(128, eps=1e-05, momentum=0.1, affine=True, track_running_stats=True)\n        (relu): ReLU(inplace=True)\n        (conv2): Conv2d(128, 128, kernel_size=(3, 3), stride=(1, 1), padding=(1, 1), bias=False)\n        (bn2): BatchNorm2d(128, eps=1e-05, momentum=0.1, affine=True, track_running_stats=True)\n      )\n    )\n    (layer3): Sequential(\n      (0): BasicBlock(\n        (conv1): Conv2d(128, 256, kernel_size=(3, 3), stride=(2, 2), padding=(1, 1), bias=False)\n        (bn1): BatchNorm2d(256, eps=1e-05, momentum=0.1, affine=True, track_running_stats=True)\n        (relu): ReLU(inplace=True)\n        (conv2): Conv2d(256, 256, kernel_size=(3, 3), stride=(1, 1), padding=(1, 1), bias=False)\n        (bn2): BatchNorm2d(256, eps=1e-05, momentum=0.1, affine=True, track_running_stats=True)\n        (downsample): Sequential(\n          (0): Conv2d(128, 256, kernel_size=(1, 1), stride=(2, 2), bias=False)\n          (1): BatchNorm2d(256, eps=1e-05, momentum=0.1, affine=True, track_running_stats=True)\n        )\n      )\n      (1): BasicBlock(\n        (conv1): Conv2d(256, 256, kernel_size=(3, 3), stride=(1, 1), padding=(1, 1), bias=False)\n        (bn1): BatchNorm2d(256, eps=1e-05, momentum=0.1, affine=True, track_running_stats=True)\n        (relu): ReLU(inplace=True)\n        (conv2): Conv2d(256, 256, kernel_size=(3, 3), stride=(1, 1), padding=(1, 1), bias=False)\n        (bn2): BatchNorm2d(256, eps=1e-05, momentum=0.1, affine=True, track_running_stats=True)\n      )\n    )\n    (layer4): Sequential(\n      (0): BasicBlock(\n        (conv1): Conv2d(256, 512, kernel_size=(3, 3), stride=(2, 2), padding=(1, 1), bias=False)\n        (bn1): BatchNorm2d(512, eps=1e-05, momentum=0.1, affine=True, track_running_stats=True)\n        (relu): ReLU(inplace=True)\n        (conv2): Conv2d(512, 512, kernel_size=(3, 3), stride=(1, 1), padding=(1, 1), bias=False)\n        (bn2): BatchNorm2d(512, eps=1e-05, momentum=0.1, affine=True, track_running_stats=True)\n        (downsample): Sequential(\n          (0): Conv2d(256, 512, kernel_size=(1, 1), stride=(2, 2), bias=False)\n          (1): BatchNorm2d(512, eps=1e-05, momentum=0.1, affine=True, track_running_stats=True)\n        )\n      )\n      (1): BasicBlock(\n        (conv1): Conv2d(512, 512, kernel_size=(3, 3), stride=(1, 1), padding=(1, 1), bias=False)\n        (bn1): BatchNorm2d(512, eps=1e-05, momentum=0.1, affine=True, track_running_stats=True)\n        (relu): ReLU(inplace=True)\n        (conv2): Conv2d(512, 512, kernel_size=(3, 3), stride=(1, 1), padding=(1, 1), bias=False)\n        (bn2): BatchNorm2d(512, eps=1e-05, momentum=0.1, affine=True, track_running_stats=True)\n      )\n    )\n    (avgpool): AdaptiveAvgPool2d(output_size=(1, 1))\n    (fc): Sequential(\n      (0): Linear(in_features=512, out_features=128, bias=True)\n      (1): ReLU(inplace=True)\n      (2): Linear(in_features=128, out_features=10, bias=True)\n    )\n  )\n  (backbone): ResNet(\n    (conv1): Conv2d(1, 64, kernel_size=(7, 7), stride=(2, 2), padding=(3, 3), bias=False)\n    (bn1): BatchNorm2d(64, eps=1e-05, momentum=0.1, affine=True, track_running_stats=True)\n    (relu): ReLU(inplace=True)\n    (maxpool): MaxPool2d(kernel_size=3, stride=2, padding=1, dilation=1, ceil_mode=False)\n    (layer1): Sequential(\n      (0): BasicBlock(\n        (conv1): Conv2d(64, 64, kernel_size=(3, 3), stride=(1, 1), padding=(1, 1), bias=False)\n        (bn1): BatchNorm2d(64, eps=1e-05, momentum=0.1, affine=True, track_running_stats=True)\n        (relu): ReLU(inplace=True)\n        (conv2): Conv2d(64, 64, kernel_size=(3, 3), stride=(1, 1), padding=(1, 1), bias=False)\n        (bn2): BatchNorm2d(64, eps=1e-05, momentum=0.1, affine=True, track_running_stats=True)\n      )\n      (1): BasicBlock(\n        (conv1): Conv2d(64, 64, kernel_size=(3, 3), stride=(1, 1), padding=(1, 1), bias=False)\n        (bn1): BatchNorm2d(64, eps=1e-05, momentum=0.1, affine=True, track_running_stats=True)\n        (relu): ReLU(inplace=True)\n        (conv2): Conv2d(64, 64, kernel_size=(3, 3), stride=(1, 1), padding=(1, 1), bias=False)\n        (bn2): BatchNorm2d(64, eps=1e-05, momentum=0.1, affine=True, track_running_stats=True)\n      )\n    )\n    (layer2): Sequential(\n      (0): BasicBlock(\n        (conv1): Conv2d(64, 128, kernel_size=(3, 3), stride=(2, 2), padding=(1, 1), bias=False)\n        (bn1): BatchNorm2d(128, eps=1e-05, momentum=0.1, affine=True, track_running_stats=True)\n        (relu): ReLU(inplace=True)\n        (conv2): Conv2d(128, 128, kernel_size=(3, 3), stride=(1, 1), padding=(1, 1), bias=False)\n        (bn2): BatchNorm2d(128, eps=1e-05, momentum=0.1, affine=True, track_running_stats=True)\n        (downsample): Sequential(\n          (0): Conv2d(64, 128, kernel_size=(1, 1), stride=(2, 2), bias=False)\n          (1): BatchNorm2d(128, eps=1e-05, momentum=0.1, affine=True, track_running_stats=True)\n        )\n      )\n      (1): BasicBlock(\n        (conv1): Conv2d(128, 128, kernel_size=(3, 3), stride=(1, 1), padding=(1, 1), bias=False)\n        (bn1): BatchNorm2d(128, eps=1e-05, momentum=0.1, affine=True, track_running_stats=True)\n        (relu): ReLU(inplace=True)\n        (conv2): Conv2d(128, 128, kernel_size=(3, 3), stride=(1, 1), padding=(1, 1), bias=False)\n        (bn2): BatchNorm2d(128, eps=1e-05, momentum=0.1, affine=True, track_running_stats=True)\n      )\n    )\n    (layer3): Sequential(\n      (0): BasicBlock(\n        (conv1): Conv2d(128, 256, kernel_size=(3, 3), stride=(2, 2), padding=(1, 1), bias=False)\n        (bn1): BatchNorm2d(256, eps=1e-05, momentum=0.1, affine=True, track_running_stats=True)\n        (relu): ReLU(inplace=True)\n        (conv2): Conv2d(256, 256, kernel_size=(3, 3), stride=(1, 1), padding=(1, 1), bias=False)\n        (bn2): BatchNorm2d(256, eps=1e-05, momentum=0.1, affine=True, track_running_stats=True)\n        (downsample): Sequential(\n          (0): Conv2d(128, 256, kernel_size=(1, 1), stride=(2, 2), bias=False)\n          (1): BatchNorm2d(256, eps=1e-05, momentum=0.1, affine=True, track_running_stats=True)\n        )\n      )\n      (1): BasicBlock(\n        (conv1): Conv2d(256, 256, kernel_size=(3, 3), stride=(1, 1), padding=(1, 1), bias=False)\n        (bn1): BatchNorm2d(256, eps=1e-05, momentum=0.1, affine=True, track_running_stats=True)\n        (relu): ReLU(inplace=True)\n        (conv2): Conv2d(256, 256, kernel_size=(3, 3), stride=(1, 1), padding=(1, 1), bias=False)\n        (bn2): BatchNorm2d(256, eps=1e-05, momentum=0.1, affine=True, track_running_stats=True)\n      )\n    )\n    (layer4): Sequential(\n      (0): BasicBlock(\n        (conv1): Conv2d(256, 512, kernel_size=(3, 3), stride=(2, 2), padding=(1, 1), bias=False)\n        (bn1): BatchNorm2d(512, eps=1e-05, momentum=0.1, affine=True, track_running_stats=True)\n        (relu): ReLU(inplace=True)\n        (conv2): Conv2d(512, 512, kernel_size=(3, 3), stride=(1, 1), padding=(1, 1), bias=False)\n        (bn2): BatchNorm2d(512, eps=1e-05, momentum=0.1, affine=True, track_running_stats=True)\n        (downsample): Sequential(\n          (0): Conv2d(256, 512, kernel_size=(1, 1), stride=(2, 2), bias=False)\n          (1): BatchNorm2d(512, eps=1e-05, momentum=0.1, affine=True, track_running_stats=True)\n        )\n      )\n      (1): BasicBlock(\n        (conv1): Conv2d(512, 512, kernel_size=(3, 3), stride=(1, 1), padding=(1, 1), bias=False)\n        (bn1): BatchNorm2d(512, eps=1e-05, momentum=0.1, affine=True, track_running_stats=True)\n        (relu): ReLU(inplace=True)\n        (conv2): Conv2d(512, 512, kernel_size=(3, 3), stride=(1, 1), padding=(1, 1), bias=False)\n        (bn2): BatchNorm2d(512, eps=1e-05, momentum=0.1, affine=True, track_running_stats=True)\n      )\n    )\n    (avgpool): AdaptiveAvgPool2d(output_size=(1, 1))\n    (fc): Sequential(\n      (0): Linear(in_features=512, out_features=128, bias=True)\n      (1): ReLU(inplace=True)\n      (2): Linear(in_features=128, out_features=10, bias=True)\n    )\n  )\n)"
     },
     "execution_count": 13,
     "metadata": {},
     "output_type": "execute_result"
    }
   ],
   "source": [
    "model.backbone.requires_grad_(False)\n",
    "model.backbone.fc.requires_grad_(True)\n",
    "model"
   ],
   "metadata": {
    "collapsed": false
   }
  },
  {
   "cell_type": "code",
   "execution_count": 14,
   "outputs": [
    {
     "name": "stderr",
     "output_type": "stream",
     "text": [
      "  0%|          | 0/235 [00:00<?, ?it/s]C:\\Users\\kacpe\\DataspellProjects\\SimCLRPytorch\\venv\\lib\\site-packages\\torch\\optim\\lr_scheduler.py:807: UserWarning: To get the last learning rate computed by the scheduler, please use `get_last_lr()`.\n",
      "  warnings.warn(\"To get the last learning rate computed by the scheduler, \"\n",
      "100%|██████████| 235/235 [00:08<00:00, 28.24it/s]\n",
      "100%|██████████| 235/235 [00:07<00:00, 29.66it/s]\n",
      "100%|██████████| 235/235 [00:08<00:00, 29.20it/s]\n",
      "100%|██████████| 235/235 [00:07<00:00, 30.29it/s]\n",
      "100%|██████████| 235/235 [00:07<00:00, 29.57it/s]\n",
      "100%|██████████| 235/235 [00:08<00:00, 28.86it/s]\n",
      "100%|██████████| 235/235 [00:08<00:00, 29.28it/s]\n",
      "100%|██████████| 235/235 [00:07<00:00, 29.86it/s]\n",
      "100%|██████████| 235/235 [00:07<00:00, 29.80it/s]\n",
      "100%|██████████| 235/235 [00:08<00:00, 29.11it/s]\n",
      "100%|██████████| 235/235 [00:07<00:00, 29.39it/s]\n",
      "100%|██████████| 235/235 [00:07<00:00, 30.44it/s]\n",
      "100%|██████████| 235/235 [00:07<00:00, 30.39it/s]\n",
      "100%|██████████| 235/235 [00:07<00:00, 29.85it/s]\n",
      "100%|██████████| 235/235 [00:07<00:00, 30.40it/s]\n",
      "100%|██████████| 235/235 [00:07<00:00, 30.27it/s]\n",
      "100%|██████████| 235/235 [00:07<00:00, 30.42it/s]\n",
      "100%|██████████| 235/235 [00:07<00:00, 29.76it/s]\n",
      "100%|██████████| 235/235 [00:07<00:00, 30.06it/s]\n",
      "100%|██████████| 235/235 [00:07<00:00, 30.30it/s]\n",
      "100%|██████████| 235/235 [00:08<00:00, 28.95it/s]\n",
      "100%|██████████| 235/235 [00:07<00:00, 30.26it/s]\n",
      "100%|██████████| 235/235 [00:07<00:00, 31.00it/s]\n",
      "100%|██████████| 235/235 [00:07<00:00, 30.10it/s]\n",
      "100%|██████████| 235/235 [00:07<00:00, 29.80it/s]\n",
      "100%|██████████| 235/235 [00:07<00:00, 29.97it/s]\n",
      "100%|██████████| 235/235 [00:07<00:00, 29.79it/s]\n",
      "100%|██████████| 235/235 [00:07<00:00, 29.93it/s]\n",
      "100%|██████████| 235/235 [00:07<00:00, 30.76it/s]\n",
      "100%|██████████| 235/235 [00:07<00:00, 30.53it/s]\n",
      "100%|██████████| 235/235 [00:08<00:00, 28.77it/s]\n",
      "100%|██████████| 235/235 [00:07<00:00, 30.20it/s]\n",
      "100%|██████████| 235/235 [00:07<00:00, 30.44it/s]\n",
      "100%|██████████| 235/235 [00:07<00:00, 30.73it/s]\n",
      "100%|██████████| 235/235 [00:07<00:00, 30.90it/s]\n",
      "100%|██████████| 235/235 [00:08<00:00, 29.15it/s]\n",
      "100%|██████████| 235/235 [00:07<00:00, 29.58it/s]\n",
      "100%|██████████| 235/235 [00:08<00:00, 28.26it/s]\n",
      "100%|██████████| 235/235 [00:07<00:00, 30.39it/s]\n",
      "100%|██████████| 235/235 [00:07<00:00, 30.18it/s]\n",
      "100%|██████████| 235/235 [00:08<00:00, 29.16it/s]\n",
      "100%|██████████| 235/235 [00:07<00:00, 29.78it/s]\n",
      "100%|██████████| 235/235 [00:07<00:00, 30.00it/s]\n",
      "100%|██████████| 235/235 [00:07<00:00, 30.31it/s]\n",
      "100%|██████████| 235/235 [00:08<00:00, 28.81it/s]\n",
      "100%|██████████| 235/235 [00:07<00:00, 30.64it/s]\n",
      "100%|██████████| 235/235 [00:07<00:00, 30.57it/s]\n",
      "100%|██████████| 235/235 [00:07<00:00, 30.29it/s]\n",
      "100%|██████████| 235/235 [00:07<00:00, 30.12it/s]\n",
      "100%|██████████| 235/235 [00:07<00:00, 30.24it/s]\n",
      "100%|██████████| 235/235 [00:07<00:00, 29.86it/s]\n",
      "100%|██████████| 235/235 [00:07<00:00, 30.97it/s]\n",
      "100%|██████████| 235/235 [00:07<00:00, 29.93it/s]\n",
      "100%|██████████| 235/235 [00:07<00:00, 29.70it/s]\n",
      "100%|██████████| 235/235 [00:07<00:00, 30.32it/s]\n",
      "100%|██████████| 235/235 [00:07<00:00, 30.30it/s]\n",
      "100%|██████████| 235/235 [00:07<00:00, 30.15it/s]\n",
      "100%|██████████| 235/235 [00:07<00:00, 30.27it/s]\n",
      "100%|██████████| 235/235 [00:07<00:00, 30.13it/s]\n",
      "100%|██████████| 235/235 [00:07<00:00, 30.32it/s]\n",
      "100%|██████████| 235/235 [00:08<00:00, 29.16it/s]\n",
      "100%|██████████| 235/235 [00:08<00:00, 29.16it/s]\n",
      "100%|██████████| 235/235 [00:07<00:00, 29.80it/s]\n",
      "100%|██████████| 235/235 [00:07<00:00, 30.33it/s]\n",
      "100%|██████████| 235/235 [00:07<00:00, 30.09it/s]\n",
      "100%|██████████| 235/235 [00:07<00:00, 30.40it/s]\n",
      "100%|██████████| 235/235 [00:07<00:00, 30.48it/s]\n",
      "100%|██████████| 235/235 [00:07<00:00, 30.72it/s]\n",
      "100%|██████████| 235/235 [00:07<00:00, 30.47it/s]\n",
      "100%|██████████| 235/235 [00:07<00:00, 30.37it/s]\n",
      "100%|██████████| 235/235 [00:07<00:00, 29.98it/s]\n",
      "100%|██████████| 235/235 [00:08<00:00, 28.77it/s]\n",
      "100%|██████████| 235/235 [00:08<00:00, 28.97it/s]\n",
      "100%|██████████| 235/235 [00:07<00:00, 30.16it/s]\n",
      "100%|██████████| 235/235 [00:07<00:00, 30.07it/s]\n",
      "100%|██████████| 235/235 [00:07<00:00, 29.89it/s]\n",
      "100%|██████████| 235/235 [00:07<00:00, 30.19it/s]\n",
      "100%|██████████| 235/235 [00:07<00:00, 30.04it/s]\n",
      "100%|██████████| 235/235 [00:07<00:00, 30.00it/s]\n",
      "100%|██████████| 235/235 [00:07<00:00, 30.43it/s]\n",
      "100%|██████████| 235/235 [00:07<00:00, 30.17it/s]\n",
      "100%|██████████| 235/235 [00:07<00:00, 30.44it/s]\n",
      "100%|██████████| 235/235 [00:07<00:00, 30.51it/s]\n",
      "100%|██████████| 235/235 [00:07<00:00, 30.05it/s]\n",
      "100%|██████████| 235/235 [00:07<00:00, 30.60it/s]\n",
      "100%|██████████| 235/235 [00:07<00:00, 30.57it/s]\n",
      "100%|██████████| 235/235 [00:07<00:00, 30.23it/s]\n",
      "100%|██████████| 235/235 [00:07<00:00, 30.60it/s]\n",
      "100%|██████████| 235/235 [00:07<00:00, 30.66it/s]\n",
      "100%|██████████| 235/235 [00:07<00:00, 30.53it/s]\n",
      "100%|██████████| 235/235 [00:07<00:00, 30.24it/s]\n",
      "100%|██████████| 235/235 [00:07<00:00, 30.32it/s]\n",
      "100%|██████████| 235/235 [00:07<00:00, 30.53it/s]\n",
      "100%|██████████| 235/235 [00:07<00:00, 30.39it/s]\n",
      "100%|██████████| 235/235 [00:07<00:00, 30.29it/s]\n",
      "100%|██████████| 235/235 [00:07<00:00, 30.39it/s]\n",
      "100%|██████████| 235/235 [00:07<00:00, 30.29it/s]\n",
      "100%|██████████| 235/235 [00:07<00:00, 30.05it/s]\n",
      "100%|██████████| 235/235 [00:07<00:00, 30.58it/s]\n",
      "100%|██████████| 235/235 [00:07<00:00, 29.85it/s]\n"
     ]
    }
   ],
   "source": [
    "optimizer = torch.optim.Adam(model.parameters(), 0.0003, weight_decay=1e-4)\n",
    "\n",
    "with torch.cuda.device(gpu_index):\n",
    "    simclr = SimCLR(model=model, optimizer=optimizer, scheduler=scheduler, device=device, epochs=100, log_every_n_steps=100)\n",
    "    simclr.train(val_loader, shuffle=False)\n"
   ],
   "metadata": {
    "collapsed": false
   }
  },
  {
   "cell_type": "code",
   "execution_count": null,
   "outputs": [],
   "source": [],
   "metadata": {
    "collapsed": false
   }
  }
 ],
 "metadata": {
  "kernelspec": {
   "display_name": "Python 3",
   "language": "python",
   "name": "python3"
  },
  "language_info": {
   "codemirror_mode": {
    "name": "ipython",
    "version": 2
   },
   "file_extension": ".py",
   "mimetype": "text/x-python",
   "name": "python",
   "nbconvert_exporter": "python",
   "pygments_lexer": "ipython2",
   "version": "2.7.6"
  }
 },
 "nbformat": 4,
 "nbformat_minor": 0
}
