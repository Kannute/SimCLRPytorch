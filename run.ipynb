{
 "cells": [
  {
   "cell_type": "code",
   "execution_count": 1,
   "metadata": {
    "collapsed": true
   },
   "outputs": [],
   "source": [
    "from model.model import ConvModel, PreTrainer, show_results, HeadTrainer, HeadTrainerNew\n",
    "import torch\n",
    "import torch.backends.cudnn as cudnn\n",
    "from torchvision import transforms, datasets"
   ]
  },
  {
   "cell_type": "code",
   "execution_count": 2,
   "outputs": [],
   "source": [
    "if torch.cuda.is_available():\n",
    "    device = torch.device('cuda')\n",
    "    cudnn.deterministic = True\n",
    "    cudnn.benchmark = True\n",
    "    gpu_index = 0\n",
    "else:\n",
    "    device = torch.device('cpu')\n",
    "    gpu_index = -1\n"
   ],
   "metadata": {
    "collapsed": false
   }
  },
  {
   "cell_type": "code",
   "execution_count": 3,
   "outputs": [
    {
     "data": {
      "text/plain": "device(type='cuda')"
     },
     "execution_count": 3,
     "metadata": {},
     "output_type": "execute_result"
    }
   ],
   "source": [
    "device"
   ],
   "metadata": {
    "collapsed": false
   }
  },
  {
   "cell_type": "code",
   "execution_count": 4,
   "outputs": [],
   "source": [
    "color_jitter = transforms.ColorJitter(0.8, 0.8, 0.8, 0.2)\n",
    "\n",
    "\n",
    "composed_transforms = transforms.Compose([\n",
    "    transforms.RandomApply([color_jitter], p=0.8),\n",
    "    transforms.RandomGrayscale(p=0.2),\n",
    "    transforms.GaussianBlur(kernel_size=3),\n",
    "      transforms.ToTensor()])"
   ],
   "metadata": {
    "collapsed": false
   }
  },
  {
   "cell_type": "code",
   "execution_count": 5,
   "outputs": [
    {
     "name": "stdout",
     "output_type": "stream",
     "text": [
      "Files already downloaded and verified\n",
      "Files already downloaded and verified\n"
     ]
    },
    {
     "data": {
      "text/plain": "<torch._C.Generator at 0x2d272012f30>"
     },
     "execution_count": 5,
     "metadata": {},
     "output_type": "execute_result"
    }
   ],
   "source": [
    "train_dataset_1 = datasets.CIFAR10('./datasets',  download=True, train=True, transform=composed_transforms)\n",
    "train_dataset_2 = datasets.CIFAR10('./datasets', download=True, train=False, transform=transforms.ToTensor())\n",
    "g = torch.Generator()\n",
    "g.manual_seed(0)"
   ],
   "metadata": {
    "collapsed": false
   }
  },
  {
   "cell_type": "code",
   "execution_count": 6,
   "outputs": [],
   "source": [
    "train_loader_1 = torch.utils.data.DataLoader(train_dataset_1, batch_size=256, shuffle=False, pin_memory=True, drop_last=True, generator=g)\n",
    "train_loader_2 = torch.utils.data.DataLoader(train_dataset_2, batch_size=256, shuffle=True, pin_memory=True, drop_last=True, generator=g)"
   ],
   "metadata": {
    "collapsed": false
   }
  },
  {
   "cell_type": "code",
   "execution_count": 7,
   "outputs": [
    {
     "name": "stderr",
     "output_type": "stream",
     "text": [
      "C:\\Users\\kacpe\\DataspellProjects\\SimCLRPytorch\\venv\\lib\\site-packages\\torchvision\\models\\_utils.py:208: UserWarning: The parameter 'pretrained' is deprecated since 0.13 and may be removed in the future, please use 'weights' instead.\n",
      "  warnings.warn(\n",
      "C:\\Users\\kacpe\\DataspellProjects\\SimCLRPytorch\\venv\\lib\\site-packages\\torchvision\\models\\_utils.py:223: UserWarning: Arguments other than a weight enum or `None` for 'weights' are deprecated since 0.13 and may be removed in the future. The current behavior is equivalent to passing `weights=None`.\n",
      "  warnings.warn(msg)\n"
     ]
    },
    {
     "data": {
      "text/plain": "<All keys matched successfully>"
     },
     "execution_count": 7,
     "metadata": {},
     "output_type": "execute_result"
    }
   ],
   "source": [
    "model = ConvModel(out_dim=10, dataset='CIFAR10')\n",
    "\n",
    "model.load_state_dict(torch.load('saved_models/model_2023_cifar10_random_labels.pth'))\n",
    "# model.load_state_dict(torch.load('saved_models/model_20122022_cifar10_supervised.pth'))\n"
   ],
   "metadata": {
    "collapsed": false
   }
  },
  {
   "cell_type": "code",
   "execution_count": 8,
   "outputs": [
    {
     "name": "stderr",
     "output_type": "stream",
     "text": [
      "  0%|          | 0/195 [00:00<?, ?it/s]C:\\Users\\kacpe\\DataspellProjects\\SimCLRPytorch\\venv\\lib\\site-packages\\torch\\optim\\lr_scheduler.py:807: UserWarning: To get the last learning rate computed by the scheduler, please use `get_last_lr()`.\n",
      "  warnings.warn(\"To get the last learning rate computed by the scheduler, \"\n",
      "100%|██████████| 195/195 [00:58<00:00,  3.32it/s]\n",
      "100%|██████████| 195/195 [00:52<00:00,  3.74it/s]\n",
      "100%|██████████| 195/195 [00:55<00:00,  3.48it/s]\n",
      "100%|██████████| 195/195 [00:57<00:00,  3.38it/s]\n",
      "100%|██████████| 195/195 [01:00<00:00,  3.25it/s]\n",
      "100%|██████████| 195/195 [01:00<00:00,  3.24it/s]\n",
      "100%|██████████| 195/195 [01:00<00:00,  3.21it/s]\n",
      "100%|██████████| 195/195 [00:59<00:00,  3.29it/s]\n",
      "100%|██████████| 195/195 [01:03<00:00,  3.05it/s]\n",
      "100%|██████████| 195/195 [01:00<00:00,  3.25it/s]\n",
      "100%|██████████| 195/195 [00:58<00:00,  3.31it/s]\n",
      "100%|██████████| 195/195 [00:59<00:00,  3.25it/s]\n",
      "100%|██████████| 195/195 [00:58<00:00,  3.34it/s]\n",
      "100%|██████████| 195/195 [00:58<00:00,  3.35it/s]\n",
      "100%|██████████| 195/195 [00:58<00:00,  3.33it/s]\n",
      "100%|██████████| 195/195 [00:59<00:00,  3.28it/s]\n",
      "100%|██████████| 195/195 [01:01<00:00,  3.17it/s]\n",
      "100%|██████████| 195/195 [00:59<00:00,  3.27it/s]\n",
      "100%|██████████| 195/195 [01:02<00:00,  3.11it/s]\n",
      "100%|██████████| 195/195 [01:02<00:00,  3.14it/s]\n",
      "100%|██████████| 195/195 [01:02<00:00,  3.14it/s]\n",
      "100%|██████████| 195/195 [00:59<00:00,  3.25it/s]\n",
      "100%|██████████| 195/195 [01:00<00:00,  3.20it/s]\n",
      "100%|██████████| 195/195 [01:00<00:00,  3.23it/s]\n",
      "100%|██████████| 195/195 [01:01<00:00,  3.18it/s]\n",
      "100%|██████████| 195/195 [01:02<00:00,  3.13it/s]\n",
      "100%|██████████| 195/195 [00:59<00:00,  3.26it/s]\n",
      "100%|██████████| 195/195 [01:00<00:00,  3.22it/s]\n",
      "100%|██████████| 195/195 [01:00<00:00,  3.20it/s]\n",
      "100%|██████████| 195/195 [00:59<00:00,  3.27it/s]\n",
      "100%|██████████| 195/195 [01:01<00:00,  3.18it/s]\n",
      "100%|██████████| 195/195 [01:00<00:00,  3.25it/s]\n",
      "100%|██████████| 195/195 [01:03<00:00,  3.08it/s]\n",
      "100%|██████████| 195/195 [01:02<00:00,  3.10it/s]\n",
      "100%|██████████| 195/195 [01:00<00:00,  3.24it/s]\n",
      "100%|██████████| 195/195 [01:01<00:00,  3.19it/s]\n",
      "100%|██████████| 195/195 [01:01<00:00,  3.17it/s]\n",
      "100%|██████████| 195/195 [01:02<00:00,  3.10it/s]\n",
      "100%|██████████| 195/195 [00:59<00:00,  3.26it/s]\n",
      "100%|██████████| 195/195 [01:00<00:00,  3.20it/s]\n",
      "100%|██████████| 195/195 [01:01<00:00,  3.17it/s]\n",
      "100%|██████████| 195/195 [01:00<00:00,  3.23it/s]\n",
      "100%|██████████| 195/195 [00:59<00:00,  3.25it/s]\n",
      "100%|██████████| 195/195 [00:57<00:00,  3.42it/s]\n",
      "100%|██████████| 195/195 [00:57<00:00,  3.37it/s]\n",
      "100%|██████████| 195/195 [00:57<00:00,  3.41it/s]\n",
      "100%|██████████| 195/195 [01:01<00:00,  3.19it/s]\n",
      "100%|██████████| 195/195 [01:00<00:00,  3.22it/s]\n",
      "100%|██████████| 195/195 [01:02<00:00,  3.10it/s]\n",
      "100%|██████████| 195/195 [00:59<00:00,  3.29it/s]\n",
      "100%|██████████| 195/195 [01:07<00:00,  2.90it/s]\n",
      "100%|██████████| 195/195 [01:02<00:00,  3.14it/s]\n",
      "100%|██████████| 195/195 [01:00<00:00,  3.20it/s]\n",
      "100%|██████████| 195/195 [01:01<00:00,  3.15it/s]\n",
      "100%|██████████| 195/195 [00:58<00:00,  3.32it/s]\n",
      "100%|██████████| 195/195 [00:58<00:00,  3.32it/s]\n",
      "100%|██████████| 195/195 [00:59<00:00,  3.30it/s]\n",
      "100%|██████████| 195/195 [01:00<00:00,  3.23it/s]\n",
      "100%|██████████| 195/195 [00:59<00:00,  3.29it/s]\n",
      "100%|██████████| 195/195 [00:58<00:00,  3.31it/s]\n",
      "100%|██████████| 195/195 [00:59<00:00,  3.30it/s]\n",
      "100%|██████████| 195/195 [00:58<00:00,  3.33it/s]\n",
      "100%|██████████| 195/195 [01:00<00:00,  3.24it/s]\n",
      "100%|██████████| 195/195 [00:59<00:00,  3.27it/s]\n",
      "100%|██████████| 195/195 [01:00<00:00,  3.23it/s]\n",
      "100%|██████████| 195/195 [01:00<00:00,  3.24it/s]\n",
      "100%|██████████| 195/195 [00:59<00:00,  3.30it/s]\n",
      "100%|██████████| 195/195 [00:59<00:00,  3.26it/s]\n",
      "100%|██████████| 195/195 [01:00<00:00,  3.20it/s]\n",
      "100%|██████████| 195/195 [01:00<00:00,  3.24it/s]\n",
      "100%|██████████| 195/195 [00:59<00:00,  3.28it/s]\n",
      "100%|██████████| 195/195 [00:58<00:00,  3.33it/s]\n",
      "100%|██████████| 195/195 [00:58<00:00,  3.33it/s]\n",
      "100%|██████████| 195/195 [00:57<00:00,  3.36it/s]\n",
      "100%|██████████| 195/195 [00:58<00:00,  3.32it/s]\n",
      "100%|██████████| 195/195 [00:58<00:00,  3.32it/s]\n",
      "100%|██████████| 195/195 [00:58<00:00,  3.33it/s]\n",
      "100%|██████████| 195/195 [00:58<00:00,  3.36it/s]\n",
      "100%|██████████| 195/195 [00:58<00:00,  3.31it/s]\n",
      "100%|██████████| 195/195 [00:59<00:00,  3.29it/s]\n",
      "100%|██████████| 195/195 [01:01<00:00,  3.18it/s]\n",
      "100%|██████████| 195/195 [01:01<00:00,  3.18it/s]\n",
      "100%|██████████| 195/195 [01:00<00:00,  3.22it/s]\n",
      " 21%|██        | 40/195 [00:11<00:46,  3.37it/s]\n"
     ]
    },
    {
     "ename": "KeyboardInterrupt",
     "evalue": "",
     "output_type": "error",
     "traceback": [
      "\u001B[1;31m---------------------------------------------------------------------------\u001B[0m",
      "\u001B[1;31mKeyboardInterrupt\u001B[0m                         Traceback (most recent call last)",
      "Cell \u001B[1;32mIn [8], line 8\u001B[0m\n\u001B[0;32m      6\u001B[0m \u001B[38;5;28;01mwith\u001B[39;00m torch\u001B[38;5;241m.\u001B[39mcuda\u001B[38;5;241m.\u001B[39mdevice(gpu_index):\n\u001B[0;32m      7\u001B[0m     simclr \u001B[38;5;241m=\u001B[39m PreTrainer(model\u001B[38;5;241m=\u001B[39mmodel, optimizer\u001B[38;5;241m=\u001B[39moptimizer, scheduler\u001B[38;5;241m=\u001B[39mscheduler, device\u001B[38;5;241m=\u001B[39mdevice, epochs\u001B[38;5;241m=\u001B[39m\u001B[38;5;241m200\u001B[39m, log_every_n_steps\u001B[38;5;241m=\u001B[39m\u001B[38;5;241m100\u001B[39m)\n\u001B[1;32m----> 8\u001B[0m     \u001B[43msimclr\u001B[49m\u001B[38;5;241;43m.\u001B[39;49m\u001B[43mtrain\u001B[49m\u001B[43m(\u001B[49m\u001B[43mtrain_loader_1\u001B[49m\u001B[43m,\u001B[49m\u001B[43m \u001B[49m\u001B[43mshuffle\u001B[49m\u001B[38;5;241;43m=\u001B[39;49m\u001B[38;5;28;43;01mTrue\u001B[39;49;00m\u001B[43m)\u001B[49m\n",
      "File \u001B[1;32m~\\DataspellProjects\\SimCLRPytorch\\model\\model.py:71\u001B[0m, in \u001B[0;36mPreTrainer.train\u001B[1;34m(self, train_loader, shuffle)\u001B[0m\n\u001B[0;32m     69\u001B[0m g \u001B[38;5;241m=\u001B[39m torch\u001B[38;5;241m.\u001B[39mGenerator()\n\u001B[0;32m     70\u001B[0m g\u001B[38;5;241m.\u001B[39mmanual_seed(\u001B[38;5;241m0\u001B[39m)\n\u001B[1;32m---> 71\u001B[0m \u001B[38;5;28;01mfor\u001B[39;00m images, labels \u001B[38;5;129;01min\u001B[39;00m tqdm((train_loader)):\n\u001B[0;32m     72\u001B[0m     images \u001B[38;5;241m=\u001B[39m torch\u001B[38;5;241m.\u001B[39mcat((images, images), dim\u001B[38;5;241m=\u001B[39m\u001B[38;5;241m0\u001B[39m)\n\u001B[0;32m     73\u001B[0m     \u001B[38;5;28;01mif\u001B[39;00m shuffle:\n",
      "File \u001B[1;32m~\\DataspellProjects\\SimCLRPytorch\\venv\\lib\\site-packages\\tqdm\\std.py:1195\u001B[0m, in \u001B[0;36mtqdm.__iter__\u001B[1;34m(self)\u001B[0m\n\u001B[0;32m   1192\u001B[0m time \u001B[38;5;241m=\u001B[39m \u001B[38;5;28mself\u001B[39m\u001B[38;5;241m.\u001B[39m_time\n\u001B[0;32m   1194\u001B[0m \u001B[38;5;28;01mtry\u001B[39;00m:\n\u001B[1;32m-> 1195\u001B[0m     \u001B[38;5;28;01mfor\u001B[39;00m obj \u001B[38;5;129;01min\u001B[39;00m iterable:\n\u001B[0;32m   1196\u001B[0m         \u001B[38;5;28;01myield\u001B[39;00m obj\n\u001B[0;32m   1197\u001B[0m         \u001B[38;5;66;03m# Update and possibly print the progressbar.\u001B[39;00m\n\u001B[0;32m   1198\u001B[0m         \u001B[38;5;66;03m# Note: does not call self.update(1) for speed optimisation.\u001B[39;00m\n",
      "File \u001B[1;32m~\\DataspellProjects\\SimCLRPytorch\\venv\\lib\\site-packages\\torch\\utils\\data\\dataloader.py:628\u001B[0m, in \u001B[0;36m_BaseDataLoaderIter.__next__\u001B[1;34m(self)\u001B[0m\n\u001B[0;32m    625\u001B[0m \u001B[38;5;28;01mif\u001B[39;00m \u001B[38;5;28mself\u001B[39m\u001B[38;5;241m.\u001B[39m_sampler_iter \u001B[38;5;129;01mis\u001B[39;00m \u001B[38;5;28;01mNone\u001B[39;00m:\n\u001B[0;32m    626\u001B[0m     \u001B[38;5;66;03m# TODO(https://github.com/pytorch/pytorch/issues/76750)\u001B[39;00m\n\u001B[0;32m    627\u001B[0m     \u001B[38;5;28mself\u001B[39m\u001B[38;5;241m.\u001B[39m_reset()  \u001B[38;5;66;03m# type: ignore[call-arg]\u001B[39;00m\n\u001B[1;32m--> 628\u001B[0m data \u001B[38;5;241m=\u001B[39m \u001B[38;5;28;43mself\u001B[39;49m\u001B[38;5;241;43m.\u001B[39;49m\u001B[43m_next_data\u001B[49m\u001B[43m(\u001B[49m\u001B[43m)\u001B[49m\n\u001B[0;32m    629\u001B[0m \u001B[38;5;28mself\u001B[39m\u001B[38;5;241m.\u001B[39m_num_yielded \u001B[38;5;241m+\u001B[39m\u001B[38;5;241m=\u001B[39m \u001B[38;5;241m1\u001B[39m\n\u001B[0;32m    630\u001B[0m \u001B[38;5;28;01mif\u001B[39;00m \u001B[38;5;28mself\u001B[39m\u001B[38;5;241m.\u001B[39m_dataset_kind \u001B[38;5;241m==\u001B[39m _DatasetKind\u001B[38;5;241m.\u001B[39mIterable \u001B[38;5;129;01mand\u001B[39;00m \\\n\u001B[0;32m    631\u001B[0m         \u001B[38;5;28mself\u001B[39m\u001B[38;5;241m.\u001B[39m_IterableDataset_len_called \u001B[38;5;129;01mis\u001B[39;00m \u001B[38;5;129;01mnot\u001B[39;00m \u001B[38;5;28;01mNone\u001B[39;00m \u001B[38;5;129;01mand\u001B[39;00m \\\n\u001B[0;32m    632\u001B[0m         \u001B[38;5;28mself\u001B[39m\u001B[38;5;241m.\u001B[39m_num_yielded \u001B[38;5;241m>\u001B[39m \u001B[38;5;28mself\u001B[39m\u001B[38;5;241m.\u001B[39m_IterableDataset_len_called:\n",
      "File \u001B[1;32m~\\DataspellProjects\\SimCLRPytorch\\venv\\lib\\site-packages\\torch\\utils\\data\\dataloader.py:671\u001B[0m, in \u001B[0;36m_SingleProcessDataLoaderIter._next_data\u001B[1;34m(self)\u001B[0m\n\u001B[0;32m    669\u001B[0m \u001B[38;5;28;01mdef\u001B[39;00m \u001B[38;5;21m_next_data\u001B[39m(\u001B[38;5;28mself\u001B[39m):\n\u001B[0;32m    670\u001B[0m     index \u001B[38;5;241m=\u001B[39m \u001B[38;5;28mself\u001B[39m\u001B[38;5;241m.\u001B[39m_next_index()  \u001B[38;5;66;03m# may raise StopIteration\u001B[39;00m\n\u001B[1;32m--> 671\u001B[0m     data \u001B[38;5;241m=\u001B[39m \u001B[38;5;28;43mself\u001B[39;49m\u001B[38;5;241;43m.\u001B[39;49m\u001B[43m_dataset_fetcher\u001B[49m\u001B[38;5;241;43m.\u001B[39;49m\u001B[43mfetch\u001B[49m\u001B[43m(\u001B[49m\u001B[43mindex\u001B[49m\u001B[43m)\u001B[49m  \u001B[38;5;66;03m# may raise StopIteration\u001B[39;00m\n\u001B[0;32m    672\u001B[0m     \u001B[38;5;28;01mif\u001B[39;00m \u001B[38;5;28mself\u001B[39m\u001B[38;5;241m.\u001B[39m_pin_memory:\n\u001B[0;32m    673\u001B[0m         data \u001B[38;5;241m=\u001B[39m _utils\u001B[38;5;241m.\u001B[39mpin_memory\u001B[38;5;241m.\u001B[39mpin_memory(data, \u001B[38;5;28mself\u001B[39m\u001B[38;5;241m.\u001B[39m_pin_memory_device)\n",
      "File \u001B[1;32m~\\DataspellProjects\\SimCLRPytorch\\venv\\lib\\site-packages\\torch\\utils\\data\\_utils\\fetch.py:58\u001B[0m, in \u001B[0;36m_MapDatasetFetcher.fetch\u001B[1;34m(self, possibly_batched_index)\u001B[0m\n\u001B[0;32m     56\u001B[0m         data \u001B[38;5;241m=\u001B[39m \u001B[38;5;28mself\u001B[39m\u001B[38;5;241m.\u001B[39mdataset\u001B[38;5;241m.\u001B[39m__getitems__(possibly_batched_index)\n\u001B[0;32m     57\u001B[0m     \u001B[38;5;28;01melse\u001B[39;00m:\n\u001B[1;32m---> 58\u001B[0m         data \u001B[38;5;241m=\u001B[39m [\u001B[38;5;28mself\u001B[39m\u001B[38;5;241m.\u001B[39mdataset[idx] \u001B[38;5;28;01mfor\u001B[39;00m idx \u001B[38;5;129;01min\u001B[39;00m possibly_batched_index]\n\u001B[0;32m     59\u001B[0m \u001B[38;5;28;01melse\u001B[39;00m:\n\u001B[0;32m     60\u001B[0m     data \u001B[38;5;241m=\u001B[39m \u001B[38;5;28mself\u001B[39m\u001B[38;5;241m.\u001B[39mdataset[possibly_batched_index]\n",
      "File \u001B[1;32m~\\DataspellProjects\\SimCLRPytorch\\venv\\lib\\site-packages\\torch\\utils\\data\\_utils\\fetch.py:58\u001B[0m, in \u001B[0;36m<listcomp>\u001B[1;34m(.0)\u001B[0m\n\u001B[0;32m     56\u001B[0m         data \u001B[38;5;241m=\u001B[39m \u001B[38;5;28mself\u001B[39m\u001B[38;5;241m.\u001B[39mdataset\u001B[38;5;241m.\u001B[39m__getitems__(possibly_batched_index)\n\u001B[0;32m     57\u001B[0m     \u001B[38;5;28;01melse\u001B[39;00m:\n\u001B[1;32m---> 58\u001B[0m         data \u001B[38;5;241m=\u001B[39m [\u001B[38;5;28;43mself\u001B[39;49m\u001B[38;5;241;43m.\u001B[39;49m\u001B[43mdataset\u001B[49m\u001B[43m[\u001B[49m\u001B[43midx\u001B[49m\u001B[43m]\u001B[49m \u001B[38;5;28;01mfor\u001B[39;00m idx \u001B[38;5;129;01min\u001B[39;00m possibly_batched_index]\n\u001B[0;32m     59\u001B[0m \u001B[38;5;28;01melse\u001B[39;00m:\n\u001B[0;32m     60\u001B[0m     data \u001B[38;5;241m=\u001B[39m \u001B[38;5;28mself\u001B[39m\u001B[38;5;241m.\u001B[39mdataset[possibly_batched_index]\n",
      "File \u001B[1;32m~\\DataspellProjects\\SimCLRPytorch\\venv\\lib\\site-packages\\torchvision\\datasets\\cifar.py:118\u001B[0m, in \u001B[0;36mCIFAR10.__getitem__\u001B[1;34m(self, index)\u001B[0m\n\u001B[0;32m    115\u001B[0m img \u001B[38;5;241m=\u001B[39m Image\u001B[38;5;241m.\u001B[39mfromarray(img)\n\u001B[0;32m    117\u001B[0m \u001B[38;5;28;01mif\u001B[39;00m \u001B[38;5;28mself\u001B[39m\u001B[38;5;241m.\u001B[39mtransform \u001B[38;5;129;01mis\u001B[39;00m \u001B[38;5;129;01mnot\u001B[39;00m \u001B[38;5;28;01mNone\u001B[39;00m:\n\u001B[1;32m--> 118\u001B[0m     img \u001B[38;5;241m=\u001B[39m \u001B[38;5;28;43mself\u001B[39;49m\u001B[38;5;241;43m.\u001B[39;49m\u001B[43mtransform\u001B[49m\u001B[43m(\u001B[49m\u001B[43mimg\u001B[49m\u001B[43m)\u001B[49m\n\u001B[0;32m    120\u001B[0m \u001B[38;5;28;01mif\u001B[39;00m \u001B[38;5;28mself\u001B[39m\u001B[38;5;241m.\u001B[39mtarget_transform \u001B[38;5;129;01mis\u001B[39;00m \u001B[38;5;129;01mnot\u001B[39;00m \u001B[38;5;28;01mNone\u001B[39;00m:\n\u001B[0;32m    121\u001B[0m     target \u001B[38;5;241m=\u001B[39m \u001B[38;5;28mself\u001B[39m\u001B[38;5;241m.\u001B[39mtarget_transform(target)\n",
      "File \u001B[1;32m~\\DataspellProjects\\SimCLRPytorch\\venv\\lib\\site-packages\\torchvision\\transforms\\transforms.py:95\u001B[0m, in \u001B[0;36mCompose.__call__\u001B[1;34m(self, img)\u001B[0m\n\u001B[0;32m     93\u001B[0m \u001B[38;5;28;01mdef\u001B[39;00m \u001B[38;5;21m__call__\u001B[39m(\u001B[38;5;28mself\u001B[39m, img):\n\u001B[0;32m     94\u001B[0m     \u001B[38;5;28;01mfor\u001B[39;00m t \u001B[38;5;129;01min\u001B[39;00m \u001B[38;5;28mself\u001B[39m\u001B[38;5;241m.\u001B[39mtransforms:\n\u001B[1;32m---> 95\u001B[0m         img \u001B[38;5;241m=\u001B[39m \u001B[43mt\u001B[49m\u001B[43m(\u001B[49m\u001B[43mimg\u001B[49m\u001B[43m)\u001B[49m\n\u001B[0;32m     96\u001B[0m     \u001B[38;5;28;01mreturn\u001B[39;00m img\n",
      "File \u001B[1;32m~\\DataspellProjects\\SimCLRPytorch\\venv\\lib\\site-packages\\torch\\nn\\modules\\module.py:1190\u001B[0m, in \u001B[0;36mModule._call_impl\u001B[1;34m(self, *input, **kwargs)\u001B[0m\n\u001B[0;32m   1186\u001B[0m \u001B[38;5;66;03m# If we don't have any hooks, we want to skip the rest of the logic in\u001B[39;00m\n\u001B[0;32m   1187\u001B[0m \u001B[38;5;66;03m# this function, and just call forward.\u001B[39;00m\n\u001B[0;32m   1188\u001B[0m \u001B[38;5;28;01mif\u001B[39;00m \u001B[38;5;129;01mnot\u001B[39;00m (\u001B[38;5;28mself\u001B[39m\u001B[38;5;241m.\u001B[39m_backward_hooks \u001B[38;5;129;01mor\u001B[39;00m \u001B[38;5;28mself\u001B[39m\u001B[38;5;241m.\u001B[39m_forward_hooks \u001B[38;5;129;01mor\u001B[39;00m \u001B[38;5;28mself\u001B[39m\u001B[38;5;241m.\u001B[39m_forward_pre_hooks \u001B[38;5;129;01mor\u001B[39;00m _global_backward_hooks\n\u001B[0;32m   1189\u001B[0m         \u001B[38;5;129;01mor\u001B[39;00m _global_forward_hooks \u001B[38;5;129;01mor\u001B[39;00m _global_forward_pre_hooks):\n\u001B[1;32m-> 1190\u001B[0m     \u001B[38;5;28;01mreturn\u001B[39;00m \u001B[43mforward_call\u001B[49m\u001B[43m(\u001B[49m\u001B[38;5;241;43m*\u001B[39;49m\u001B[38;5;28;43minput\u001B[39;49m\u001B[43m,\u001B[49m\u001B[43m \u001B[49m\u001B[38;5;241;43m*\u001B[39;49m\u001B[38;5;241;43m*\u001B[39;49m\u001B[43mkwargs\u001B[49m\u001B[43m)\u001B[49m\n\u001B[0;32m   1191\u001B[0m \u001B[38;5;66;03m# Do not call functions when jit is used\u001B[39;00m\n\u001B[0;32m   1192\u001B[0m full_backward_hooks, non_full_backward_hooks \u001B[38;5;241m=\u001B[39m [], []\n",
      "File \u001B[1;32m~\\DataspellProjects\\SimCLRPytorch\\venv\\lib\\site-packages\\torchvision\\transforms\\transforms.py:532\u001B[0m, in \u001B[0;36mRandomApply.forward\u001B[1;34m(self, img)\u001B[0m\n\u001B[0;32m    530\u001B[0m     \u001B[38;5;28;01mreturn\u001B[39;00m img\n\u001B[0;32m    531\u001B[0m \u001B[38;5;28;01mfor\u001B[39;00m t \u001B[38;5;129;01min\u001B[39;00m \u001B[38;5;28mself\u001B[39m\u001B[38;5;241m.\u001B[39mtransforms:\n\u001B[1;32m--> 532\u001B[0m     img \u001B[38;5;241m=\u001B[39m \u001B[43mt\u001B[49m\u001B[43m(\u001B[49m\u001B[43mimg\u001B[49m\u001B[43m)\u001B[49m\n\u001B[0;32m    533\u001B[0m \u001B[38;5;28;01mreturn\u001B[39;00m img\n",
      "File \u001B[1;32m~\\DataspellProjects\\SimCLRPytorch\\venv\\lib\\site-packages\\torch\\nn\\modules\\module.py:1190\u001B[0m, in \u001B[0;36mModule._call_impl\u001B[1;34m(self, *input, **kwargs)\u001B[0m\n\u001B[0;32m   1186\u001B[0m \u001B[38;5;66;03m# If we don't have any hooks, we want to skip the rest of the logic in\u001B[39;00m\n\u001B[0;32m   1187\u001B[0m \u001B[38;5;66;03m# this function, and just call forward.\u001B[39;00m\n\u001B[0;32m   1188\u001B[0m \u001B[38;5;28;01mif\u001B[39;00m \u001B[38;5;129;01mnot\u001B[39;00m (\u001B[38;5;28mself\u001B[39m\u001B[38;5;241m.\u001B[39m_backward_hooks \u001B[38;5;129;01mor\u001B[39;00m \u001B[38;5;28mself\u001B[39m\u001B[38;5;241m.\u001B[39m_forward_hooks \u001B[38;5;129;01mor\u001B[39;00m \u001B[38;5;28mself\u001B[39m\u001B[38;5;241m.\u001B[39m_forward_pre_hooks \u001B[38;5;129;01mor\u001B[39;00m _global_backward_hooks\n\u001B[0;32m   1189\u001B[0m         \u001B[38;5;129;01mor\u001B[39;00m _global_forward_hooks \u001B[38;5;129;01mor\u001B[39;00m _global_forward_pre_hooks):\n\u001B[1;32m-> 1190\u001B[0m     \u001B[38;5;28;01mreturn\u001B[39;00m \u001B[43mforward_call\u001B[49m\u001B[43m(\u001B[49m\u001B[38;5;241;43m*\u001B[39;49m\u001B[38;5;28;43minput\u001B[39;49m\u001B[43m,\u001B[49m\u001B[43m \u001B[49m\u001B[38;5;241;43m*\u001B[39;49m\u001B[38;5;241;43m*\u001B[39;49m\u001B[43mkwargs\u001B[49m\u001B[43m)\u001B[49m\n\u001B[0;32m   1191\u001B[0m \u001B[38;5;66;03m# Do not call functions when jit is used\u001B[39;00m\n\u001B[0;32m   1192\u001B[0m full_backward_hooks, non_full_backward_hooks \u001B[38;5;241m=\u001B[39m [], []\n",
      "File \u001B[1;32m~\\DataspellProjects\\SimCLRPytorch\\venv\\lib\\site-packages\\torchvision\\transforms\\transforms.py:1255\u001B[0m, in \u001B[0;36mColorJitter.forward\u001B[1;34m(self, img)\u001B[0m\n\u001B[0;32m   1253\u001B[0m         img \u001B[38;5;241m=\u001B[39m F\u001B[38;5;241m.\u001B[39madjust_saturation(img, saturation_factor)\n\u001B[0;32m   1254\u001B[0m     \u001B[38;5;28;01melif\u001B[39;00m fn_id \u001B[38;5;241m==\u001B[39m \u001B[38;5;241m3\u001B[39m \u001B[38;5;129;01mand\u001B[39;00m hue_factor \u001B[38;5;129;01mis\u001B[39;00m \u001B[38;5;129;01mnot\u001B[39;00m \u001B[38;5;28;01mNone\u001B[39;00m:\n\u001B[1;32m-> 1255\u001B[0m         img \u001B[38;5;241m=\u001B[39m \u001B[43mF\u001B[49m\u001B[38;5;241;43m.\u001B[39;49m\u001B[43madjust_hue\u001B[49m\u001B[43m(\u001B[49m\u001B[43mimg\u001B[49m\u001B[43m,\u001B[49m\u001B[43m \u001B[49m\u001B[43mhue_factor\u001B[49m\u001B[43m)\u001B[49m\n\u001B[0;32m   1257\u001B[0m \u001B[38;5;28;01mreturn\u001B[39;00m img\n",
      "File \u001B[1;32m~\\DataspellProjects\\SimCLRPytorch\\venv\\lib\\site-packages\\torchvision\\transforms\\functional.py:949\u001B[0m, in \u001B[0;36madjust_hue\u001B[1;34m(img, hue_factor)\u001B[0m\n\u001B[0;32m    947\u001B[0m     _log_api_usage_once(adjust_hue)\n\u001B[0;32m    948\u001B[0m \u001B[38;5;28;01mif\u001B[39;00m \u001B[38;5;129;01mnot\u001B[39;00m \u001B[38;5;28misinstance\u001B[39m(img, torch\u001B[38;5;241m.\u001B[39mTensor):\n\u001B[1;32m--> 949\u001B[0m     \u001B[38;5;28;01mreturn\u001B[39;00m \u001B[43mF_pil\u001B[49m\u001B[38;5;241;43m.\u001B[39;49m\u001B[43madjust_hue\u001B[49m\u001B[43m(\u001B[49m\u001B[43mimg\u001B[49m\u001B[43m,\u001B[49m\u001B[43m \u001B[49m\u001B[43mhue_factor\u001B[49m\u001B[43m)\u001B[49m\n\u001B[0;32m    951\u001B[0m \u001B[38;5;28;01mreturn\u001B[39;00m F_t\u001B[38;5;241m.\u001B[39madjust_hue(img, hue_factor)\n",
      "File \u001B[1;32m~\\DataspellProjects\\SimCLRPytorch\\venv\\lib\\site-packages\\torchvision\\transforms\\functional_pil.py:113\u001B[0m, in \u001B[0;36madjust_hue\u001B[1;34m(img, hue_factor)\u001B[0m\n\u001B[0;32m    109\u001B[0m     \u001B[38;5;28;01mreturn\u001B[39;00m img\n\u001B[0;32m    111\u001B[0m h, s, v \u001B[38;5;241m=\u001B[39m img\u001B[38;5;241m.\u001B[39mconvert(\u001B[38;5;124m\"\u001B[39m\u001B[38;5;124mHSV\u001B[39m\u001B[38;5;124m\"\u001B[39m)\u001B[38;5;241m.\u001B[39msplit()\n\u001B[1;32m--> 113\u001B[0m np_h \u001B[38;5;241m=\u001B[39m \u001B[43mnp\u001B[49m\u001B[38;5;241;43m.\u001B[39;49m\u001B[43marray\u001B[49m\u001B[43m(\u001B[49m\u001B[43mh\u001B[49m\u001B[43m,\u001B[49m\u001B[43m \u001B[49m\u001B[43mdtype\u001B[49m\u001B[38;5;241;43m=\u001B[39;49m\u001B[43mnp\u001B[49m\u001B[38;5;241;43m.\u001B[39;49m\u001B[43muint8\u001B[49m\u001B[43m)\u001B[49m\n\u001B[0;32m    114\u001B[0m \u001B[38;5;66;03m# uint8 addition take cares of rotation across boundaries\u001B[39;00m\n\u001B[0;32m    115\u001B[0m \u001B[38;5;28;01mwith\u001B[39;00m np\u001B[38;5;241m.\u001B[39merrstate(over\u001B[38;5;241m=\u001B[39m\u001B[38;5;124m\"\u001B[39m\u001B[38;5;124mignore\u001B[39m\u001B[38;5;124m\"\u001B[39m):\n",
      "\u001B[1;31mKeyboardInterrupt\u001B[0m: "
     ]
    }
   ],
   "source": [
    "optimizer = torch.optim.Adam(model.parameters(), 0.0003, weight_decay=1e-4)\n",
    "\n",
    "scheduler = torch.optim.lr_scheduler.CosineAnnealingLR(optimizer, T_max=len(train_loader_1), eta_min=0,\n",
    "                                                       last_epoch=-1)\n",
    "\n",
    "with torch.cuda.device(gpu_index):\n",
    "    simclr = PreTrainer(model=model, optimizer=optimizer, scheduler=scheduler, device=device, epochs=200, log_every_n_steps=100)\n",
    "    simclr.train(train_loader_1, shuffle=True)"
   ],
   "metadata": {
    "collapsed": false
   }
  },
  {
   "cell_type": "markdown",
   "source": [],
   "metadata": {
    "collapsed": false
   }
  },
  {
   "cell_type": "code",
   "execution_count": 9,
   "outputs": [],
   "source": [
    "# torch.save(model.state_dict(), 'saved_models/model_2023_cifar10_random_labels.pth')"
   ],
   "metadata": {
    "collapsed": false
   }
  },
  {
   "cell_type": "code",
   "execution_count": 8,
   "outputs": [],
   "source": [
    "model.backbone.fc = torch.nn.Sequential(\n",
    "    torch.nn.Linear(in_features=512, out_features=128, bias=True),\n",
    "    torch.nn.ReLU(inplace=True),\n",
    "    torch.nn.BatchNorm1d(128),\n",
    "    torch.nn.Linear(in_features=128, out_features=10, bias=True),\n",
    ")\n"
   ],
   "metadata": {
    "collapsed": false
   }
  },
  {
   "cell_type": "code",
   "execution_count": 9,
   "outputs": [
    {
     "name": "stdout",
     "output_type": "stream",
     "text": [
      "conv1.weight: False\n",
      "bn1.weight: False\n",
      "bn1.bias: False\n",
      "layer1.0.conv1.weight: False\n",
      "layer1.0.bn1.weight: False\n",
      "layer1.0.bn1.bias: False\n",
      "layer1.0.conv2.weight: False\n",
      "layer1.0.bn2.weight: False\n",
      "layer1.0.bn2.bias: False\n",
      "layer1.1.conv1.weight: False\n",
      "layer1.1.bn1.weight: False\n",
      "layer1.1.bn1.bias: False\n",
      "layer1.1.conv2.weight: False\n",
      "layer1.1.bn2.weight: False\n",
      "layer1.1.bn2.bias: False\n",
      "layer2.0.conv1.weight: False\n",
      "layer2.0.bn1.weight: False\n",
      "layer2.0.bn1.bias: False\n",
      "layer2.0.conv2.weight: False\n",
      "layer2.0.bn2.weight: False\n",
      "layer2.0.bn2.bias: False\n",
      "layer2.0.downsample.0.weight: False\n",
      "layer2.0.downsample.1.weight: False\n",
      "layer2.0.downsample.1.bias: False\n",
      "layer2.1.conv1.weight: False\n",
      "layer2.1.bn1.weight: False\n",
      "layer2.1.bn1.bias: False\n",
      "layer2.1.conv2.weight: False\n",
      "layer2.1.bn2.weight: False\n",
      "layer2.1.bn2.bias: False\n",
      "layer3.0.conv1.weight: False\n",
      "layer3.0.bn1.weight: False\n",
      "layer3.0.bn1.bias: False\n",
      "layer3.0.conv2.weight: False\n",
      "layer3.0.bn2.weight: False\n",
      "layer3.0.bn2.bias: False\n",
      "layer3.0.downsample.0.weight: False\n",
      "layer3.0.downsample.1.weight: False\n",
      "layer3.0.downsample.1.bias: False\n",
      "layer3.1.conv1.weight: False\n",
      "layer3.1.bn1.weight: False\n",
      "layer3.1.bn1.bias: False\n",
      "layer3.1.conv2.weight: False\n",
      "layer3.1.bn2.weight: False\n",
      "layer3.1.bn2.bias: False\n",
      "layer4.0.conv1.weight: False\n",
      "layer4.0.bn1.weight: False\n",
      "layer4.0.bn1.bias: False\n",
      "layer4.0.conv2.weight: False\n",
      "layer4.0.bn2.weight: False\n",
      "layer4.0.bn2.bias: False\n",
      "layer4.0.downsample.0.weight: False\n",
      "layer4.0.downsample.1.weight: False\n",
      "layer4.0.downsample.1.bias: False\n",
      "layer4.1.conv1.weight: False\n",
      "layer4.1.bn1.weight: False\n",
      "layer4.1.bn1.bias: False\n",
      "layer4.1.conv2.weight: False\n",
      "layer4.1.bn2.weight: False\n",
      "layer4.1.bn2.bias: False\n",
      "fc.0.weight: True\n",
      "fc.0.bias: True\n",
      "fc.2.weight: True\n",
      "fc.2.bias: True\n",
      "fc.3.weight: True\n",
      "fc.3.bias: True\n"
     ]
    }
   ],
   "source": [
    "model.backbone.requires_grad_(False)\n",
    "model.backbone.fc.requires_grad_(True)\n",
    "\n",
    "for parameter in model.backbone.named_parameters():\n",
    "    print(f'{parameter[0]}: {parameter[1].requires_grad}')\n"
   ],
   "metadata": {
    "collapsed": false
   }
  },
  {
   "cell_type": "code",
   "execution_count": null,
   "outputs": [],
   "source": [
    "# torch.save(model.state_dict(), 'saved_models/model_new_cifar10.pth')"
   ],
   "metadata": {
    "collapsed": false
   }
  },
  {
   "cell_type": "code",
   "execution_count": 40,
   "outputs": [
    {
     "name": "stdout",
     "output_type": "stream",
     "text": [
      "Files already downloaded and verified\n"
     ]
    }
   ],
   "source": [
    "head_dataset = datasets.CIFAR10('./datasets', download=True, train=True, transform=transforms.ToTensor()) #update of names to more suitable\n",
    "head_loader = torch.utils.data.DataLoader(head_dataset, batch_size=256, shuffle=True, pin_memory=True, drop_last=True, generator=g)"
   ],
   "metadata": {
    "collapsed": false
   }
  },
  {
   "cell_type": "code",
   "execution_count": 41,
   "outputs": [],
   "source": [
    "optimizer = torch.optim.Adam(model.parameters(), 0.0003, weight_decay=1e-4)\n",
    "\n",
    "scheduler = torch.optim.lr_scheduler.CosineAnnealingLR(optimizer, T_max=len(train_loader_1), eta_min=0,\n",
    "                                                       last_epoch=-1)"
   ],
   "metadata": {
    "collapsed": false
   }
  },
  {
   "cell_type": "code",
   "execution_count": 42,
   "outputs": [
    {
     "name": "stderr",
     "output_type": "stream",
     "text": [
      "  0%|          | 0/195 [00:00<?, ?it/s]C:\\Users\\kacpe\\DataspellProjects\\SimCLRPytorch\\venv\\lib\\site-packages\\torch\\optim\\lr_scheduler.py:807: UserWarning: To get the last learning rate computed by the scheduler, please use `get_last_lr()`.\n",
      "  warnings.warn(\"To get the last learning rate computed by the scheduler, \"\n",
      "100%|██████████| 195/195 [00:07<00:00, 25.76it/s]\n",
      "100%|██████████| 195/195 [00:07<00:00, 26.24it/s]\n",
      "100%|██████████| 195/195 [00:07<00:00, 25.99it/s]\n",
      "100%|██████████| 195/195 [00:07<00:00, 26.05it/s]\n",
      "100%|██████████| 195/195 [00:07<00:00, 26.38it/s]\n",
      "100%|██████████| 195/195 [00:07<00:00, 27.42it/s]\n",
      "100%|██████████| 195/195 [00:07<00:00, 27.20it/s]\n",
      "100%|██████████| 195/195 [00:07<00:00, 27.20it/s]\n",
      "100%|██████████| 195/195 [00:07<00:00, 26.83it/s]\n",
      "100%|██████████| 195/195 [00:07<00:00, 27.20it/s]\n",
      "100%|██████████| 195/195 [00:07<00:00, 26.49it/s]\n",
      "100%|██████████| 195/195 [00:07<00:00, 27.14it/s]\n",
      "100%|██████████| 195/195 [00:07<00:00, 27.10it/s]\n",
      "100%|██████████| 195/195 [00:07<00:00, 26.77it/s]\n",
      "100%|██████████| 195/195 [00:07<00:00, 26.86it/s]\n",
      "100%|██████████| 195/195 [00:07<00:00, 26.89it/s]\n",
      "100%|██████████| 195/195 [00:07<00:00, 26.81it/s]\n",
      "100%|██████████| 195/195 [00:07<00:00, 26.78it/s]\n",
      "100%|██████████| 195/195 [00:07<00:00, 26.67it/s]\n",
      "100%|██████████| 195/195 [00:07<00:00, 27.00it/s]\n",
      "100%|██████████| 195/195 [00:07<00:00, 24.83it/s]\n",
      "100%|██████████| 195/195 [00:07<00:00, 26.06it/s]\n",
      "100%|██████████| 195/195 [00:07<00:00, 26.27it/s]\n",
      "100%|██████████| 195/195 [00:07<00:00, 27.42it/s]\n",
      "100%|██████████| 195/195 [00:07<00:00, 27.75it/s]\n",
      "100%|██████████| 195/195 [00:07<00:00, 27.51it/s]\n",
      "100%|██████████| 195/195 [00:07<00:00, 27.76it/s]\n",
      "100%|██████████| 195/195 [00:07<00:00, 26.87it/s]\n",
      "100%|██████████| 195/195 [00:07<00:00, 26.55it/s]\n",
      "100%|██████████| 195/195 [00:07<00:00, 26.40it/s]\n",
      "100%|██████████| 195/195 [00:07<00:00, 26.82it/s]\n",
      "100%|██████████| 195/195 [00:07<00:00, 24.77it/s]\n",
      "100%|██████████| 195/195 [00:07<00:00, 25.57it/s]\n",
      "100%|██████████| 195/195 [00:07<00:00, 26.50it/s]\n",
      "100%|██████████| 195/195 [00:07<00:00, 26.98it/s]\n",
      "100%|██████████| 195/195 [00:07<00:00, 27.66it/s]\n",
      "100%|██████████| 195/195 [00:07<00:00, 27.78it/s]\n",
      "100%|██████████| 195/195 [00:06<00:00, 27.94it/s]\n",
      "100%|██████████| 195/195 [00:07<00:00, 27.79it/s]\n",
      "100%|██████████| 195/195 [00:07<00:00, 26.58it/s]\n",
      "100%|██████████| 195/195 [00:07<00:00, 26.82it/s]\n",
      "100%|██████████| 195/195 [00:07<00:00, 26.18it/s]\n",
      "100%|██████████| 195/195 [00:07<00:00, 27.04it/s]\n",
      "100%|██████████| 195/195 [00:07<00:00, 26.56it/s]\n",
      "100%|██████████| 195/195 [00:07<00:00, 24.76it/s]\n",
      "100%|██████████| 195/195 [00:07<00:00, 26.76it/s]\n",
      "100%|██████████| 195/195 [00:07<00:00, 26.80it/s]\n",
      "100%|██████████| 195/195 [00:07<00:00, 26.19it/s]\n",
      "100%|██████████| 195/195 [00:07<00:00, 26.28it/s]\n",
      "100%|██████████| 195/195 [00:07<00:00, 26.09it/s]\n",
      "100%|██████████| 195/195 [00:07<00:00, 27.35it/s]\n",
      "100%|██████████| 195/195 [00:07<00:00, 27.55it/s]\n",
      "100%|██████████| 195/195 [00:07<00:00, 27.20it/s]\n",
      "100%|██████████| 195/195 [00:07<00:00, 27.79it/s]\n",
      "100%|██████████| 195/195 [00:07<00:00, 27.81it/s]\n",
      "100%|██████████| 195/195 [00:07<00:00, 26.86it/s]\n",
      "100%|██████████| 195/195 [00:07<00:00, 27.26it/s]\n",
      "100%|██████████| 195/195 [00:07<00:00, 27.29it/s]\n",
      "100%|██████████| 195/195 [00:07<00:00, 27.25it/s]\n",
      "100%|██████████| 195/195 [00:07<00:00, 27.57it/s]\n",
      "100%|██████████| 195/195 [00:07<00:00, 26.28it/s]\n",
      "100%|██████████| 195/195 [00:07<00:00, 25.82it/s]\n",
      "100%|██████████| 195/195 [00:07<00:00, 27.56it/s]\n",
      "100%|██████████| 195/195 [00:06<00:00, 28.12it/s]\n",
      "100%|██████████| 195/195 [00:07<00:00, 27.51it/s]\n",
      "100%|██████████| 195/195 [00:07<00:00, 26.98it/s]\n",
      "100%|██████████| 195/195 [00:07<00:00, 27.50it/s]\n",
      "100%|██████████| 195/195 [00:07<00:00, 27.38it/s]\n",
      "100%|██████████| 195/195 [00:07<00:00, 27.48it/s]\n",
      "100%|██████████| 195/195 [00:07<00:00, 27.31it/s]\n",
      "100%|██████████| 195/195 [00:07<00:00, 27.85it/s]\n",
      "100%|██████████| 195/195 [00:07<00:00, 27.67it/s]\n",
      "100%|██████████| 195/195 [00:07<00:00, 27.61it/s]\n",
      "100%|██████████| 195/195 [00:07<00:00, 27.54it/s]\n",
      "100%|██████████| 195/195 [00:07<00:00, 27.40it/s]\n",
      "100%|██████████| 195/195 [00:07<00:00, 27.45it/s]\n",
      "100%|██████████| 195/195 [00:07<00:00, 26.91it/s]\n",
      "100%|██████████| 195/195 [00:07<00:00, 27.67it/s]\n",
      "100%|██████████| 195/195 [00:07<00:00, 27.50it/s]\n",
      "100%|██████████| 195/195 [00:07<00:00, 27.40it/s]\n",
      "100%|██████████| 195/195 [00:07<00:00, 25.80it/s]\n",
      "100%|██████████| 195/195 [00:07<00:00, 26.69it/s]\n",
      "100%|██████████| 195/195 [00:07<00:00, 27.56it/s]\n",
      "100%|██████████| 195/195 [00:06<00:00, 28.02it/s]\n",
      "100%|██████████| 195/195 [00:07<00:00, 27.28it/s]\n",
      "100%|██████████| 195/195 [00:07<00:00, 26.89it/s]\n",
      "100%|██████████| 195/195 [00:07<00:00, 25.63it/s]\n",
      "100%|██████████| 195/195 [00:07<00:00, 26.61it/s]\n",
      "100%|██████████| 195/195 [00:07<00:00, 26.26it/s]\n",
      "100%|██████████| 195/195 [00:07<00:00, 26.72it/s]\n",
      "100%|██████████| 195/195 [00:07<00:00, 26.76it/s]\n",
      "100%|██████████| 195/195 [00:07<00:00, 26.87it/s]\n",
      "100%|██████████| 195/195 [00:07<00:00, 26.71it/s]\n",
      "100%|██████████| 195/195 [00:07<00:00, 26.77it/s]\n",
      "100%|██████████| 195/195 [00:07<00:00, 26.60it/s]\n",
      "100%|██████████| 195/195 [00:07<00:00, 26.36it/s]\n",
      "100%|██████████| 195/195 [00:07<00:00, 26.40it/s]\n",
      "100%|██████████| 195/195 [00:07<00:00, 26.54it/s]\n",
      "100%|██████████| 195/195 [00:07<00:00, 26.65it/s]\n",
      "100%|██████████| 195/195 [00:07<00:00, 26.66it/s]\n",
      "100%|██████████| 195/195 [00:07<00:00, 26.43it/s]\n",
      "100%|██████████| 195/195 [00:07<00:00, 26.51it/s]\n",
      "100%|██████████| 195/195 [00:07<00:00, 26.38it/s]\n",
      "100%|██████████| 195/195 [00:07<00:00, 25.83it/s]\n",
      "100%|██████████| 195/195 [00:07<00:00, 25.31it/s]\n",
      "100%|██████████| 195/195 [00:07<00:00, 27.16it/s]\n",
      "100%|██████████| 195/195 [00:07<00:00, 26.95it/s]\n",
      "100%|██████████| 195/195 [00:07<00:00, 27.35it/s]\n",
      "100%|██████████| 195/195 [00:07<00:00, 27.41it/s]\n",
      "100%|██████████| 195/195 [00:07<00:00, 27.63it/s]\n",
      "100%|██████████| 195/195 [00:07<00:00, 27.58it/s]\n",
      "100%|██████████| 195/195 [00:07<00:00, 27.76it/s]\n",
      "100%|██████████| 195/195 [00:07<00:00, 27.17it/s]\n",
      "100%|██████████| 195/195 [00:07<00:00, 27.66it/s]\n",
      "100%|██████████| 195/195 [00:07<00:00, 27.49it/s]\n",
      "100%|██████████| 195/195 [00:07<00:00, 27.43it/s]\n",
      "100%|██████████| 195/195 [00:07<00:00, 27.63it/s]\n",
      "100%|██████████| 195/195 [00:07<00:00, 27.27it/s]\n",
      "100%|██████████| 195/195 [00:07<00:00, 27.14it/s]\n",
      "100%|██████████| 195/195 [00:07<00:00, 27.12it/s]\n",
      "100%|██████████| 195/195 [00:07<00:00, 26.72it/s]\n",
      "100%|██████████| 195/195 [00:07<00:00, 26.28it/s]\n",
      "100%|██████████| 195/195 [00:07<00:00, 24.71it/s]\n",
      "100%|██████████| 195/195 [00:07<00:00, 26.53it/s]\n",
      "100%|██████████| 195/195 [00:07<00:00, 27.56it/s]\n",
      "100%|██████████| 195/195 [00:06<00:00, 27.94it/s]\n",
      "100%|██████████| 195/195 [00:07<00:00, 27.74it/s]\n",
      "100%|██████████| 195/195 [00:06<00:00, 27.87it/s]\n",
      "100%|██████████| 195/195 [00:07<00:00, 27.72it/s]\n",
      "100%|██████████| 195/195 [00:07<00:00, 26.85it/s]\n",
      "100%|██████████| 195/195 [00:07<00:00, 26.93it/s]\n",
      "100%|██████████| 195/195 [00:07<00:00, 26.84it/s]\n",
      "100%|██████████| 195/195 [00:07<00:00, 27.46it/s]\n",
      "100%|██████████| 195/195 [00:07<00:00, 27.81it/s]\n",
      "100%|██████████| 195/195 [00:07<00:00, 27.73it/s]\n",
      "100%|██████████| 195/195 [00:07<00:00, 27.68it/s]\n",
      "100%|██████████| 195/195 [00:07<00:00, 26.14it/s]\n",
      "100%|██████████| 195/195 [00:07<00:00, 26.35it/s]\n",
      "100%|██████████| 195/195 [00:07<00:00, 27.28it/s]\n",
      "100%|██████████| 195/195 [00:07<00:00, 27.67it/s]\n",
      "100%|██████████| 195/195 [00:07<00:00, 27.66it/s]\n",
      "100%|██████████| 195/195 [00:07<00:00, 27.47it/s]\n",
      "100%|██████████| 195/195 [00:07<00:00, 26.71it/s]\n",
      "100%|██████████| 195/195 [00:07<00:00, 24.70it/s]\n",
      "100%|██████████| 195/195 [00:07<00:00, 26.61it/s]\n",
      "100%|██████████| 195/195 [00:07<00:00, 26.88it/s]\n",
      "100%|██████████| 195/195 [00:07<00:00, 26.23it/s]\n",
      "100%|██████████| 195/195 [00:07<00:00, 27.06it/s]\n",
      "100%|██████████| 195/195 [00:07<00:00, 27.29it/s]\n",
      "100%|██████████| 195/195 [00:07<00:00, 26.63it/s]\n",
      "100%|██████████| 195/195 [00:07<00:00, 26.99it/s]\n",
      "100%|██████████| 195/195 [00:07<00:00, 27.44it/s]\n",
      "100%|██████████| 195/195 [00:07<00:00, 27.56it/s]\n",
      "100%|██████████| 195/195 [00:07<00:00, 27.36it/s]\n",
      "100%|██████████| 195/195 [00:07<00:00, 27.43it/s]\n",
      "100%|██████████| 195/195 [00:07<00:00, 26.69it/s]\n",
      "100%|██████████| 195/195 [00:07<00:00, 26.65it/s]\n",
      "100%|██████████| 195/195 [00:07<00:00, 26.72it/s]\n",
      "100%|██████████| 195/195 [00:07<00:00, 27.05it/s]\n",
      "100%|██████████| 195/195 [00:07<00:00, 26.28it/s]\n",
      "100%|██████████| 195/195 [00:07<00:00, 26.67it/s]\n",
      "100%|██████████| 195/195 [00:07<00:00, 27.47it/s]\n",
      "100%|██████████| 195/195 [00:07<00:00, 27.21it/s]\n",
      "100%|██████████| 195/195 [00:07<00:00, 26.38it/s]\n",
      "100%|██████████| 195/195 [00:07<00:00, 26.03it/s]\n",
      "100%|██████████| 195/195 [00:07<00:00, 26.96it/s]\n",
      "100%|██████████| 195/195 [00:07<00:00, 27.27it/s]\n",
      "100%|██████████| 195/195 [00:07<00:00, 27.36it/s]\n",
      "100%|██████████| 195/195 [00:07<00:00, 26.25it/s]\n",
      "100%|██████████| 195/195 [00:07<00:00, 24.86it/s]\n",
      "100%|██████████| 195/195 [00:07<00:00, 25.17it/s]\n",
      "100%|██████████| 195/195 [00:07<00:00, 26.35it/s]\n",
      "100%|██████████| 195/195 [00:07<00:00, 26.35it/s]\n",
      "100%|██████████| 195/195 [00:07<00:00, 26.55it/s]\n",
      "100%|██████████| 195/195 [00:07<00:00, 26.48it/s]\n",
      "100%|██████████| 195/195 [00:07<00:00, 26.14it/s]\n",
      "100%|██████████| 195/195 [00:07<00:00, 26.44it/s]\n",
      "100%|██████████| 195/195 [00:07<00:00, 26.24it/s]\n",
      "100%|██████████| 195/195 [00:07<00:00, 25.38it/s]\n",
      "100%|██████████| 195/195 [00:07<00:00, 26.28it/s]\n",
      "100%|██████████| 195/195 [00:07<00:00, 26.27it/s]\n",
      "100%|██████████| 195/195 [00:07<00:00, 26.35it/s]\n",
      "100%|██████████| 195/195 [00:07<00:00, 25.69it/s]\n",
      "100%|██████████| 195/195 [00:07<00:00, 26.35it/s]\n",
      "100%|██████████| 195/195 [00:07<00:00, 26.47it/s]\n",
      "100%|██████████| 195/195 [00:07<00:00, 25.67it/s]\n",
      "100%|██████████| 195/195 [00:07<00:00, 25.96it/s]\n",
      "100%|██████████| 195/195 [00:07<00:00, 25.84it/s]\n",
      "100%|██████████| 195/195 [00:07<00:00, 25.75it/s]\n",
      "100%|██████████| 195/195 [00:07<00:00, 25.75it/s]\n",
      "100%|██████████| 195/195 [00:07<00:00, 26.30it/s]\n",
      "100%|██████████| 195/195 [00:07<00:00, 25.66it/s]\n",
      "100%|██████████| 195/195 [00:07<00:00, 26.42it/s]\n",
      "100%|██████████| 195/195 [00:07<00:00, 25.40it/s]\n",
      "100%|██████████| 195/195 [00:07<00:00, 26.72it/s]\n",
      "100%|██████████| 195/195 [00:07<00:00, 26.06it/s]\n",
      "100%|██████████| 195/195 [00:07<00:00, 25.49it/s]\n",
      "100%|██████████| 195/195 [00:07<00:00, 25.60it/s]\n",
      "100%|██████████| 195/195 [00:08<00:00, 24.22it/s]\n",
      "100%|██████████| 195/195 [00:07<00:00, 25.04it/s]\n",
      "100%|██████████| 195/195 [00:07<00:00, 25.35it/s]\n",
      "100%|██████████| 195/195 [00:07<00:00, 25.42it/s]\n",
      "100%|██████████| 195/195 [00:07<00:00, 25.79it/s]\n",
      "100%|██████████| 195/195 [00:07<00:00, 25.14it/s]\n",
      "100%|██████████| 195/195 [00:07<00:00, 24.72it/s]\n",
      "100%|██████████| 195/195 [00:07<00:00, 25.95it/s]\n",
      "100%|██████████| 195/195 [00:07<00:00, 24.95it/s]\n",
      "100%|██████████| 195/195 [00:07<00:00, 25.10it/s]\n",
      "100%|██████████| 195/195 [00:07<00:00, 25.11it/s]\n",
      "100%|██████████| 195/195 [00:07<00:00, 24.65it/s]\n",
      "100%|██████████| 195/195 [00:07<00:00, 26.06it/s]\n",
      "100%|██████████| 195/195 [00:07<00:00, 26.20it/s]\n",
      "100%|██████████| 195/195 [00:07<00:00, 27.08it/s]\n",
      "100%|██████████| 195/195 [00:07<00:00, 26.68it/s]\n",
      "100%|██████████| 195/195 [00:07<00:00, 26.22it/s]\n",
      "100%|██████████| 195/195 [00:08<00:00, 23.91it/s]\n",
      "100%|██████████| 195/195 [00:07<00:00, 25.95it/s]\n",
      "100%|██████████| 195/195 [00:07<00:00, 26.40it/s]\n",
      "100%|██████████| 195/195 [00:07<00:00, 26.10it/s]\n",
      "100%|██████████| 195/195 [00:07<00:00, 26.37it/s]\n",
      "100%|██████████| 195/195 [00:07<00:00, 26.47it/s]\n",
      "100%|██████████| 195/195 [00:07<00:00, 26.62it/s]\n",
      "100%|██████████| 195/195 [00:07<00:00, 25.42it/s]\n",
      "100%|██████████| 195/195 [00:07<00:00, 25.32it/s]\n",
      "100%|██████████| 195/195 [00:07<00:00, 26.18it/s]\n",
      "100%|██████████| 195/195 [00:07<00:00, 26.39it/s]\n",
      "100%|██████████| 195/195 [00:07<00:00, 26.10it/s]\n",
      "100%|██████████| 195/195 [00:07<00:00, 25.92it/s]\n",
      "100%|██████████| 195/195 [00:07<00:00, 26.35it/s]\n",
      "100%|██████████| 195/195 [00:07<00:00, 26.02it/s]\n",
      "100%|██████████| 195/195 [00:07<00:00, 25.60it/s]\n",
      "100%|██████████| 195/195 [00:07<00:00, 25.42it/s]\n",
      "100%|██████████| 195/195 [00:07<00:00, 24.90it/s]\n",
      "100%|██████████| 195/195 [00:07<00:00, 25.74it/s]\n",
      "100%|██████████| 195/195 [00:07<00:00, 25.75it/s]\n",
      "100%|██████████| 195/195 [00:07<00:00, 25.29it/s]\n",
      "100%|██████████| 195/195 [00:07<00:00, 24.60it/s]\n",
      "100%|██████████| 195/195 [00:07<00:00, 25.54it/s]\n",
      "100%|██████████| 195/195 [00:07<00:00, 25.04it/s]\n",
      "100%|██████████| 195/195 [00:07<00:00, 26.08it/s]\n",
      "100%|██████████| 195/195 [00:07<00:00, 25.81it/s]\n",
      "100%|██████████| 195/195 [00:07<00:00, 25.20it/s]\n",
      "100%|██████████| 195/195 [00:07<00:00, 24.90it/s]\n",
      "100%|██████████| 195/195 [00:07<00:00, 26.10it/s]\n",
      "100%|██████████| 195/195 [00:07<00:00, 26.15it/s]\n",
      "100%|██████████| 195/195 [00:07<00:00, 25.79it/s]\n",
      "100%|██████████| 195/195 [00:07<00:00, 25.79it/s]\n",
      "100%|██████████| 195/195 [00:07<00:00, 25.42it/s]\n",
      "100%|██████████| 195/195 [00:07<00:00, 25.86it/s]\n",
      "100%|██████████| 195/195 [00:07<00:00, 24.93it/s]\n",
      "100%|██████████| 195/195 [00:07<00:00, 25.22it/s]\n",
      "100%|██████████| 195/195 [00:07<00:00, 25.29it/s]\n",
      "100%|██████████| 195/195 [00:07<00:00, 25.02it/s]\n",
      "100%|██████████| 195/195 [00:07<00:00, 24.83it/s]\n",
      "100%|██████████| 195/195 [00:07<00:00, 25.11it/s]\n",
      "100%|██████████| 195/195 [00:07<00:00, 25.20it/s]\n",
      "100%|██████████| 195/195 [00:07<00:00, 25.45it/s]\n",
      "100%|██████████| 195/195 [00:07<00:00, 24.97it/s]\n",
      "100%|██████████| 195/195 [00:07<00:00, 25.31it/s]\n",
      "100%|██████████| 195/195 [00:07<00:00, 25.34it/s]\n",
      "100%|██████████| 195/195 [00:07<00:00, 25.02it/s]\n",
      "100%|██████████| 195/195 [00:08<00:00, 23.84it/s]\n",
      "100%|██████████| 195/195 [00:07<00:00, 25.35it/s]\n",
      "100%|██████████| 195/195 [00:07<00:00, 25.94it/s]\n",
      "100%|██████████| 195/195 [00:07<00:00, 26.13it/s]\n",
      "100%|██████████| 195/195 [00:07<00:00, 25.92it/s]\n",
      "100%|██████████| 195/195 [00:07<00:00, 25.50it/s]\n",
      "100%|██████████| 195/195 [00:07<00:00, 25.46it/s]\n",
      "100%|██████████| 195/195 [00:07<00:00, 25.48it/s]\n",
      "100%|██████████| 195/195 [00:07<00:00, 25.63it/s]\n",
      "100%|██████████| 195/195 [00:07<00:00, 25.34it/s]\n",
      "100%|██████████| 195/195 [00:07<00:00, 25.46it/s]\n",
      "100%|██████████| 195/195 [00:07<00:00, 26.10it/s]\n",
      "100%|██████████| 195/195 [00:07<00:00, 26.30it/s]\n",
      "100%|██████████| 195/195 [00:07<00:00, 26.44it/s]\n",
      "100%|██████████| 195/195 [00:07<00:00, 25.74it/s]\n",
      "100%|██████████| 195/195 [00:08<00:00, 23.89it/s]\n",
      "100%|██████████| 195/195 [00:08<00:00, 24.34it/s]\n",
      "100%|██████████| 195/195 [00:07<00:00, 25.29it/s]\n",
      "100%|██████████| 195/195 [00:07<00:00, 25.58it/s]\n",
      "100%|██████████| 195/195 [00:07<00:00, 24.67it/s]\n",
      "100%|██████████| 195/195 [00:07<00:00, 25.35it/s]\n",
      "100%|██████████| 195/195 [00:07<00:00, 26.04it/s]\n",
      "100%|██████████| 195/195 [00:07<00:00, 24.58it/s]\n",
      "100%|██████████| 195/195 [00:07<00:00, 26.44it/s]\n",
      "100%|██████████| 195/195 [00:07<00:00, 25.89it/s]\n",
      "100%|██████████| 195/195 [00:07<00:00, 24.68it/s]\n",
      "100%|██████████| 195/195 [00:07<00:00, 25.21it/s]\n",
      "100%|██████████| 195/195 [00:07<00:00, 25.48it/s]\n",
      "100%|██████████| 195/195 [00:07<00:00, 26.16it/s]\n",
      "100%|██████████| 195/195 [00:07<00:00, 26.34it/s]\n",
      "100%|██████████| 195/195 [00:07<00:00, 25.10it/s]\n",
      "100%|██████████| 195/195 [00:07<00:00, 25.84it/s]\n",
      "100%|██████████| 195/195 [00:07<00:00, 25.67it/s]\n",
      "100%|██████████| 195/195 [00:07<00:00, 24.82it/s]\n",
      "100%|██████████| 195/195 [00:07<00:00, 24.80it/s]\n",
      "100%|██████████| 195/195 [00:07<00:00, 24.72it/s]\n",
      "100%|██████████| 195/195 [00:07<00:00, 25.00it/s]\n",
      "100%|██████████| 195/195 [00:07<00:00, 25.07it/s]\n",
      "100%|██████████| 195/195 [00:07<00:00, 25.19it/s]\n",
      "100%|██████████| 195/195 [00:07<00:00, 24.92it/s]\n",
      " 54%|█████▍    | 105/195 [00:04<00:03, 24.83it/s]\n"
     ]
    },
    {
     "ename": "KeyboardInterrupt",
     "evalue": "",
     "output_type": "error",
     "traceback": [
      "\u001B[1;31m---------------------------------------------------------------------------\u001B[0m",
      "\u001B[1;31mKeyboardInterrupt\u001B[0m                         Traceback (most recent call last)",
      "Cell \u001B[1;32mIn [42], line 9\u001B[0m\n\u001B[0;32m      7\u001B[0m \u001B[38;5;28;01mwith\u001B[39;00m torch\u001B[38;5;241m.\u001B[39mcuda\u001B[38;5;241m.\u001B[39mdevice(gpu_index):\n\u001B[0;32m      8\u001B[0m     simclr \u001B[38;5;241m=\u001B[39m HeadTrainerNew(model\u001B[38;5;241m=\u001B[39mmodel, optimizer\u001B[38;5;241m=\u001B[39moptimizer, scheduler\u001B[38;5;241m=\u001B[39mscheduler, device\u001B[38;5;241m=\u001B[39mdevice, epochs\u001B[38;5;241m=\u001B[39m\u001B[38;5;241m400\u001B[39m, log_every_n_steps\u001B[38;5;241m=\u001B[39m\u001B[38;5;241m100\u001B[39m)\n\u001B[1;32m----> 9\u001B[0m     \u001B[43msimclr\u001B[49m\u001B[38;5;241;43m.\u001B[39;49m\u001B[43mtrain\u001B[49m\u001B[43m(\u001B[49m\u001B[43mhead_loader\u001B[49m\u001B[43m)\u001B[49m\n",
      "File \u001B[1;32m~\\DataspellProjects\\SimCLRPytorch\\model\\model.py:130\u001B[0m, in \u001B[0;36mHeadTrainerNew.train\u001B[1;34m(self, train_loader)\u001B[0m\n\u001B[0;32m    128\u001B[0m images \u001B[38;5;241m=\u001B[39m torch\u001B[38;5;241m.\u001B[39mcat((images, images), dim\u001B[38;5;241m=\u001B[39m\u001B[38;5;241m0\u001B[39m)\n\u001B[0;32m    129\u001B[0m labels \u001B[38;5;241m=\u001B[39m torch\u001B[38;5;241m.\u001B[39mcat((labels, labels), dim\u001B[38;5;241m=\u001B[39m\u001B[38;5;241m0\u001B[39m)\n\u001B[1;32m--> 130\u001B[0m images \u001B[38;5;241m=\u001B[39m \u001B[43mimages\u001B[49m\u001B[38;5;241;43m.\u001B[39;49m\u001B[43mto\u001B[49m\u001B[43m(\u001B[49m\u001B[38;5;28;43mself\u001B[39;49m\u001B[38;5;241;43m.\u001B[39;49m\u001B[43margs\u001B[49m\u001B[38;5;241;43m.\u001B[39;49m\u001B[43mget\u001B[49m\u001B[43m(\u001B[49m\u001B[38;5;124;43m'\u001B[39;49m\u001B[38;5;124;43mdevice\u001B[39;49m\u001B[38;5;124;43m'\u001B[39;49m\u001B[43m)\u001B[49m\u001B[43m)\u001B[49m\n\u001B[0;32m    131\u001B[0m labels \u001B[38;5;241m=\u001B[39m labels\u001B[38;5;241m.\u001B[39mto(\u001B[38;5;28mself\u001B[39m\u001B[38;5;241m.\u001B[39margs\u001B[38;5;241m.\u001B[39mget(\u001B[38;5;124m'\u001B[39m\u001B[38;5;124mdevice\u001B[39m\u001B[38;5;124m'\u001B[39m))\n\u001B[0;32m    132\u001B[0m output \u001B[38;5;241m=\u001B[39m \u001B[38;5;28mself\u001B[39m\u001B[38;5;241m.\u001B[39mmodel(images)\n",
      "\u001B[1;31mKeyboardInterrupt\u001B[0m: "
     ]
    }
   ],
   "source": [
    "with torch.cuda.device(gpu_index):\n",
    "    simclr = HeadTrainerNew(model=model, optimizer=optimizer, scheduler=scheduler, device=device, epochs=400, log_every_n_steps=100)\n",
    "    simclr.train(head_loader)"
   ],
   "metadata": {
    "collapsed": false
   }
  },
  {
   "cell_type": "code",
   "execution_count": 43,
   "outputs": [],
   "source": [
    "torch.save(model.state_dict(), 'saved_models/model_2023_cifar10_0901_head_trained_train.pth')"
   ],
   "metadata": {
    "collapsed": false
   }
  },
  {
   "cell_type": "code",
   "execution_count": 47,
   "outputs": [
    {
     "data": {
      "text/plain": "<All keys matched successfully>"
     },
     "execution_count": 47,
     "metadata": {},
     "output_type": "execute_result"
    }
   ],
   "source": [
    "model_head = ConvModel(out_dim=10, dataset='CIFAR10')\n",
    "model_head.backbone.fc = torch.nn.Sequential(\n",
    "    torch.nn.Linear(in_features=512, out_features=128, bias=True),\n",
    "    torch.nn.ReLU(inplace=True),\n",
    "    torch.nn.BatchNorm1d(128),\n",
    "    torch.nn.Linear(in_features=128, out_features=10, bias=True),\n",
    ")\n",
    "model_head.load_state_dict(torch.load('saved_models/model_2023_cifar10_0901_head_trained.pth'))"
   ],
   "metadata": {
    "collapsed": false
   }
  },
  {
   "cell_type": "code",
   "execution_count": 48,
   "outputs": [
    {
     "ename": "KeyboardInterrupt",
     "evalue": "",
     "output_type": "error",
     "traceback": [
      "\u001B[1;31m---------------------------------------------------------------------------\u001B[0m",
      "\u001B[1;31mKeyboardInterrupt\u001B[0m                         Traceback (most recent call last)",
      "Cell \u001B[1;32mIn [48], line 5\u001B[0m\n\u001B[0;32m      3\u001B[0m train_dataset, test_dataset \u001B[38;5;241m=\u001B[39m torch\u001B[38;5;241m.\u001B[39mutils\u001B[38;5;241m.\u001B[39mdata\u001B[38;5;241m.\u001B[39mrandom_split(head_dataset, [train_size, test_size])\n\u001B[0;32m      4\u001B[0m trainer \u001B[38;5;241m=\u001B[39m HeadTrainer(train_dataset, test_dataset, batch_size\u001B[38;5;241m=\u001B[39m\u001B[38;5;241m256\u001B[39m)\n\u001B[1;32m----> 5\u001B[0m history \u001B[38;5;241m=\u001B[39m \u001B[43mtrainer\u001B[49m\u001B[38;5;241;43m.\u001B[39;49m\u001B[43mtrain\u001B[49m\u001B[43m(\u001B[49m\u001B[43mmodel\u001B[49m\u001B[43m,\u001B[49m\u001B[43m \u001B[49m\u001B[43moptimizer\u001B[49m\u001B[43m,\u001B[49m\u001B[43m \u001B[49m\u001B[43mn_epochs\u001B[49m\u001B[38;5;241;43m=\u001B[39;49m\u001B[38;5;241;43m100\u001B[39;49m\u001B[43m,\u001B[49m\u001B[43m \u001B[49m\u001B[43mloss_fn\u001B[49m\u001B[38;5;241;43m=\u001B[39;49m\u001B[43mtorch\u001B[49m\u001B[38;5;241;43m.\u001B[39;49m\u001B[43mnn\u001B[49m\u001B[38;5;241;43m.\u001B[39;49m\u001B[43mCrossEntropyLoss\u001B[49m\u001B[43m(\u001B[49m\u001B[43m)\u001B[49m\u001B[38;5;241;43m.\u001B[39;49m\u001B[43mto\u001B[49m\u001B[43m(\u001B[49m\u001B[43mdevice\u001B[49m\u001B[43m)\u001B[49m\u001B[43m)\u001B[49m\n\u001B[0;32m      6\u001B[0m show_results(model\u001B[38;5;241m=\u001B[39mhistory)\n",
      "File \u001B[1;32m~\\DataspellProjects\\SimCLRPytorch\\model\\model.py:166\u001B[0m, in \u001B[0;36mHeadTrainer.train\u001B[1;34m(self, model, optimizer, loss_fn, n_epochs)\u001B[0m\n\u001B[0;32m    164\u001B[0m \u001B[38;5;28;01mfor\u001B[39;00m e \u001B[38;5;129;01min\u001B[39;00m \u001B[38;5;28mrange\u001B[39m(\u001B[38;5;241m1\u001B[39m, n_epochs \u001B[38;5;241m+\u001B[39m \u001B[38;5;241m1\u001B[39m):\n\u001B[0;32m    165\u001B[0m     model\u001B[38;5;241m.\u001B[39mtrain()\n\u001B[1;32m--> 166\u001B[0m     \u001B[38;5;28;01mfor\u001B[39;00m x, y \u001B[38;5;129;01min\u001B[39;00m \u001B[38;5;28mself\u001B[39m\u001B[38;5;241m.\u001B[39mtrain_loader:\n\u001B[0;32m    167\u001B[0m         x \u001B[38;5;241m=\u001B[39m x\u001B[38;5;241m.\u001B[39mto(\u001B[38;5;28mself\u001B[39m\u001B[38;5;241m.\u001B[39mdevice)\n\u001B[0;32m    168\u001B[0m         y \u001B[38;5;241m=\u001B[39m y\u001B[38;5;241m.\u001B[39mto(\u001B[38;5;28mself\u001B[39m\u001B[38;5;241m.\u001B[39mdevice)\n",
      "File \u001B[1;32m~\\DataspellProjects\\SimCLRPytorch\\venv\\lib\\site-packages\\torch\\utils\\data\\dataloader.py:628\u001B[0m, in \u001B[0;36m_BaseDataLoaderIter.__next__\u001B[1;34m(self)\u001B[0m\n\u001B[0;32m    625\u001B[0m \u001B[38;5;28;01mif\u001B[39;00m \u001B[38;5;28mself\u001B[39m\u001B[38;5;241m.\u001B[39m_sampler_iter \u001B[38;5;129;01mis\u001B[39;00m \u001B[38;5;28;01mNone\u001B[39;00m:\n\u001B[0;32m    626\u001B[0m     \u001B[38;5;66;03m# TODO(https://github.com/pytorch/pytorch/issues/76750)\u001B[39;00m\n\u001B[0;32m    627\u001B[0m     \u001B[38;5;28mself\u001B[39m\u001B[38;5;241m.\u001B[39m_reset()  \u001B[38;5;66;03m# type: ignore[call-arg]\u001B[39;00m\n\u001B[1;32m--> 628\u001B[0m data \u001B[38;5;241m=\u001B[39m \u001B[38;5;28;43mself\u001B[39;49m\u001B[38;5;241;43m.\u001B[39;49m\u001B[43m_next_data\u001B[49m\u001B[43m(\u001B[49m\u001B[43m)\u001B[49m\n\u001B[0;32m    629\u001B[0m \u001B[38;5;28mself\u001B[39m\u001B[38;5;241m.\u001B[39m_num_yielded \u001B[38;5;241m+\u001B[39m\u001B[38;5;241m=\u001B[39m \u001B[38;5;241m1\u001B[39m\n\u001B[0;32m    630\u001B[0m \u001B[38;5;28;01mif\u001B[39;00m \u001B[38;5;28mself\u001B[39m\u001B[38;5;241m.\u001B[39m_dataset_kind \u001B[38;5;241m==\u001B[39m _DatasetKind\u001B[38;5;241m.\u001B[39mIterable \u001B[38;5;129;01mand\u001B[39;00m \\\n\u001B[0;32m    631\u001B[0m         \u001B[38;5;28mself\u001B[39m\u001B[38;5;241m.\u001B[39m_IterableDataset_len_called \u001B[38;5;129;01mis\u001B[39;00m \u001B[38;5;129;01mnot\u001B[39;00m \u001B[38;5;28;01mNone\u001B[39;00m \u001B[38;5;129;01mand\u001B[39;00m \\\n\u001B[0;32m    632\u001B[0m         \u001B[38;5;28mself\u001B[39m\u001B[38;5;241m.\u001B[39m_num_yielded \u001B[38;5;241m>\u001B[39m \u001B[38;5;28mself\u001B[39m\u001B[38;5;241m.\u001B[39m_IterableDataset_len_called:\n",
      "File \u001B[1;32m~\\DataspellProjects\\SimCLRPytorch\\venv\\lib\\site-packages\\torch\\utils\\data\\dataloader.py:671\u001B[0m, in \u001B[0;36m_SingleProcessDataLoaderIter._next_data\u001B[1;34m(self)\u001B[0m\n\u001B[0;32m    669\u001B[0m \u001B[38;5;28;01mdef\u001B[39;00m \u001B[38;5;21m_next_data\u001B[39m(\u001B[38;5;28mself\u001B[39m):\n\u001B[0;32m    670\u001B[0m     index \u001B[38;5;241m=\u001B[39m \u001B[38;5;28mself\u001B[39m\u001B[38;5;241m.\u001B[39m_next_index()  \u001B[38;5;66;03m# may raise StopIteration\u001B[39;00m\n\u001B[1;32m--> 671\u001B[0m     data \u001B[38;5;241m=\u001B[39m \u001B[38;5;28;43mself\u001B[39;49m\u001B[38;5;241;43m.\u001B[39;49m\u001B[43m_dataset_fetcher\u001B[49m\u001B[38;5;241;43m.\u001B[39;49m\u001B[43mfetch\u001B[49m\u001B[43m(\u001B[49m\u001B[43mindex\u001B[49m\u001B[43m)\u001B[49m  \u001B[38;5;66;03m# may raise StopIteration\u001B[39;00m\n\u001B[0;32m    672\u001B[0m     \u001B[38;5;28;01mif\u001B[39;00m \u001B[38;5;28mself\u001B[39m\u001B[38;5;241m.\u001B[39m_pin_memory:\n\u001B[0;32m    673\u001B[0m         data \u001B[38;5;241m=\u001B[39m _utils\u001B[38;5;241m.\u001B[39mpin_memory\u001B[38;5;241m.\u001B[39mpin_memory(data, \u001B[38;5;28mself\u001B[39m\u001B[38;5;241m.\u001B[39m_pin_memory_device)\n",
      "File \u001B[1;32m~\\DataspellProjects\\SimCLRPytorch\\venv\\lib\\site-packages\\torch\\utils\\data\\_utils\\fetch.py:58\u001B[0m, in \u001B[0;36m_MapDatasetFetcher.fetch\u001B[1;34m(self, possibly_batched_index)\u001B[0m\n\u001B[0;32m     56\u001B[0m         data \u001B[38;5;241m=\u001B[39m \u001B[38;5;28mself\u001B[39m\u001B[38;5;241m.\u001B[39mdataset\u001B[38;5;241m.\u001B[39m__getitems__(possibly_batched_index)\n\u001B[0;32m     57\u001B[0m     \u001B[38;5;28;01melse\u001B[39;00m:\n\u001B[1;32m---> 58\u001B[0m         data \u001B[38;5;241m=\u001B[39m [\u001B[38;5;28mself\u001B[39m\u001B[38;5;241m.\u001B[39mdataset[idx] \u001B[38;5;28;01mfor\u001B[39;00m idx \u001B[38;5;129;01min\u001B[39;00m possibly_batched_index]\n\u001B[0;32m     59\u001B[0m \u001B[38;5;28;01melse\u001B[39;00m:\n\u001B[0;32m     60\u001B[0m     data \u001B[38;5;241m=\u001B[39m \u001B[38;5;28mself\u001B[39m\u001B[38;5;241m.\u001B[39mdataset[possibly_batched_index]\n",
      "File \u001B[1;32m~\\DataspellProjects\\SimCLRPytorch\\venv\\lib\\site-packages\\torch\\utils\\data\\_utils\\fetch.py:58\u001B[0m, in \u001B[0;36m<listcomp>\u001B[1;34m(.0)\u001B[0m\n\u001B[0;32m     56\u001B[0m         data \u001B[38;5;241m=\u001B[39m \u001B[38;5;28mself\u001B[39m\u001B[38;5;241m.\u001B[39mdataset\u001B[38;5;241m.\u001B[39m__getitems__(possibly_batched_index)\n\u001B[0;32m     57\u001B[0m     \u001B[38;5;28;01melse\u001B[39;00m:\n\u001B[1;32m---> 58\u001B[0m         data \u001B[38;5;241m=\u001B[39m [\u001B[38;5;28;43mself\u001B[39;49m\u001B[38;5;241;43m.\u001B[39;49m\u001B[43mdataset\u001B[49m\u001B[43m[\u001B[49m\u001B[43midx\u001B[49m\u001B[43m]\u001B[49m \u001B[38;5;28;01mfor\u001B[39;00m idx \u001B[38;5;129;01min\u001B[39;00m possibly_batched_index]\n\u001B[0;32m     59\u001B[0m \u001B[38;5;28;01melse\u001B[39;00m:\n\u001B[0;32m     60\u001B[0m     data \u001B[38;5;241m=\u001B[39m \u001B[38;5;28mself\u001B[39m\u001B[38;5;241m.\u001B[39mdataset[possibly_batched_index]\n",
      "File \u001B[1;32m~\\DataspellProjects\\SimCLRPytorch\\venv\\lib\\site-packages\\torch\\utils\\data\\dataset.py:295\u001B[0m, in \u001B[0;36mSubset.__getitem__\u001B[1;34m(self, idx)\u001B[0m\n\u001B[0;32m    293\u001B[0m \u001B[38;5;28;01mif\u001B[39;00m \u001B[38;5;28misinstance\u001B[39m(idx, \u001B[38;5;28mlist\u001B[39m):\n\u001B[0;32m    294\u001B[0m     \u001B[38;5;28;01mreturn\u001B[39;00m \u001B[38;5;28mself\u001B[39m\u001B[38;5;241m.\u001B[39mdataset[[\u001B[38;5;28mself\u001B[39m\u001B[38;5;241m.\u001B[39mindices[i] \u001B[38;5;28;01mfor\u001B[39;00m i \u001B[38;5;129;01min\u001B[39;00m idx]]\n\u001B[1;32m--> 295\u001B[0m \u001B[38;5;28;01mreturn\u001B[39;00m \u001B[38;5;28;43mself\u001B[39;49m\u001B[38;5;241;43m.\u001B[39;49m\u001B[43mdataset\u001B[49m\u001B[43m[\u001B[49m\u001B[38;5;28;43mself\u001B[39;49m\u001B[38;5;241;43m.\u001B[39;49m\u001B[43mindices\u001B[49m\u001B[43m[\u001B[49m\u001B[43midx\u001B[49m\u001B[43m]\u001B[49m\u001B[43m]\u001B[49m\n",
      "File \u001B[1;32m~\\DataspellProjects\\SimCLRPytorch\\venv\\lib\\site-packages\\torchvision\\datasets\\cifar.py:118\u001B[0m, in \u001B[0;36mCIFAR10.__getitem__\u001B[1;34m(self, index)\u001B[0m\n\u001B[0;32m    115\u001B[0m img \u001B[38;5;241m=\u001B[39m Image\u001B[38;5;241m.\u001B[39mfromarray(img)\n\u001B[0;32m    117\u001B[0m \u001B[38;5;28;01mif\u001B[39;00m \u001B[38;5;28mself\u001B[39m\u001B[38;5;241m.\u001B[39mtransform \u001B[38;5;129;01mis\u001B[39;00m \u001B[38;5;129;01mnot\u001B[39;00m \u001B[38;5;28;01mNone\u001B[39;00m:\n\u001B[1;32m--> 118\u001B[0m     img \u001B[38;5;241m=\u001B[39m \u001B[38;5;28;43mself\u001B[39;49m\u001B[38;5;241;43m.\u001B[39;49m\u001B[43mtransform\u001B[49m\u001B[43m(\u001B[49m\u001B[43mimg\u001B[49m\u001B[43m)\u001B[49m\n\u001B[0;32m    120\u001B[0m \u001B[38;5;28;01mif\u001B[39;00m \u001B[38;5;28mself\u001B[39m\u001B[38;5;241m.\u001B[39mtarget_transform \u001B[38;5;129;01mis\u001B[39;00m \u001B[38;5;129;01mnot\u001B[39;00m \u001B[38;5;28;01mNone\u001B[39;00m:\n\u001B[0;32m    121\u001B[0m     target \u001B[38;5;241m=\u001B[39m \u001B[38;5;28mself\u001B[39m\u001B[38;5;241m.\u001B[39mtarget_transform(target)\n",
      "File \u001B[1;32m~\\DataspellProjects\\SimCLRPytorch\\venv\\lib\\site-packages\\torchvision\\transforms\\transforms.py:135\u001B[0m, in \u001B[0;36mToTensor.__call__\u001B[1;34m(self, pic)\u001B[0m\n\u001B[0;32m    127\u001B[0m \u001B[38;5;28;01mdef\u001B[39;00m \u001B[38;5;21m__call__\u001B[39m(\u001B[38;5;28mself\u001B[39m, pic):\n\u001B[0;32m    128\u001B[0m     \u001B[38;5;124;03m\"\"\"\u001B[39;00m\n\u001B[0;32m    129\u001B[0m \u001B[38;5;124;03m    Args:\u001B[39;00m\n\u001B[0;32m    130\u001B[0m \u001B[38;5;124;03m        pic (PIL Image or numpy.ndarray): Image to be converted to tensor.\u001B[39;00m\n\u001B[1;32m   (...)\u001B[0m\n\u001B[0;32m    133\u001B[0m \u001B[38;5;124;03m        Tensor: Converted image.\u001B[39;00m\n\u001B[0;32m    134\u001B[0m \u001B[38;5;124;03m    \"\"\"\u001B[39;00m\n\u001B[1;32m--> 135\u001B[0m     \u001B[38;5;28;01mreturn\u001B[39;00m \u001B[43mF\u001B[49m\u001B[38;5;241;43m.\u001B[39;49m\u001B[43mto_tensor\u001B[49m\u001B[43m(\u001B[49m\u001B[43mpic\u001B[49m\u001B[43m)\u001B[49m\n",
      "File \u001B[1;32m~\\DataspellProjects\\SimCLRPytorch\\venv\\lib\\site-packages\\torchvision\\transforms\\functional.py:167\u001B[0m, in \u001B[0;36mto_tensor\u001B[1;34m(pic)\u001B[0m\n\u001B[0;32m    165\u001B[0m \u001B[38;5;28;01mif\u001B[39;00m pic\u001B[38;5;241m.\u001B[39mmode \u001B[38;5;241m==\u001B[39m \u001B[38;5;124m\"\u001B[39m\u001B[38;5;124m1\u001B[39m\u001B[38;5;124m\"\u001B[39m:\n\u001B[0;32m    166\u001B[0m     img \u001B[38;5;241m=\u001B[39m \u001B[38;5;241m255\u001B[39m \u001B[38;5;241m*\u001B[39m img\n\u001B[1;32m--> 167\u001B[0m img \u001B[38;5;241m=\u001B[39m \u001B[43mimg\u001B[49m\u001B[38;5;241;43m.\u001B[39;49m\u001B[43mview\u001B[49m\u001B[43m(\u001B[49m\u001B[43mpic\u001B[49m\u001B[38;5;241;43m.\u001B[39;49m\u001B[43msize\u001B[49m\u001B[43m[\u001B[49m\u001B[38;5;241;43m1\u001B[39;49m\u001B[43m]\u001B[49m\u001B[43m,\u001B[49m\u001B[43m \u001B[49m\u001B[43mpic\u001B[49m\u001B[38;5;241;43m.\u001B[39;49m\u001B[43msize\u001B[49m\u001B[43m[\u001B[49m\u001B[38;5;241;43m0\u001B[39;49m\u001B[43m]\u001B[49m\u001B[43m,\u001B[49m\u001B[43m \u001B[49m\u001B[38;5;28;43mlen\u001B[39;49m\u001B[43m(\u001B[49m\u001B[43mpic\u001B[49m\u001B[38;5;241;43m.\u001B[39;49m\u001B[43mgetbands\u001B[49m\u001B[43m(\u001B[49m\u001B[43m)\u001B[49m\u001B[43m)\u001B[49m\u001B[43m)\u001B[49m\n\u001B[0;32m    168\u001B[0m \u001B[38;5;66;03m# put it from HWC to CHW format\u001B[39;00m\n\u001B[0;32m    169\u001B[0m img \u001B[38;5;241m=\u001B[39m img\u001B[38;5;241m.\u001B[39mpermute((\u001B[38;5;241m2\u001B[39m, \u001B[38;5;241m0\u001B[39m, \u001B[38;5;241m1\u001B[39m))\u001B[38;5;241m.\u001B[39mcontiguous()\n",
      "\u001B[1;31mKeyboardInterrupt\u001B[0m: "
     ]
    }
   ],
   "source": [
    "train_size = int(0.8 * len(head_dataset))\n",
    "test_size = len(head_dataset) - train_size\n",
    "train_dataset, test_dataset = torch.utils.data.random_split(head_dataset, [train_size, test_size])\n",
    "trainer = HeadTrainer(train_dataset, test_dataset, batch_size=256)\n",
    "history = trainer.train(model, optimizer, n_epochs=100, loss_fn=torch.nn.CrossEntropyLoss().to(device))\n",
    "show_results(model=history)"
   ],
   "metadata": {
    "collapsed": false
   }
  },
  {
   "cell_type": "markdown",
   "source": [
    "## Ewaluacja Głowy"
   ],
   "metadata": {
    "collapsed": false
   }
  },
  {
   "cell_type": "code",
   "execution_count": 44,
   "outputs": [
    {
     "name": "stderr",
     "output_type": "stream",
     "text": [
      "C:\\Users\\kacpe\\DataspellProjects\\SimCLRPytorch\\venv\\lib\\site-packages\\torchvision\\models\\_utils.py:208: UserWarning: The parameter 'pretrained' is deprecated since 0.13 and may be removed in the future, please use 'weights' instead.\n",
      "  warnings.warn(\n",
      "C:\\Users\\kacpe\\DataspellProjects\\SimCLRPytorch\\venv\\lib\\site-packages\\torchvision\\models\\_utils.py:223: UserWarning: Arguments other than a weight enum or `None` for 'weights' are deprecated since 0.13 and may be removed in the future. The current behavior is equivalent to passing `weights=None`.\n",
      "  warnings.warn(msg)\n"
     ]
    },
    {
     "data": {
      "text/plain": "<All keys matched successfully>"
     },
     "execution_count": 44,
     "metadata": {},
     "output_type": "execute_result"
    }
   ],
   "source": [
    "model_head = ConvModel(out_dim=10, dataset='CIFAR10')\n",
    "model_head.backbone.fc = torch.nn.Sequential(\n",
    "    torch.nn.Linear(in_features=512, out_features=128, bias=True),\n",
    "    torch.nn.ReLU(inplace=True),\n",
    "    torch.nn.BatchNorm1d(128),\n",
    "    torch.nn.Linear(in_features=128, out_features=10, bias=True),\n",
    ")\n",
    "model_head.load_state_dict(torch.load('saved_models/model_2023_cifar10_0901_head_trained.pth'))"
   ],
   "metadata": {
    "collapsed": false
   }
  },
  {
   "cell_type": "code",
   "execution_count": 50,
   "outputs": [],
   "source": [
    "test_loader = torch.utils.data.DataLoader(test_dataset, batch_size=1024, shuffle=False)\n",
    "\n",
    "# model_head.eval()\n",
    "correct, numel = 0, 0\n",
    "loss_fn = torch.nn.CrossEntropyLoss()\n",
    "logs: dict = {\n",
    "    \"test_loss\": [],\n",
    "    \"test_accuracy\": []\n",
    "}\n",
    "\n",
    "for _ in range(10):\n",
    "    with torch.no_grad():\n",
    "        for x_test, y_test in train_loader_2:\n",
    "            x_test = x_test\n",
    "            y_test = y_test\n",
    "            output = model_head(x_test)\n",
    "            y_pred = torch.argmax(output, dim=1)\n",
    "            correct += torch.sum(y_pred == y_test).item()\n",
    "            numel += 264\n",
    "            loss = loss_fn(output, y_test)\n",
    "            logs['test_loss'].append(loss.item())\n",
    "            logs['test_accuracy'].append(correct / numel)\n"
   ],
   "metadata": {
    "collapsed": false
   }
  },
  {
   "cell_type": "code",
   "execution_count": 51,
   "outputs": [
    {
     "data": {
      "text/plain": "<Figure size 1600x500 with 2 Axes>",
      "image/png": "[encoded data removed]"
     },
     "metadata": {},
     "output_type": "display_data"
    }
   ],
   "source": [
    "import matplotlib.pyplot as plt\n",
    "def show_results(orientation='horizontal', accuracy_bottom=None, loss_top=None, **histories):\n",
    "    if orientation == 'horizontal':\n",
    "        f, ax = plt.subplots(1, 2, figsize=(16, 5))\n",
    "    else:\n",
    "        f, ax = plt.subplots(2, 1, figsize=(16, 16))\n",
    "    for i, (name, h) in enumerate(histories.items()):\n",
    "        if len(histories) == 1:\n",
    "            ax[0].set_title(\"Best test accuracy: {:.2f}%\".format(\n",
    "                max(h['test_accuracy']) * 100,\n",
    "            ))\n",
    "        else:\n",
    "            ax[0].set_title(\"Accuracy\")\n",
    "        ax[0].plot(h['test_accuracy'], color='C%s' % i, label='%s test' % name)\n",
    "        ax[0].set_xlabel('epochs')\n",
    "        ax[0].set_ylabel('accuracy')\n",
    "        if accuracy_bottom:\n",
    "            ax[0].set_ylim(bottom=accuracy_bottom)\n",
    "        ax[0].legend()\n",
    "\n",
    "show_results(model=logs)"
   ],
   "metadata": {
    "collapsed": false
   }
  },
  {
   "cell_type": "code",
   "execution_count": 39,
   "outputs": [
    {
     "name": "stdout",
     "output_type": "stream",
     "text": [
      "Accuracy of the model based on the test set,inputs is: 99 %\n"
     ]
    }
   ],
   "source": [
    "def test():\n",
    "    # Load the model that we saved at the end of the training loop\n",
    "    running_accuracy = 0\n",
    "    total = 0\n",
    "\n",
    "    with torch.no_grad():\n",
    "        for data in test_loader:\n",
    "            inputs, outputs = data\n",
    "            outputs = outputs.to(torch.float32)\n",
    "            predicted_outputs = model_head(inputs)\n",
    "            _, predicted = torch.max(predicted_outputs, 1)\n",
    "            total += outputs.size(0)\n",
    "            running_accuracy += (predicted == outputs).sum().item()\n",
    "\n",
    "        print('Accuracy of the model based on the test set,inputs is: %d %%' % (100 * running_accuracy / total))\n",
    "test()"
   ],
   "metadata": {
    "collapsed": false
   }
  },
  {
   "cell_type": "code",
   "execution_count": null,
   "outputs": [],
   "source": [],
   "metadata": {
    "collapsed": false
   }
  }
 ],
 "metadata": {
  "kernelspec": {
   "display_name": "Python 3",
   "language": "python",
   "name": "python3"
  },
  "language_info": {
   "codemirror_mode": {
    "name": "ipython",
    "version": 2
   },
   "file_extension": ".py",
   "mimetype": "text/x-python",
   "name": "python",
   "nbconvert_exporter": "python",
   "pygments_lexer": "ipython2",
   "version": "2.7.6"
  }
 },
 "nbformat": 4,
 "nbformat_minor": 0
}
