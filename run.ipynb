{
 "cells": [
  {
   "cell_type": "code",
   "execution_count": 1,
   "metadata": {
    "collapsed": true
   },
   "outputs": [],
   "source": [
    "from model.model import ConvModel, SimCLR\n",
    "import argparse\n",
    "import torch\n",
    "import torch.backends.cudnn as cudnn\n",
    "from torchvision import models\n",
    "from torchvision import transforms, datasets\n"
   ]
  },
  {
   "cell_type": "code",
   "execution_count": 2,
   "outputs": [],
   "source": [
    "if torch.cuda.is_available():\n",
    "    device = torch.device('cuda')\n",
    "    cudnn.deterministic = True\n",
    "    cudnn.benchmark = True\n",
    "    gpu_index = 0\n",
    "else:\n",
    "    device = torch.device('cpu')\n",
    "    gpu_index = -1\n"
   ],
   "metadata": {
    "collapsed": false
   }
  },
  {
   "cell_type": "code",
   "execution_count": 3,
   "outputs": [],
   "source": [
    "color_jitter = transforms.ColorJitter(0.8, 0.8, 0.8, 0.2)\n",
    "\n",
    "composed_transforms = transforms.Compose([transforms.RandomResizedCrop(size=32),\n",
    "                                      transforms.RandomHorizontalFlip(),\n",
    "                                      transforms.RandomApply([color_jitter], p=0.8),\n",
    "                                      transforms.RandomGrayscale(p=0.2),\n",
    "                                      transforms.GaussianBlur(kernel_size=3),\n",
    "                                    transforms.ToTensor()],\n",
    "                                    )\n",
    "# composed_transforms = transforms.Compose([\n",
    "#         transforms.GaussianBlur(kernel_size=3),\n",
    "#       transforms.RandomRotation(degrees=10), # TODO\n",
    "#       transforms.RandomGrayscale(p=0.2),\n",
    "#       transforms.ToTensor()])"
   ],
   "metadata": {
    "collapsed": false
   }
  },
  {
   "cell_type": "code",
   "execution_count": 4,
   "outputs": [
    {
     "name": "stdout",
     "output_type": "stream",
     "text": [
      "Files already downloaded and verified\n",
      "Files already downloaded and verified\n"
     ]
    },
    {
     "data": {
      "text/plain": "<torch._C.Generator at 0x1ae4b3933d0>"
     },
     "execution_count": 4,
     "metadata": {},
     "output_type": "execute_result"
    }
   ],
   "source": [
    "train_dataset_1 = datasets.CIFAR10('./datasets', train=True,\n",
    "                               transform=composed_transforms,\n",
    "                               download=True)\n",
    "train_dataset_2 = datasets.CIFAR10('./datasets', download=True, train=True, transform=composed_transforms)\n",
    "g = torch.Generator()\n",
    "g.manual_seed(0)"
   ],
   "metadata": {
    "collapsed": false
   }
  },
  {
   "cell_type": "code",
   "execution_count": 5,
   "outputs": [],
   "source": [
    "train_loader_1 = torch.utils.data.DataLoader(\n",
    "    train_dataset_1, batch_size=256, shuffle=False,\n",
    "     pin_memory=True, drop_last=True, generator=g)\n",
    "train_loader_2 = torch.utils.data.DataLoader(train_dataset_2, batch_size=256, shuffle=True, pin_memory=True, drop_last=True, generator=g)"
   ],
   "metadata": {
    "collapsed": false
   }
  },
  {
   "cell_type": "code",
   "execution_count": 9,
   "outputs": [
    {
     "data": {
      "text/plain": "<All keys matched successfully>"
     },
     "execution_count": 9,
     "metadata": {},
     "output_type": "execute_result"
    }
   ],
   "source": [
    "model = ConvModel(out_dim=10, dataset='CIFAR10')\n",
    "\n",
    "model.load_state_dict(torch.load('saved_models/model_final_cifar10_200_epochs.pth'))"
   ],
   "metadata": {
    "collapsed": false
   }
  },
  {
   "cell_type": "code",
   "execution_count": 7,
   "outputs": [
    {
     "name": "stderr",
     "output_type": "stream",
     "text": [
      "  0%|          | 0/195 [00:00<?, ?it/s]C:\\Users\\kacpe\\DataspellProjects\\SimCLRPytorch\\venv\\lib\\site-packages\\torch\\optim\\lr_scheduler.py:807: UserWarning: To get the last learning rate computed by the scheduler, please use `get_last_lr()`.\n",
      "  warnings.warn(\"To get the last learning rate computed by the scheduler, \"\n",
      "100%|██████████| 195/195 [01:07<00:00,  2.87it/s]\n",
      "100%|██████████| 195/195 [00:58<00:00,  3.34it/s]\n",
      "100%|██████████| 195/195 [01:00<00:00,  3.20it/s]\n",
      "100%|██████████| 195/195 [01:01<00:00,  3.15it/s]\n",
      "100%|██████████| 195/195 [00:57<00:00,  3.39it/s]\n",
      "100%|██████████| 195/195 [00:58<00:00,  3.33it/s]\n",
      "100%|██████████| 195/195 [00:58<00:00,  3.31it/s]\n",
      "100%|██████████| 195/195 [00:58<00:00,  3.35it/s]\n",
      "100%|██████████| 195/195 [00:57<00:00,  3.42it/s]\n",
      "100%|██████████| 195/195 [00:57<00:00,  3.40it/s]\n",
      "100%|██████████| 195/195 [00:57<00:00,  3.41it/s]\n",
      "100%|██████████| 195/195 [00:58<00:00,  3.32it/s]\n",
      "100%|██████████| 195/195 [00:58<00:00,  3.32it/s]\n",
      "100%|██████████| 195/195 [00:57<00:00,  3.40it/s]\n",
      "100%|██████████| 195/195 [01:00<00:00,  3.23it/s]\n",
      "100%|██████████| 195/195 [00:58<00:00,  3.35it/s]\n",
      "100%|██████████| 195/195 [01:00<00:00,  3.24it/s]\n",
      "100%|██████████| 195/195 [01:13<00:00,  2.64it/s]\n",
      "100%|██████████| 195/195 [01:11<00:00,  2.72it/s]\n",
      "100%|██████████| 195/195 [01:17<00:00,  2.52it/s]\n",
      "100%|██████████| 195/195 [01:11<00:00,  2.71it/s]\n",
      "100%|██████████| 195/195 [01:05<00:00,  2.99it/s]\n",
      "100%|██████████| 195/195 [01:05<00:00,  3.00it/s]\n",
      "100%|██████████| 195/195 [01:04<00:00,  3.04it/s]\n",
      "100%|██████████| 195/195 [01:03<00:00,  3.09it/s]\n",
      "100%|██████████| 195/195 [01:00<00:00,  3.20it/s]\n",
      "100%|██████████| 195/195 [01:01<00:00,  3.18it/s]\n",
      "100%|██████████| 195/195 [01:03<00:00,  3.08it/s]\n",
      "100%|██████████| 195/195 [01:03<00:00,  3.09it/s]\n",
      "100%|██████████| 195/195 [01:10<00:00,  2.78it/s]\n",
      "100%|██████████| 195/195 [01:07<00:00,  2.88it/s]\n",
      "100%|██████████| 195/195 [01:06<00:00,  2.91it/s]\n",
      "100%|██████████| 195/195 [01:08<00:00,  2.83it/s]\n",
      "100%|██████████| 195/195 [01:10<00:00,  2.75it/s]\n",
      "100%|██████████| 195/195 [01:11<00:00,  2.73it/s]\n",
      "100%|██████████| 195/195 [01:12<00:00,  2.67it/s]\n",
      "100%|██████████| 195/195 [01:10<00:00,  2.75it/s]\n",
      "100%|██████████| 195/195 [01:08<00:00,  2.86it/s]\n",
      "100%|██████████| 195/195 [01:08<00:00,  2.83it/s]\n",
      "100%|██████████| 195/195 [01:08<00:00,  2.86it/s]\n",
      "100%|██████████| 195/195 [01:05<00:00,  2.99it/s]\n",
      "100%|██████████| 195/195 [01:07<00:00,  2.89it/s]\n",
      "100%|██████████| 195/195 [01:06<00:00,  2.95it/s]\n",
      "100%|██████████| 195/195 [01:08<00:00,  2.85it/s]\n",
      "100%|██████████| 195/195 [01:07<00:00,  2.89it/s]\n",
      "100%|██████████| 195/195 [01:08<00:00,  2.85it/s]\n",
      "100%|██████████| 195/195 [01:04<00:00,  3.04it/s]\n",
      "100%|██████████| 195/195 [01:21<00:00,  2.41it/s]\n",
      "100%|██████████| 195/195 [01:19<00:00,  2.44it/s]\n",
      "100%|██████████| 195/195 [01:16<00:00,  2.55it/s]\n",
      "100%|██████████| 195/195 [01:16<00:00,  2.56it/s]\n",
      "100%|██████████| 195/195 [01:12<00:00,  2.68it/s]\n",
      "100%|██████████| 195/195 [01:08<00:00,  2.85it/s]\n",
      "100%|██████████| 195/195 [01:12<00:00,  2.68it/s]\n",
      "100%|██████████| 195/195 [00:56<00:00,  3.43it/s]\n",
      "100%|██████████| 195/195 [00:58<00:00,  3.32it/s]\n",
      "100%|██████████| 195/195 [00:58<00:00,  3.32it/s]\n",
      "100%|██████████| 195/195 [00:57<00:00,  3.38it/s]\n",
      "100%|██████████| 195/195 [00:56<00:00,  3.43it/s]\n",
      "100%|██████████| 195/195 [00:56<00:00,  3.43it/s]\n",
      "100%|██████████| 195/195 [00:57<00:00,  3.40it/s]\n",
      "100%|██████████| 195/195 [00:57<00:00,  3.39it/s]\n",
      "100%|██████████| 195/195 [00:57<00:00,  3.39it/s]\n",
      "100%|██████████| 195/195 [00:56<00:00,  3.43it/s]\n",
      "100%|██████████| 195/195 [00:58<00:00,  3.35it/s]\n",
      "100%|██████████| 195/195 [01:02<00:00,  3.10it/s]\n",
      "100%|██████████| 195/195 [01:05<00:00,  2.98it/s]\n",
      "100%|██████████| 195/195 [01:04<00:00,  3.02it/s]\n",
      "100%|██████████| 195/195 [01:04<00:00,  3.04it/s]\n",
      "100%|██████████| 195/195 [01:03<00:00,  3.07it/s]\n",
      "100%|██████████| 195/195 [01:04<00:00,  3.01it/s]\n",
      "100%|██████████| 195/195 [01:05<00:00,  2.97it/s]\n",
      "100%|██████████| 195/195 [01:04<00:00,  3.04it/s]\n",
      "100%|██████████| 195/195 [01:02<00:00,  3.10it/s]\n",
      "100%|██████████| 195/195 [00:59<00:00,  3.27it/s]\n",
      "100%|██████████| 195/195 [01:01<00:00,  3.17it/s]\n",
      "100%|██████████| 195/195 [00:59<00:00,  3.26it/s]\n",
      "100%|██████████| 195/195 [00:59<00:00,  3.26it/s]\n",
      "100%|██████████| 195/195 [01:00<00:00,  3.22it/s]\n",
      "100%|██████████| 195/195 [00:58<00:00,  3.31it/s]\n",
      "100%|██████████| 195/195 [00:58<00:00,  3.34it/s]\n",
      "100%|██████████| 195/195 [00:59<00:00,  3.27it/s]\n",
      "100%|██████████| 195/195 [00:59<00:00,  3.26it/s]\n",
      "100%|██████████| 195/195 [00:59<00:00,  3.30it/s]\n",
      "100%|██████████| 195/195 [00:58<00:00,  3.35it/s]\n",
      "100%|██████████| 195/195 [01:00<00:00,  3.20it/s]\n",
      "100%|██████████| 195/195 [01:06<00:00,  2.94it/s]\n",
      "100%|██████████| 195/195 [01:08<00:00,  2.85it/s]\n",
      "100%|██████████| 195/195 [01:07<00:00,  2.91it/s]\n",
      "100%|██████████| 195/195 [01:09<00:00,  2.81it/s]\n",
      "100%|██████████| 195/195 [01:06<00:00,  2.94it/s]\n",
      "100%|██████████| 195/195 [01:05<00:00,  2.99it/s]\n",
      "100%|██████████| 195/195 [01:01<00:00,  3.16it/s]\n",
      "100%|██████████| 195/195 [01:04<00:00,  3.03it/s]\n",
      "100%|██████████| 195/195 [01:02<00:00,  3.11it/s]\n",
      "100%|██████████| 195/195 [01:01<00:00,  3.18it/s]\n",
      "100%|██████████| 195/195 [01:01<00:00,  3.19it/s]\n",
      "100%|██████████| 195/195 [01:00<00:00,  3.20it/s]\n",
      "100%|██████████| 195/195 [01:01<00:00,  3.17it/s]\n",
      "100%|██████████| 195/195 [01:01<00:00,  3.19it/s]\n",
      "100%|██████████| 195/195 [01:01<00:00,  3.19it/s]\n",
      "100%|██████████| 195/195 [01:00<00:00,  3.20it/s]\n",
      "100%|██████████| 195/195 [01:01<00:00,  3.18it/s]\n",
      "100%|██████████| 195/195 [01:00<00:00,  3.21it/s]\n",
      "100%|██████████| 195/195 [01:01<00:00,  3.17it/s]\n",
      "100%|██████████| 195/195 [01:01<00:00,  3.19it/s]\n",
      "100%|██████████| 195/195 [01:01<00:00,  3.19it/s]\n",
      "100%|██████████| 195/195 [01:01<00:00,  3.18it/s]\n",
      "100%|██████████| 195/195 [01:00<00:00,  3.21it/s]\n",
      "100%|██████████| 195/195 [01:01<00:00,  3.17it/s]\n",
      "100%|██████████| 195/195 [01:01<00:00,  3.18it/s]\n",
      "100%|██████████| 195/195 [01:00<00:00,  3.20it/s]\n",
      "100%|██████████| 195/195 [01:01<00:00,  3.19it/s]\n",
      "100%|██████████| 195/195 [01:01<00:00,  3.17it/s]\n",
      "100%|██████████| 195/195 [01:01<00:00,  3.20it/s]\n",
      "100%|██████████| 195/195 [01:01<00:00,  3.17it/s]\n",
      "100%|██████████| 195/195 [01:00<00:00,  3.20it/s]\n",
      "100%|██████████| 195/195 [01:00<00:00,  3.23it/s]\n",
      "100%|██████████| 195/195 [00:57<00:00,  3.37it/s]\n",
      "100%|██████████| 195/195 [00:57<00:00,  3.36it/s]\n",
      "100%|██████████| 195/195 [00:59<00:00,  3.25it/s]\n",
      "100%|██████████| 195/195 [01:04<00:00,  3.01it/s]\n",
      "100%|██████████| 195/195 [01:01<00:00,  3.15it/s]\n",
      "100%|██████████| 195/195 [01:05<00:00,  3.00it/s]\n",
      " 44%|████▎     | 85/195 [00:31<00:40,  2.71it/s]\n"
     ]
    },
    {
     "ename": "KeyboardInterrupt",
     "evalue": "",
     "output_type": "error",
     "traceback": [
      "\u001B[1;31m---------------------------------------------------------------------------\u001B[0m",
      "\u001B[1;31mKeyboardInterrupt\u001B[0m                         Traceback (most recent call last)",
      "Cell \u001B[1;32mIn [7], line 8\u001B[0m\n\u001B[0;32m      6\u001B[0m \u001B[38;5;28;01mwith\u001B[39;00m torch\u001B[38;5;241m.\u001B[39mcuda\u001B[38;5;241m.\u001B[39mdevice(gpu_index):\n\u001B[0;32m      7\u001B[0m     simclr \u001B[38;5;241m=\u001B[39m SimCLR(model\u001B[38;5;241m=\u001B[39mmodel, optimizer\u001B[38;5;241m=\u001B[39moptimizer, scheduler\u001B[38;5;241m=\u001B[39mscheduler, device\u001B[38;5;241m=\u001B[39mdevice, epochs\u001B[38;5;241m=\u001B[39m\u001B[38;5;241m200\u001B[39m, log_every_n_steps\u001B[38;5;241m=\u001B[39m\u001B[38;5;241m100\u001B[39m)\n\u001B[1;32m----> 8\u001B[0m     \u001B[43msimclr\u001B[49m\u001B[38;5;241;43m.\u001B[39;49m\u001B[43mtrain\u001B[49m\u001B[43m(\u001B[49m\u001B[43mtrain_loader_1\u001B[49m\u001B[43m,\u001B[49m\u001B[43m \u001B[49m\u001B[43mshuffle\u001B[49m\u001B[38;5;241;43m=\u001B[39;49m\u001B[38;5;28;43;01mTrue\u001B[39;49;00m\u001B[43m)\u001B[49m\n",
      "File \u001B[1;32m~\\DataspellProjects\\SimCLRPytorch\\model\\model.py:66\u001B[0m, in \u001B[0;36mSimCLR.train\u001B[1;34m(self, train_loader, shuffle)\u001B[0m\n\u001B[0;32m     64\u001B[0m g \u001B[38;5;241m=\u001B[39m torch\u001B[38;5;241m.\u001B[39mGenerator()\n\u001B[0;32m     65\u001B[0m g\u001B[38;5;241m.\u001B[39mmanual_seed(\u001B[38;5;241m0\u001B[39m)\n\u001B[1;32m---> 66\u001B[0m \u001B[38;5;28;01mfor\u001B[39;00m images, labels \u001B[38;5;129;01min\u001B[39;00m tqdm((train_loader)):\n\u001B[0;32m     67\u001B[0m     images \u001B[38;5;241m=\u001B[39m torch\u001B[38;5;241m.\u001B[39mcat((images, images), dim\u001B[38;5;241m=\u001B[39m\u001B[38;5;241m0\u001B[39m)\n\u001B[0;32m     68\u001B[0m     \u001B[38;5;28;01mif\u001B[39;00m shuffle:\n",
      "File \u001B[1;32m~\\DataspellProjects\\SimCLRPytorch\\venv\\lib\\site-packages\\tqdm\\std.py:1195\u001B[0m, in \u001B[0;36mtqdm.__iter__\u001B[1;34m(self)\u001B[0m\n\u001B[0;32m   1192\u001B[0m time \u001B[38;5;241m=\u001B[39m \u001B[38;5;28mself\u001B[39m\u001B[38;5;241m.\u001B[39m_time\n\u001B[0;32m   1194\u001B[0m \u001B[38;5;28;01mtry\u001B[39;00m:\n\u001B[1;32m-> 1195\u001B[0m     \u001B[38;5;28;01mfor\u001B[39;00m obj \u001B[38;5;129;01min\u001B[39;00m iterable:\n\u001B[0;32m   1196\u001B[0m         \u001B[38;5;28;01myield\u001B[39;00m obj\n\u001B[0;32m   1197\u001B[0m         \u001B[38;5;66;03m# Update and possibly print the progressbar.\u001B[39;00m\n\u001B[0;32m   1198\u001B[0m         \u001B[38;5;66;03m# Note: does not call self.update(1) for speed optimisation.\u001B[39;00m\n",
      "File \u001B[1;32m~\\DataspellProjects\\SimCLRPytorch\\venv\\lib\\site-packages\\torch\\utils\\data\\dataloader.py:628\u001B[0m, in \u001B[0;36m_BaseDataLoaderIter.__next__\u001B[1;34m(self)\u001B[0m\n\u001B[0;32m    625\u001B[0m \u001B[38;5;28;01mif\u001B[39;00m \u001B[38;5;28mself\u001B[39m\u001B[38;5;241m.\u001B[39m_sampler_iter \u001B[38;5;129;01mis\u001B[39;00m \u001B[38;5;28;01mNone\u001B[39;00m:\n\u001B[0;32m    626\u001B[0m     \u001B[38;5;66;03m# TODO(https://github.com/pytorch/pytorch/issues/76750)\u001B[39;00m\n\u001B[0;32m    627\u001B[0m     \u001B[38;5;28mself\u001B[39m\u001B[38;5;241m.\u001B[39m_reset()  \u001B[38;5;66;03m# type: ignore[call-arg]\u001B[39;00m\n\u001B[1;32m--> 628\u001B[0m data \u001B[38;5;241m=\u001B[39m \u001B[38;5;28;43mself\u001B[39;49m\u001B[38;5;241;43m.\u001B[39;49m\u001B[43m_next_data\u001B[49m\u001B[43m(\u001B[49m\u001B[43m)\u001B[49m\n\u001B[0;32m    629\u001B[0m \u001B[38;5;28mself\u001B[39m\u001B[38;5;241m.\u001B[39m_num_yielded \u001B[38;5;241m+\u001B[39m\u001B[38;5;241m=\u001B[39m \u001B[38;5;241m1\u001B[39m\n\u001B[0;32m    630\u001B[0m \u001B[38;5;28;01mif\u001B[39;00m \u001B[38;5;28mself\u001B[39m\u001B[38;5;241m.\u001B[39m_dataset_kind \u001B[38;5;241m==\u001B[39m _DatasetKind\u001B[38;5;241m.\u001B[39mIterable \u001B[38;5;129;01mand\u001B[39;00m \\\n\u001B[0;32m    631\u001B[0m         \u001B[38;5;28mself\u001B[39m\u001B[38;5;241m.\u001B[39m_IterableDataset_len_called \u001B[38;5;129;01mis\u001B[39;00m \u001B[38;5;129;01mnot\u001B[39;00m \u001B[38;5;28;01mNone\u001B[39;00m \u001B[38;5;129;01mand\u001B[39;00m \\\n\u001B[0;32m    632\u001B[0m         \u001B[38;5;28mself\u001B[39m\u001B[38;5;241m.\u001B[39m_num_yielded \u001B[38;5;241m>\u001B[39m \u001B[38;5;28mself\u001B[39m\u001B[38;5;241m.\u001B[39m_IterableDataset_len_called:\n",
      "File \u001B[1;32m~\\DataspellProjects\\SimCLRPytorch\\venv\\lib\\site-packages\\torch\\utils\\data\\dataloader.py:671\u001B[0m, in \u001B[0;36m_SingleProcessDataLoaderIter._next_data\u001B[1;34m(self)\u001B[0m\n\u001B[0;32m    669\u001B[0m \u001B[38;5;28;01mdef\u001B[39;00m \u001B[38;5;21m_next_data\u001B[39m(\u001B[38;5;28mself\u001B[39m):\n\u001B[0;32m    670\u001B[0m     index \u001B[38;5;241m=\u001B[39m \u001B[38;5;28mself\u001B[39m\u001B[38;5;241m.\u001B[39m_next_index()  \u001B[38;5;66;03m# may raise StopIteration\u001B[39;00m\n\u001B[1;32m--> 671\u001B[0m     data \u001B[38;5;241m=\u001B[39m \u001B[38;5;28;43mself\u001B[39;49m\u001B[38;5;241;43m.\u001B[39;49m\u001B[43m_dataset_fetcher\u001B[49m\u001B[38;5;241;43m.\u001B[39;49m\u001B[43mfetch\u001B[49m\u001B[43m(\u001B[49m\u001B[43mindex\u001B[49m\u001B[43m)\u001B[49m  \u001B[38;5;66;03m# may raise StopIteration\u001B[39;00m\n\u001B[0;32m    672\u001B[0m     \u001B[38;5;28;01mif\u001B[39;00m \u001B[38;5;28mself\u001B[39m\u001B[38;5;241m.\u001B[39m_pin_memory:\n\u001B[0;32m    673\u001B[0m         data \u001B[38;5;241m=\u001B[39m _utils\u001B[38;5;241m.\u001B[39mpin_memory\u001B[38;5;241m.\u001B[39mpin_memory(data, \u001B[38;5;28mself\u001B[39m\u001B[38;5;241m.\u001B[39m_pin_memory_device)\n",
      "File \u001B[1;32m~\\DataspellProjects\\SimCLRPytorch\\venv\\lib\\site-packages\\torch\\utils\\data\\_utils\\fetch.py:58\u001B[0m, in \u001B[0;36m_MapDatasetFetcher.fetch\u001B[1;34m(self, possibly_batched_index)\u001B[0m\n\u001B[0;32m     56\u001B[0m         data \u001B[38;5;241m=\u001B[39m \u001B[38;5;28mself\u001B[39m\u001B[38;5;241m.\u001B[39mdataset\u001B[38;5;241m.\u001B[39m__getitems__(possibly_batched_index)\n\u001B[0;32m     57\u001B[0m     \u001B[38;5;28;01melse\u001B[39;00m:\n\u001B[1;32m---> 58\u001B[0m         data \u001B[38;5;241m=\u001B[39m [\u001B[38;5;28mself\u001B[39m\u001B[38;5;241m.\u001B[39mdataset[idx] \u001B[38;5;28;01mfor\u001B[39;00m idx \u001B[38;5;129;01min\u001B[39;00m possibly_batched_index]\n\u001B[0;32m     59\u001B[0m \u001B[38;5;28;01melse\u001B[39;00m:\n\u001B[0;32m     60\u001B[0m     data \u001B[38;5;241m=\u001B[39m \u001B[38;5;28mself\u001B[39m\u001B[38;5;241m.\u001B[39mdataset[possibly_batched_index]\n",
      "File \u001B[1;32m~\\DataspellProjects\\SimCLRPytorch\\venv\\lib\\site-packages\\torch\\utils\\data\\_utils\\fetch.py:58\u001B[0m, in \u001B[0;36m<listcomp>\u001B[1;34m(.0)\u001B[0m\n\u001B[0;32m     56\u001B[0m         data \u001B[38;5;241m=\u001B[39m \u001B[38;5;28mself\u001B[39m\u001B[38;5;241m.\u001B[39mdataset\u001B[38;5;241m.\u001B[39m__getitems__(possibly_batched_index)\n\u001B[0;32m     57\u001B[0m     \u001B[38;5;28;01melse\u001B[39;00m:\n\u001B[1;32m---> 58\u001B[0m         data \u001B[38;5;241m=\u001B[39m [\u001B[38;5;28;43mself\u001B[39;49m\u001B[38;5;241;43m.\u001B[39;49m\u001B[43mdataset\u001B[49m\u001B[43m[\u001B[49m\u001B[43midx\u001B[49m\u001B[43m]\u001B[49m \u001B[38;5;28;01mfor\u001B[39;00m idx \u001B[38;5;129;01min\u001B[39;00m possibly_batched_index]\n\u001B[0;32m     59\u001B[0m \u001B[38;5;28;01melse\u001B[39;00m:\n\u001B[0;32m     60\u001B[0m     data \u001B[38;5;241m=\u001B[39m \u001B[38;5;28mself\u001B[39m\u001B[38;5;241m.\u001B[39mdataset[possibly_batched_index]\n",
      "File \u001B[1;32m~\\DataspellProjects\\SimCLRPytorch\\venv\\lib\\site-packages\\torchvision\\datasets\\cifar.py:118\u001B[0m, in \u001B[0;36mCIFAR10.__getitem__\u001B[1;34m(self, index)\u001B[0m\n\u001B[0;32m    115\u001B[0m img \u001B[38;5;241m=\u001B[39m Image\u001B[38;5;241m.\u001B[39mfromarray(img)\n\u001B[0;32m    117\u001B[0m \u001B[38;5;28;01mif\u001B[39;00m \u001B[38;5;28mself\u001B[39m\u001B[38;5;241m.\u001B[39mtransform \u001B[38;5;129;01mis\u001B[39;00m \u001B[38;5;129;01mnot\u001B[39;00m \u001B[38;5;28;01mNone\u001B[39;00m:\n\u001B[1;32m--> 118\u001B[0m     img \u001B[38;5;241m=\u001B[39m \u001B[38;5;28;43mself\u001B[39;49m\u001B[38;5;241;43m.\u001B[39;49m\u001B[43mtransform\u001B[49m\u001B[43m(\u001B[49m\u001B[43mimg\u001B[49m\u001B[43m)\u001B[49m\n\u001B[0;32m    120\u001B[0m \u001B[38;5;28;01mif\u001B[39;00m \u001B[38;5;28mself\u001B[39m\u001B[38;5;241m.\u001B[39mtarget_transform \u001B[38;5;129;01mis\u001B[39;00m \u001B[38;5;129;01mnot\u001B[39;00m \u001B[38;5;28;01mNone\u001B[39;00m:\n\u001B[0;32m    121\u001B[0m     target \u001B[38;5;241m=\u001B[39m \u001B[38;5;28mself\u001B[39m\u001B[38;5;241m.\u001B[39mtarget_transform(target)\n",
      "File \u001B[1;32m~\\DataspellProjects\\SimCLRPytorch\\venv\\lib\\site-packages\\torchvision\\transforms\\transforms.py:95\u001B[0m, in \u001B[0;36mCompose.__call__\u001B[1;34m(self, img)\u001B[0m\n\u001B[0;32m     93\u001B[0m \u001B[38;5;28;01mdef\u001B[39;00m \u001B[38;5;21m__call__\u001B[39m(\u001B[38;5;28mself\u001B[39m, img):\n\u001B[0;32m     94\u001B[0m     \u001B[38;5;28;01mfor\u001B[39;00m t \u001B[38;5;129;01min\u001B[39;00m \u001B[38;5;28mself\u001B[39m\u001B[38;5;241m.\u001B[39mtransforms:\n\u001B[1;32m---> 95\u001B[0m         img \u001B[38;5;241m=\u001B[39m \u001B[43mt\u001B[49m\u001B[43m(\u001B[49m\u001B[43mimg\u001B[49m\u001B[43m)\u001B[49m\n\u001B[0;32m     96\u001B[0m     \u001B[38;5;28;01mreturn\u001B[39;00m img\n",
      "File \u001B[1;32m~\\DataspellProjects\\SimCLRPytorch\\venv\\lib\\site-packages\\torch\\nn\\modules\\module.py:1190\u001B[0m, in \u001B[0;36mModule._call_impl\u001B[1;34m(self, *input, **kwargs)\u001B[0m\n\u001B[0;32m   1186\u001B[0m \u001B[38;5;66;03m# If we don't have any hooks, we want to skip the rest of the logic in\u001B[39;00m\n\u001B[0;32m   1187\u001B[0m \u001B[38;5;66;03m# this function, and just call forward.\u001B[39;00m\n\u001B[0;32m   1188\u001B[0m \u001B[38;5;28;01mif\u001B[39;00m \u001B[38;5;129;01mnot\u001B[39;00m (\u001B[38;5;28mself\u001B[39m\u001B[38;5;241m.\u001B[39m_backward_hooks \u001B[38;5;129;01mor\u001B[39;00m \u001B[38;5;28mself\u001B[39m\u001B[38;5;241m.\u001B[39m_forward_hooks \u001B[38;5;129;01mor\u001B[39;00m \u001B[38;5;28mself\u001B[39m\u001B[38;5;241m.\u001B[39m_forward_pre_hooks \u001B[38;5;129;01mor\u001B[39;00m _global_backward_hooks\n\u001B[0;32m   1189\u001B[0m         \u001B[38;5;129;01mor\u001B[39;00m _global_forward_hooks \u001B[38;5;129;01mor\u001B[39;00m _global_forward_pre_hooks):\n\u001B[1;32m-> 1190\u001B[0m     \u001B[38;5;28;01mreturn\u001B[39;00m \u001B[43mforward_call\u001B[49m\u001B[43m(\u001B[49m\u001B[38;5;241;43m*\u001B[39;49m\u001B[38;5;28;43minput\u001B[39;49m\u001B[43m,\u001B[49m\u001B[43m \u001B[49m\u001B[38;5;241;43m*\u001B[39;49m\u001B[38;5;241;43m*\u001B[39;49m\u001B[43mkwargs\u001B[49m\u001B[43m)\u001B[49m\n\u001B[0;32m   1191\u001B[0m \u001B[38;5;66;03m# Do not call functions when jit is used\u001B[39;00m\n\u001B[0;32m   1192\u001B[0m full_backward_hooks, non_full_backward_hooks \u001B[38;5;241m=\u001B[39m [], []\n",
      "File \u001B[1;32m~\\DataspellProjects\\SimCLRPytorch\\venv\\lib\\site-packages\\torchvision\\transforms\\transforms.py:1799\u001B[0m, in \u001B[0;36mGaussianBlur.forward\u001B[1;34m(self, img)\u001B[0m\n\u001B[0;32m   1791\u001B[0m \u001B[38;5;124;03m\"\"\"\u001B[39;00m\n\u001B[0;32m   1792\u001B[0m \u001B[38;5;124;03mArgs:\u001B[39;00m\n\u001B[0;32m   1793\u001B[0m \u001B[38;5;124;03m    img (PIL Image or Tensor): image to be blurred.\u001B[39;00m\n\u001B[1;32m   (...)\u001B[0m\n\u001B[0;32m   1796\u001B[0m \u001B[38;5;124;03m    PIL Image or Tensor: Gaussian blurred image\u001B[39;00m\n\u001B[0;32m   1797\u001B[0m \u001B[38;5;124;03m\"\"\"\u001B[39;00m\n\u001B[0;32m   1798\u001B[0m sigma \u001B[38;5;241m=\u001B[39m \u001B[38;5;28mself\u001B[39m\u001B[38;5;241m.\u001B[39mget_params(\u001B[38;5;28mself\u001B[39m\u001B[38;5;241m.\u001B[39msigma[\u001B[38;5;241m0\u001B[39m], \u001B[38;5;28mself\u001B[39m\u001B[38;5;241m.\u001B[39msigma[\u001B[38;5;241m1\u001B[39m])\n\u001B[1;32m-> 1799\u001B[0m \u001B[38;5;28;01mreturn\u001B[39;00m \u001B[43mF\u001B[49m\u001B[38;5;241;43m.\u001B[39;49m\u001B[43mgaussian_blur\u001B[49m\u001B[43m(\u001B[49m\u001B[43mimg\u001B[49m\u001B[43m,\u001B[49m\u001B[43m \u001B[49m\u001B[38;5;28;43mself\u001B[39;49m\u001B[38;5;241;43m.\u001B[39;49m\u001B[43mkernel_size\u001B[49m\u001B[43m,\u001B[49m\u001B[43m \u001B[49m\u001B[43m[\u001B[49m\u001B[43msigma\u001B[49m\u001B[43m,\u001B[49m\u001B[43m \u001B[49m\u001B[43msigma\u001B[49m\u001B[43m]\u001B[49m\u001B[43m)\u001B[49m\n",
      "File \u001B[1;32m~\\DataspellProjects\\SimCLRPytorch\\venv\\lib\\site-packages\\torchvision\\transforms\\functional.py:1366\u001B[0m, in \u001B[0;36mgaussian_blur\u001B[1;34m(img, kernel_size, sigma)\u001B[0m\n\u001B[0;32m   1362\u001B[0m         \u001B[38;5;28;01mraise\u001B[39;00m \u001B[38;5;167;01mTypeError\u001B[39;00m(\u001B[38;5;124mf\u001B[39m\u001B[38;5;124m\"\u001B[39m\u001B[38;5;124mimg should be PIL Image or Tensor. Got \u001B[39m\u001B[38;5;132;01m{\u001B[39;00m\u001B[38;5;28mtype\u001B[39m(img)\u001B[38;5;132;01m}\u001B[39;00m\u001B[38;5;124m\"\u001B[39m)\n\u001B[0;32m   1364\u001B[0m     t_img \u001B[38;5;241m=\u001B[39m pil_to_tensor(img)\n\u001B[1;32m-> 1366\u001B[0m output \u001B[38;5;241m=\u001B[39m \u001B[43mF_t\u001B[49m\u001B[38;5;241;43m.\u001B[39;49m\u001B[43mgaussian_blur\u001B[49m\u001B[43m(\u001B[49m\u001B[43mt_img\u001B[49m\u001B[43m,\u001B[49m\u001B[43m \u001B[49m\u001B[43mkernel_size\u001B[49m\u001B[43m,\u001B[49m\u001B[43m \u001B[49m\u001B[43msigma\u001B[49m\u001B[43m)\u001B[49m\n\u001B[0;32m   1368\u001B[0m \u001B[38;5;28;01mif\u001B[39;00m \u001B[38;5;129;01mnot\u001B[39;00m \u001B[38;5;28misinstance\u001B[39m(img, torch\u001B[38;5;241m.\u001B[39mTensor):\n\u001B[0;32m   1369\u001B[0m     output \u001B[38;5;241m=\u001B[39m to_pil_image(output, mode\u001B[38;5;241m=\u001B[39mimg\u001B[38;5;241m.\u001B[39mmode)\n",
      "File \u001B[1;32m~\\DataspellProjects\\SimCLRPytorch\\venv\\lib\\site-packages\\torchvision\\transforms\\functional_tensor.py:768\u001B[0m, in \u001B[0;36mgaussian_blur\u001B[1;34m(img, kernel_size, sigma)\u001B[0m\n\u001B[0;32m    766\u001B[0m padding \u001B[38;5;241m=\u001B[39m [kernel_size[\u001B[38;5;241m0\u001B[39m] \u001B[38;5;241m/\u001B[39m\u001B[38;5;241m/\u001B[39m \u001B[38;5;241m2\u001B[39m, kernel_size[\u001B[38;5;241m0\u001B[39m] \u001B[38;5;241m/\u001B[39m\u001B[38;5;241m/\u001B[39m \u001B[38;5;241m2\u001B[39m, kernel_size[\u001B[38;5;241m1\u001B[39m] \u001B[38;5;241m/\u001B[39m\u001B[38;5;241m/\u001B[39m \u001B[38;5;241m2\u001B[39m, kernel_size[\u001B[38;5;241m1\u001B[39m] \u001B[38;5;241m/\u001B[39m\u001B[38;5;241m/\u001B[39m \u001B[38;5;241m2\u001B[39m]\n\u001B[0;32m    767\u001B[0m img \u001B[38;5;241m=\u001B[39m torch_pad(img, padding, mode\u001B[38;5;241m=\u001B[39m\u001B[38;5;124m\"\u001B[39m\u001B[38;5;124mreflect\u001B[39m\u001B[38;5;124m\"\u001B[39m)\n\u001B[1;32m--> 768\u001B[0m img \u001B[38;5;241m=\u001B[39m \u001B[43mconv2d\u001B[49m\u001B[43m(\u001B[49m\u001B[43mimg\u001B[49m\u001B[43m,\u001B[49m\u001B[43m \u001B[49m\u001B[43mkernel\u001B[49m\u001B[43m,\u001B[49m\u001B[43m \u001B[49m\u001B[43mgroups\u001B[49m\u001B[38;5;241;43m=\u001B[39;49m\u001B[43mimg\u001B[49m\u001B[38;5;241;43m.\u001B[39;49m\u001B[43mshape\u001B[49m\u001B[43m[\u001B[49m\u001B[38;5;241;43m-\u001B[39;49m\u001B[38;5;241;43m3\u001B[39;49m\u001B[43m]\u001B[49m\u001B[43m)\u001B[49m\n\u001B[0;32m    770\u001B[0m img \u001B[38;5;241m=\u001B[39m _cast_squeeze_out(img, need_cast, need_squeeze, out_dtype)\n\u001B[0;32m    771\u001B[0m \u001B[38;5;28;01mreturn\u001B[39;00m img\n",
      "\u001B[1;31mKeyboardInterrupt\u001B[0m: "
     ]
    }
   ],
   "source": [
    "optimizer = torch.optim.Adam(model.parameters(), 0.0003, weight_decay=1e-4)\n",
    "\n",
    "scheduler = torch.optim.lr_scheduler.CosineAnnealingLR(optimizer, T_max=len(train_loader_1), eta_min=0,\n",
    "                                                       last_epoch=-1)\n",
    "\n",
    "with torch.cuda.device(gpu_index):\n",
    "    simclr = SimCLR(model=model, optimizer=optimizer, scheduler=scheduler, device=device, epochs=200, log_every_n_steps=100)\n",
    "    simclr.train(train_loader_1, shuffle=True)"
   ],
   "metadata": {
    "collapsed": false
   }
  },
  {
   "cell_type": "code",
   "execution_count": 8,
   "outputs": [],
   "source": [
    "torch.save(model.state_dict(), 'saved_models/model_final_cifar10_13_12_2022.pth')"
   ],
   "metadata": {
    "collapsed": false
   }
  },
  {
   "cell_type": "code",
   "execution_count": 10,
   "outputs": [],
   "source": [
    "model.backbone.fc = torch.nn.Sequential(\n",
    "    torch.nn.Linear(in_features=512, out_features=128, bias=True),\n",
    "    torch.nn.ReLU(inplace=True),\n",
    "    # torch.nn.BatchNorm1d(128),\n",
    "    torch.nn.Linear(in_features=128, out_features=10, bias=True),\n",
    ")\n"
   ],
   "metadata": {
    "collapsed": false
   }
  },
  {
   "cell_type": "code",
   "execution_count": 11,
   "outputs": [
    {
     "name": "stdout",
     "output_type": "stream",
     "text": [
      "conv1.weight: False\n",
      "bn1.weight: False\n",
      "bn1.bias: False\n",
      "layer1.0.conv1.weight: False\n",
      "layer1.0.bn1.weight: False\n",
      "layer1.0.bn1.bias: False\n",
      "layer1.0.conv2.weight: False\n",
      "layer1.0.bn2.weight: False\n",
      "layer1.0.bn2.bias: False\n",
      "layer1.1.conv1.weight: False\n",
      "layer1.1.bn1.weight: False\n",
      "layer1.1.bn1.bias: False\n",
      "layer1.1.conv2.weight: False\n",
      "layer1.1.bn2.weight: False\n",
      "layer1.1.bn2.bias: False\n",
      "layer2.0.conv1.weight: False\n",
      "layer2.0.bn1.weight: False\n",
      "layer2.0.bn1.bias: False\n",
      "layer2.0.conv2.weight: False\n",
      "layer2.0.bn2.weight: False\n",
      "layer2.0.bn2.bias: False\n",
      "layer2.0.downsample.0.weight: False\n",
      "layer2.0.downsample.1.weight: False\n",
      "layer2.0.downsample.1.bias: False\n",
      "layer2.1.conv1.weight: False\n",
      "layer2.1.bn1.weight: False\n",
      "layer2.1.bn1.bias: False\n",
      "layer2.1.conv2.weight: False\n",
      "layer2.1.bn2.weight: False\n",
      "layer2.1.bn2.bias: False\n",
      "layer3.0.conv1.weight: False\n",
      "layer3.0.bn1.weight: False\n",
      "layer3.0.bn1.bias: False\n",
      "layer3.0.conv2.weight: False\n",
      "layer3.0.bn2.weight: False\n",
      "layer3.0.bn2.bias: False\n",
      "layer3.0.downsample.0.weight: False\n",
      "layer3.0.downsample.1.weight: False\n",
      "layer3.0.downsample.1.bias: False\n",
      "layer3.1.conv1.weight: False\n",
      "layer3.1.bn1.weight: False\n",
      "layer3.1.bn1.bias: False\n",
      "layer3.1.conv2.weight: False\n",
      "layer3.1.bn2.weight: False\n",
      "layer3.1.bn2.bias: False\n",
      "layer4.0.conv1.weight: False\n",
      "layer4.0.bn1.weight: False\n",
      "layer4.0.bn1.bias: False\n",
      "layer4.0.conv2.weight: False\n",
      "layer4.0.bn2.weight: False\n",
      "layer4.0.bn2.bias: False\n",
      "layer4.0.downsample.0.weight: False\n",
      "layer4.0.downsample.1.weight: False\n",
      "layer4.0.downsample.1.bias: False\n",
      "layer4.1.conv1.weight: False\n",
      "layer4.1.bn1.weight: False\n",
      "layer4.1.bn1.bias: False\n",
      "layer4.1.conv2.weight: False\n",
      "layer4.1.bn2.weight: False\n",
      "layer4.1.bn2.bias: False\n",
      "fc.0.weight: True\n",
      "fc.0.bias: True\n",
      "fc.2.weight: True\n",
      "fc.2.bias: True\n"
     ]
    }
   ],
   "source": [
    "model.backbone.requires_grad_(False)\n",
    "model.backbone.fc.requires_grad_(True)\n",
    "\n",
    "for parameter in model.backbone.named_parameters():\n",
    "    print(f'{parameter[0]}: {parameter[1].requires_grad}')\n"
   ],
   "metadata": {
    "collapsed": false
   }
  },
  {
   "cell_type": "code",
   "execution_count": 12,
   "outputs": [
    {
     "name": "stderr",
     "output_type": "stream",
     "text": [
      "  0%|          | 0/195 [00:01<?, ?it/s]\n"
     ]
    },
    {
     "ename": "RuntimeError",
     "evalue": "element 0 of tensors does not require grad and does not have a grad_fn",
     "output_type": "error",
     "traceback": [
      "\u001B[1;31m---------------------------------------------------------------------------\u001B[0m",
      "\u001B[1;31mRuntimeError\u001B[0m                              Traceback (most recent call last)",
      "Cell \u001B[1;32mIn [12], line 9\u001B[0m\n\u001B[0;32m      7\u001B[0m \u001B[38;5;28;01mwith\u001B[39;00m torch\u001B[38;5;241m.\u001B[39mcuda\u001B[38;5;241m.\u001B[39mdevice(gpu_index):\n\u001B[0;32m      8\u001B[0m     simclr \u001B[38;5;241m=\u001B[39m SimCLR(model\u001B[38;5;241m=\u001B[39mmodel, optimizer\u001B[38;5;241m=\u001B[39moptimizer, scheduler\u001B[38;5;241m=\u001B[39mscheduler, device\u001B[38;5;241m=\u001B[39mdevice, epochs\u001B[38;5;241m=\u001B[39m\u001B[38;5;241m200\u001B[39m, log_every_n_steps\u001B[38;5;241m=\u001B[39m\u001B[38;5;241m100\u001B[39m)\n\u001B[1;32m----> 9\u001B[0m     \u001B[43msimclr\u001B[49m\u001B[38;5;241;43m.\u001B[39;49m\u001B[43mtrain_head\u001B[49m\u001B[43m(\u001B[49m\u001B[43mtrain_loader_2\u001B[49m\u001B[43m)\u001B[49m\n",
      "File \u001B[1;32m~\\DataspellProjects\\SimCLRPytorch\\model\\model.py:119\u001B[0m, in \u001B[0;36mSimCLR.train_head\u001B[1;34m(self, train_loader)\u001B[0m\n\u001B[0;32m    116\u001B[0m n_iter \u001B[38;5;241m+\u001B[39m\u001B[38;5;241m=\u001B[39m \u001B[38;5;241m1\u001B[39m\n\u001B[0;32m    117\u001B[0m \u001B[38;5;28mself\u001B[39m\u001B[38;5;241m.\u001B[39moptimizer\u001B[38;5;241m.\u001B[39mzero_grad()\n\u001B[1;32m--> 119\u001B[0m \u001B[43mscaler\u001B[49m\u001B[38;5;241;43m.\u001B[39;49m\u001B[43mscale\u001B[49m\u001B[43m(\u001B[49m\u001B[43mloss\u001B[49m\u001B[43m)\u001B[49m\u001B[38;5;241;43m.\u001B[39;49m\u001B[43mbackward\u001B[49m\u001B[43m(\u001B[49m\u001B[43m)\u001B[49m\n\u001B[0;32m    121\u001B[0m scaler\u001B[38;5;241m.\u001B[39mstep(\u001B[38;5;28mself\u001B[39m\u001B[38;5;241m.\u001B[39moptimizer)\n\u001B[0;32m    122\u001B[0m scaler\u001B[38;5;241m.\u001B[39mupdate()\n",
      "File \u001B[1;32m~\\DataspellProjects\\SimCLRPytorch\\venv\\lib\\site-packages\\torch\\_tensor.py:487\u001B[0m, in \u001B[0;36mTensor.backward\u001B[1;34m(self, gradient, retain_graph, create_graph, inputs)\u001B[0m\n\u001B[0;32m    477\u001B[0m \u001B[38;5;28;01mif\u001B[39;00m has_torch_function_unary(\u001B[38;5;28mself\u001B[39m):\n\u001B[0;32m    478\u001B[0m     \u001B[38;5;28;01mreturn\u001B[39;00m handle_torch_function(\n\u001B[0;32m    479\u001B[0m         Tensor\u001B[38;5;241m.\u001B[39mbackward,\n\u001B[0;32m    480\u001B[0m         (\u001B[38;5;28mself\u001B[39m,),\n\u001B[1;32m   (...)\u001B[0m\n\u001B[0;32m    485\u001B[0m         inputs\u001B[38;5;241m=\u001B[39minputs,\n\u001B[0;32m    486\u001B[0m     )\n\u001B[1;32m--> 487\u001B[0m \u001B[43mtorch\u001B[49m\u001B[38;5;241;43m.\u001B[39;49m\u001B[43mautograd\u001B[49m\u001B[38;5;241;43m.\u001B[39;49m\u001B[43mbackward\u001B[49m\u001B[43m(\u001B[49m\n\u001B[0;32m    488\u001B[0m \u001B[43m    \u001B[49m\u001B[38;5;28;43mself\u001B[39;49m\u001B[43m,\u001B[49m\u001B[43m \u001B[49m\u001B[43mgradient\u001B[49m\u001B[43m,\u001B[49m\u001B[43m \u001B[49m\u001B[43mretain_graph\u001B[49m\u001B[43m,\u001B[49m\u001B[43m \u001B[49m\u001B[43mcreate_graph\u001B[49m\u001B[43m,\u001B[49m\u001B[43m \u001B[49m\u001B[43minputs\u001B[49m\u001B[38;5;241;43m=\u001B[39;49m\u001B[43minputs\u001B[49m\n\u001B[0;32m    489\u001B[0m \u001B[43m\u001B[49m\u001B[43m)\u001B[49m\n",
      "File \u001B[1;32m~\\DataspellProjects\\SimCLRPytorch\\venv\\lib\\site-packages\\torch\\autograd\\__init__.py:197\u001B[0m, in \u001B[0;36mbackward\u001B[1;34m(tensors, grad_tensors, retain_graph, create_graph, grad_variables, inputs)\u001B[0m\n\u001B[0;32m    192\u001B[0m     retain_graph \u001B[38;5;241m=\u001B[39m create_graph\n\u001B[0;32m    194\u001B[0m \u001B[38;5;66;03m# The reason we repeat same the comment below is that\u001B[39;00m\n\u001B[0;32m    195\u001B[0m \u001B[38;5;66;03m# some Python versions print out the first line of a multi-line function\u001B[39;00m\n\u001B[0;32m    196\u001B[0m \u001B[38;5;66;03m# calls in the traceback and some print out the last line\u001B[39;00m\n\u001B[1;32m--> 197\u001B[0m \u001B[43mVariable\u001B[49m\u001B[38;5;241;43m.\u001B[39;49m\u001B[43m_execution_engine\u001B[49m\u001B[38;5;241;43m.\u001B[39;49m\u001B[43mrun_backward\u001B[49m\u001B[43m(\u001B[49m\u001B[43m  \u001B[49m\u001B[38;5;66;43;03m# Calls into the C++ engine to run the backward pass\u001B[39;49;00m\n\u001B[0;32m    198\u001B[0m \u001B[43m    \u001B[49m\u001B[43mtensors\u001B[49m\u001B[43m,\u001B[49m\u001B[43m \u001B[49m\u001B[43mgrad_tensors_\u001B[49m\u001B[43m,\u001B[49m\u001B[43m \u001B[49m\u001B[43mretain_graph\u001B[49m\u001B[43m,\u001B[49m\u001B[43m \u001B[49m\u001B[43mcreate_graph\u001B[49m\u001B[43m,\u001B[49m\u001B[43m \u001B[49m\u001B[43minputs\u001B[49m\u001B[43m,\u001B[49m\n\u001B[0;32m    199\u001B[0m \u001B[43m    \u001B[49m\u001B[43mallow_unreachable\u001B[49m\u001B[38;5;241;43m=\u001B[39;49m\u001B[38;5;28;43;01mTrue\u001B[39;49;00m\u001B[43m,\u001B[49m\u001B[43m \u001B[49m\u001B[43maccumulate_grad\u001B[49m\u001B[38;5;241;43m=\u001B[39;49m\u001B[38;5;28;43;01mTrue\u001B[39;49;00m\u001B[43m)\u001B[49m\n",
      "\u001B[1;31mRuntimeError\u001B[0m: element 0 of tensors does not require grad and does not have a grad_fn"
     ]
    }
   ],
   "source": [
    "optimizer = torch.optim.Adam(model.parameters(), 0.0003, weight_decay=1e-4)\n",
    "\n",
    "scheduler = torch.optim.lr_scheduler.CosineAnnealingLR(optimizer, T_max=len(train_loader_2), eta_min=0,\n",
    "                                                       last_epoch=-1)\n",
    "\n",
    "# Glowa musi uczyc sie w sposob nadzorowany\n",
    "with torch.cuda.device(gpu_index):\n",
    "    simclr = SimCLR(model=model, optimizer=optimizer, scheduler=scheduler, device=device, epochs=200, log_every_n_steps=100)\n",
    "    simclr.train_head(train_loader_2)\n"
   ],
   "metadata": {
    "collapsed": false
   }
  },
  {
   "cell_type": "code",
   "execution_count": 10,
   "outputs": [
    {
     "name": "stdout",
     "output_type": "stream",
     "text": [
      "Files already downloaded and verified\n"
     ]
    }
   ],
   "source": [
    "test_dataset = datasets.CIFAR10('./datasets', download=True, train=False, transform=transforms.ToTensor())\n",
    "test_loader = torch.utils.data.DataLoader(test_dataset, batch_size=256, shuffle=True, pin_memory=True, drop_last=True, generator=g)"
   ],
   "metadata": {
    "collapsed": false
   }
  },
  {
   "cell_type": "code",
   "execution_count": 14,
   "outputs": [
    {
     "name": "stderr",
     "output_type": "stream",
     "text": [
      "100%|██████████| 39/39 [00:02<00:00, 18.29it/s]\n"
     ]
    }
   ],
   "source": [
    "import logging\n",
    "from torch.utils.tensorboard import SummaryWriter\n",
    "import os\n",
    "from model.model import accuracy\n",
    "from tqdm import tqdm\n",
    "\n",
    "total = 0\n",
    "running_accuracy = 0\n",
    "n_iter = 0\n",
    "writer = SummaryWriter()\n",
    "logging.basicConfig(filename=os.path.join(writer.log_dir, 'training.log'), level=logging.DEBUG)\n",
    "criterion = torch.nn.CrossEntropyLoss().to(device)\n",
    "model.eval()\n",
    "with torch.no_grad():\n",
    "    for images, labels in tqdm(test_loader):\n",
    "        images = images.to(device)\n",
    "        labels = labels.to(device)\n",
    "        output = model(images)\n",
    "        loss = criterion(output, labels)\n",
    "        top1, top5 = accuracy(output, labels, topk=(1, 5))\n",
    "        writer.add_scalar('loss', loss, global_step=n_iter)\n",
    "        writer.add_scalar('acc/top1', top1[0], global_step=n_iter)\n",
    "        writer.add_scalar('acc/top5', top5[0], global_step=n_iter)\n",
    "        n_iter += 1\n"
   ],
   "metadata": {
    "collapsed": false
   }
  },
  {
   "cell_type": "code",
   "execution_count": null,
   "outputs": [],
   "source": [],
   "metadata": {
    "collapsed": false
   }
  }
 ],
 "metadata": {
  "kernelspec": {
   "display_name": "Python 3",
   "language": "python",
   "name": "python3"
  },
  "language_info": {
   "codemirror_mode": {
    "name": "ipython",
    "version": 2
   },
   "file_extension": ".py",
   "mimetype": "text/x-python",
   "name": "python",
   "nbconvert_exporter": "python",
   "pygments_lexer": "ipython2",
   "version": "2.7.6"
  }
 },
 "nbformat": 4,
 "nbformat_minor": 0
}
