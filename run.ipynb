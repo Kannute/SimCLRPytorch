{
 "cells": [
  {
   "cell_type": "code",
   "execution_count": 1,
   "metadata": {
    "collapsed": true
   },
   "outputs": [
    {
     "name": "stderr",
     "output_type": "stream",
     "text": [
      "D:\\Programy\\DataSpell 2022.2.3\\DataspellProjects\\SimCLRPytorch-main\\venv\\lib\\site-packages\\tqdm\\auto.py:22: TqdmWarning: IProgress not found. Please update jupyter and ipywidgets. See https://ipywidgets.readthedocs.io/en/stable/user_install.html\n",
      "  from .autonotebook import tqdm as notebook_tqdm\n"
     ]
    }
   ],
   "source": [
    "from model.model import ConvModel, PreTrainer, show_results, HeadTrainer\n",
    "\n",
    "import argparse\n",
    "import torch\n",
    "import torch.backends.cudnn as cudnn\n",
    "from torchvision import models\n",
    "from torchvision import transforms, datasets\n"
   ]
  },
  {
   "cell_type": "code",
   "execution_count": null,
   "outputs": [],
   "source": [
    "\n"
   ],
   "metadata": {
    "collapsed": false
   }
  },
  {
   "cell_type": "code",
   "execution_count": 2,
   "outputs": [],
   "source": [
    "if torch.cuda.is_available():\n",
    "    device = torch.device('cuda')\n",
    "    cudnn.deterministic = True\n",
    "    cudnn.benchmark = True\n",
    "    gpu_index = 0\n",
    "else:\n",
    "    device = torch.device('cpu')\n",
    "    gpu_index = -1\n"
   ],
   "metadata": {
    "collapsed": false
   }
  },
  {
   "cell_type": "code",
   "execution_count": 3,
   "outputs": [],
   "source": [
    "color_jitter = transforms.ColorJitter(0.8, 0.8, 0.8, 0.2)\n",
    "\n",
    "\n",
    "composed_transforms = transforms.Compose([\n",
    "    transforms.RandomHorizontalFlip(),\n",
    "    transforms.RandomApply([color_jitter], p=0.8),\n",
    "    transforms.RandomGrayscale(p=0.2),\n",
    "    transforms.GaussianBlur(kernel_size=3),\n",
    "      transforms.ToTensor()])"
   ],
   "metadata": {
    "collapsed": false
   }
  },
  {
   "cell_type": "markdown",
   "source": [],
   "metadata": {
    "collapsed": false
   }
  },
  {
   "cell_type": "code",
   "execution_count": 6,
   "outputs": [
    {
     "data": {
      "text/plain": "<torch._C.Generator at 0x19f7b4f46b0>"
     },
     "execution_count": 6,
     "metadata": {},
     "output_type": "execute_result"
    }
   ],
   "source": [
    "train_dataset_1 = datasets.MNIST('./datasets', train=True,\n",
    "                               transform=composed_transforms,\n",
    "                               download=True)\n",
    "train_dataset_2 = datasets.MNIST('./datasets', download=True, train=True, transform=transforms.ToTensor())#ten nie ma augumentacji\n",
    "g = torch.Generator()\n",
    "g.manual_seed(0)"
   ],
   "metadata": {
    "collapsed": false
   }
  },
  {
   "cell_type": "code",
   "execution_count": 7,
   "outputs": [],
   "source": [
    "train_loader_1 = torch.utils.data.DataLoader(\n",
    "    train_dataset_1, batch_size=256, shuffle=False,\n",
    "     pin_memory=True, drop_last=True, generator=g)\n",
    "train_loader_2 = torch.utils.data.DataLoader(train_dataset_2, batch_size=256, shuffle=True, pin_memory=True, drop_last=True, generator=g)"
   ],
   "metadata": {
    "collapsed": false
   }
  },
  {
   "cell_type": "code",
   "execution_count": 10,
   "outputs": [
    {
     "data": {
      "text/plain": "<All keys matched successfully>"
     },
     "execution_count": 10,
     "metadata": {},
     "output_type": "execute_result"
    }
   ],
   "source": [
    "model = ConvModel(out_dim=10, dataset='MNIST')\n",
    "\n",
    "#model.load_state_dict(torch.load('saved_models/model_final_cifar10_200_epochs.pth'))\n",
    "model.load_state_dict(torch.load('saved_models/MNISTpoPRetreningu.pth'))\n"
   ],
   "metadata": {
    "collapsed": false
   }
  },
  {
   "cell_type": "code",
   "execution_count": 8,
   "outputs": [],
   "source": [
    "torch.save(model.state_dict(), 'saved_models/MNISTpoPRetreningu.pth')"
   ],
   "metadata": {
    "collapsed": false
   }
  },
  {
   "cell_type": "code",
   "execution_count": null,
   "outputs": [],
   "source": [
    "#torch.load(model.state_dict(), 'saved_models/MNISTpoPRetreningu.pth')"
   ],
   "metadata": {
    "collapsed": false
   }
  },
  {
   "cell_type": "code",
   "execution_count": 11,
   "outputs": [
    {
     "data": {
      "text/plain": "ConvModel(\n  (resnet_model): ResNet(\n    (conv1): Conv2d(1, 64, kernel_size=(7, 7), stride=(2, 2), padding=(3, 3), bias=False)\n    (bn1): BatchNorm2d(64, eps=1e-05, momentum=0.1, affine=True, track_running_stats=True)\n    (relu): ReLU(inplace=True)\n    (maxpool): MaxPool2d(kernel_size=3, stride=2, padding=1, dilation=1, ceil_mode=False)\n    (layer1): Sequential(\n      (0): BasicBlock(\n        (conv1): Conv2d(64, 64, kernel_size=(3, 3), stride=(1, 1), padding=(1, 1), bias=False)\n        (bn1): BatchNorm2d(64, eps=1e-05, momentum=0.1, affine=True, track_running_stats=True)\n        (relu): ReLU(inplace=True)\n        (conv2): Conv2d(64, 64, kernel_size=(3, 3), stride=(1, 1), padding=(1, 1), bias=False)\n        (bn2): BatchNorm2d(64, eps=1e-05, momentum=0.1, affine=True, track_running_stats=True)\n      )\n      (1): BasicBlock(\n        (conv1): Conv2d(64, 64, kernel_size=(3, 3), stride=(1, 1), padding=(1, 1), bias=False)\n        (bn1): BatchNorm2d(64, eps=1e-05, momentum=0.1, affine=True, track_running_stats=True)\n        (relu): ReLU(inplace=True)\n        (conv2): Conv2d(64, 64, kernel_size=(3, 3), stride=(1, 1), padding=(1, 1), bias=False)\n        (bn2): BatchNorm2d(64, eps=1e-05, momentum=0.1, affine=True, track_running_stats=True)\n      )\n    )\n    (layer2): Sequential(\n      (0): BasicBlock(\n        (conv1): Conv2d(64, 128, kernel_size=(3, 3), stride=(2, 2), padding=(1, 1), bias=False)\n        (bn1): BatchNorm2d(128, eps=1e-05, momentum=0.1, affine=True, track_running_stats=True)\n        (relu): ReLU(inplace=True)\n        (conv2): Conv2d(128, 128, kernel_size=(3, 3), stride=(1, 1), padding=(1, 1), bias=False)\n        (bn2): BatchNorm2d(128, eps=1e-05, momentum=0.1, affine=True, track_running_stats=True)\n        (downsample): Sequential(\n          (0): Conv2d(64, 128, kernel_size=(1, 1), stride=(2, 2), bias=False)\n          (1): BatchNorm2d(128, eps=1e-05, momentum=0.1, affine=True, track_running_stats=True)\n        )\n      )\n      (1): BasicBlock(\n        (conv1): Conv2d(128, 128, kernel_size=(3, 3), stride=(1, 1), padding=(1, 1), bias=False)\n        (bn1): BatchNorm2d(128, eps=1e-05, momentum=0.1, affine=True, track_running_stats=True)\n        (relu): ReLU(inplace=True)\n        (conv2): Conv2d(128, 128, kernel_size=(3, 3), stride=(1, 1), padding=(1, 1), bias=False)\n        (bn2): BatchNorm2d(128, eps=1e-05, momentum=0.1, affine=True, track_running_stats=True)\n      )\n    )\n    (layer3): Sequential(\n      (0): BasicBlock(\n        (conv1): Conv2d(128, 256, kernel_size=(3, 3), stride=(2, 2), padding=(1, 1), bias=False)\n        (bn1): BatchNorm2d(256, eps=1e-05, momentum=0.1, affine=True, track_running_stats=True)\n        (relu): ReLU(inplace=True)\n        (conv2): Conv2d(256, 256, kernel_size=(3, 3), stride=(1, 1), padding=(1, 1), bias=False)\n        (bn2): BatchNorm2d(256, eps=1e-05, momentum=0.1, affine=True, track_running_stats=True)\n        (downsample): Sequential(\n          (0): Conv2d(128, 256, kernel_size=(1, 1), stride=(2, 2), bias=False)\n          (1): BatchNorm2d(256, eps=1e-05, momentum=0.1, affine=True, track_running_stats=True)\n        )\n      )\n      (1): BasicBlock(\n        (conv1): Conv2d(256, 256, kernel_size=(3, 3), stride=(1, 1), padding=(1, 1), bias=False)\n        (bn1): BatchNorm2d(256, eps=1e-05, momentum=0.1, affine=True, track_running_stats=True)\n        (relu): ReLU(inplace=True)\n        (conv2): Conv2d(256, 256, kernel_size=(3, 3), stride=(1, 1), padding=(1, 1), bias=False)\n        (bn2): BatchNorm2d(256, eps=1e-05, momentum=0.1, affine=True, track_running_stats=True)\n      )\n    )\n    (layer4): Sequential(\n      (0): BasicBlock(\n        (conv1): Conv2d(256, 512, kernel_size=(3, 3), stride=(2, 2), padding=(1, 1), bias=False)\n        (bn1): BatchNorm2d(512, eps=1e-05, momentum=0.1, affine=True, track_running_stats=True)\n        (relu): ReLU(inplace=True)\n        (conv2): Conv2d(512, 512, kernel_size=(3, 3), stride=(1, 1), padding=(1, 1), bias=False)\n        (bn2): BatchNorm2d(512, eps=1e-05, momentum=0.1, affine=True, track_running_stats=True)\n        (downsample): Sequential(\n          (0): Conv2d(256, 512, kernel_size=(1, 1), stride=(2, 2), bias=False)\n          (1): BatchNorm2d(512, eps=1e-05, momentum=0.1, affine=True, track_running_stats=True)\n        )\n      )\n      (1): BasicBlock(\n        (conv1): Conv2d(512, 512, kernel_size=(3, 3), stride=(1, 1), padding=(1, 1), bias=False)\n        (bn1): BatchNorm2d(512, eps=1e-05, momentum=0.1, affine=True, track_running_stats=True)\n        (relu): ReLU(inplace=True)\n        (conv2): Conv2d(512, 512, kernel_size=(3, 3), stride=(1, 1), padding=(1, 1), bias=False)\n        (bn2): BatchNorm2d(512, eps=1e-05, momentum=0.1, affine=True, track_running_stats=True)\n      )\n    )\n    (avgpool): AdaptiveAvgPool2d(output_size=(1, 1))\n    (fc): Linear(in_features=512, out_features=10, bias=True)\n  )\n  (backbone): ResNet(\n    (conv1): Conv2d(1, 64, kernel_size=(7, 7), stride=(2, 2), padding=(3, 3), bias=False)\n    (bn1): BatchNorm2d(64, eps=1e-05, momentum=0.1, affine=True, track_running_stats=True)\n    (relu): ReLU(inplace=True)\n    (maxpool): MaxPool2d(kernel_size=3, stride=2, padding=1, dilation=1, ceil_mode=False)\n    (layer1): Sequential(\n      (0): BasicBlock(\n        (conv1): Conv2d(64, 64, kernel_size=(3, 3), stride=(1, 1), padding=(1, 1), bias=False)\n        (bn1): BatchNorm2d(64, eps=1e-05, momentum=0.1, affine=True, track_running_stats=True)\n        (relu): ReLU(inplace=True)\n        (conv2): Conv2d(64, 64, kernel_size=(3, 3), stride=(1, 1), padding=(1, 1), bias=False)\n        (bn2): BatchNorm2d(64, eps=1e-05, momentum=0.1, affine=True, track_running_stats=True)\n      )\n      (1): BasicBlock(\n        (conv1): Conv2d(64, 64, kernel_size=(3, 3), stride=(1, 1), padding=(1, 1), bias=False)\n        (bn1): BatchNorm2d(64, eps=1e-05, momentum=0.1, affine=True, track_running_stats=True)\n        (relu): ReLU(inplace=True)\n        (conv2): Conv2d(64, 64, kernel_size=(3, 3), stride=(1, 1), padding=(1, 1), bias=False)\n        (bn2): BatchNorm2d(64, eps=1e-05, momentum=0.1, affine=True, track_running_stats=True)\n      )\n    )\n    (layer2): Sequential(\n      (0): BasicBlock(\n        (conv1): Conv2d(64, 128, kernel_size=(3, 3), stride=(2, 2), padding=(1, 1), bias=False)\n        (bn1): BatchNorm2d(128, eps=1e-05, momentum=0.1, affine=True, track_running_stats=True)\n        (relu): ReLU(inplace=True)\n        (conv2): Conv2d(128, 128, kernel_size=(3, 3), stride=(1, 1), padding=(1, 1), bias=False)\n        (bn2): BatchNorm2d(128, eps=1e-05, momentum=0.1, affine=True, track_running_stats=True)\n        (downsample): Sequential(\n          (0): Conv2d(64, 128, kernel_size=(1, 1), stride=(2, 2), bias=False)\n          (1): BatchNorm2d(128, eps=1e-05, momentum=0.1, affine=True, track_running_stats=True)\n        )\n      )\n      (1): BasicBlock(\n        (conv1): Conv2d(128, 128, kernel_size=(3, 3), stride=(1, 1), padding=(1, 1), bias=False)\n        (bn1): BatchNorm2d(128, eps=1e-05, momentum=0.1, affine=True, track_running_stats=True)\n        (relu): ReLU(inplace=True)\n        (conv2): Conv2d(128, 128, kernel_size=(3, 3), stride=(1, 1), padding=(1, 1), bias=False)\n        (bn2): BatchNorm2d(128, eps=1e-05, momentum=0.1, affine=True, track_running_stats=True)\n      )\n    )\n    (layer3): Sequential(\n      (0): BasicBlock(\n        (conv1): Conv2d(128, 256, kernel_size=(3, 3), stride=(2, 2), padding=(1, 1), bias=False)\n        (bn1): BatchNorm2d(256, eps=1e-05, momentum=0.1, affine=True, track_running_stats=True)\n        (relu): ReLU(inplace=True)\n        (conv2): Conv2d(256, 256, kernel_size=(3, 3), stride=(1, 1), padding=(1, 1), bias=False)\n        (bn2): BatchNorm2d(256, eps=1e-05, momentum=0.1, affine=True, track_running_stats=True)\n        (downsample): Sequential(\n          (0): Conv2d(128, 256, kernel_size=(1, 1), stride=(2, 2), bias=False)\n          (1): BatchNorm2d(256, eps=1e-05, momentum=0.1, affine=True, track_running_stats=True)\n        )\n      )\n      (1): BasicBlock(\n        (conv1): Conv2d(256, 256, kernel_size=(3, 3), stride=(1, 1), padding=(1, 1), bias=False)\n        (bn1): BatchNorm2d(256, eps=1e-05, momentum=0.1, affine=True, track_running_stats=True)\n        (relu): ReLU(inplace=True)\n        (conv2): Conv2d(256, 256, kernel_size=(3, 3), stride=(1, 1), padding=(1, 1), bias=False)\n        (bn2): BatchNorm2d(256, eps=1e-05, momentum=0.1, affine=True, track_running_stats=True)\n      )\n    )\n    (layer4): Sequential(\n      (0): BasicBlock(\n        (conv1): Conv2d(256, 512, kernel_size=(3, 3), stride=(2, 2), padding=(1, 1), bias=False)\n        (bn1): BatchNorm2d(512, eps=1e-05, momentum=0.1, affine=True, track_running_stats=True)\n        (relu): ReLU(inplace=True)\n        (conv2): Conv2d(512, 512, kernel_size=(3, 3), stride=(1, 1), padding=(1, 1), bias=False)\n        (bn2): BatchNorm2d(512, eps=1e-05, momentum=0.1, affine=True, track_running_stats=True)\n        (downsample): Sequential(\n          (0): Conv2d(256, 512, kernel_size=(1, 1), stride=(2, 2), bias=False)\n          (1): BatchNorm2d(512, eps=1e-05, momentum=0.1, affine=True, track_running_stats=True)\n        )\n      )\n      (1): BasicBlock(\n        (conv1): Conv2d(512, 512, kernel_size=(3, 3), stride=(1, 1), padding=(1, 1), bias=False)\n        (bn1): BatchNorm2d(512, eps=1e-05, momentum=0.1, affine=True, track_running_stats=True)\n        (relu): ReLU(inplace=True)\n        (conv2): Conv2d(512, 512, kernel_size=(3, 3), stride=(1, 1), padding=(1, 1), bias=False)\n        (bn2): BatchNorm2d(512, eps=1e-05, momentum=0.1, affine=True, track_running_stats=True)\n      )\n    )\n    (avgpool): AdaptiveAvgPool2d(output_size=(1, 1))\n    (fc): Linear(in_features=512, out_features=10, bias=True)\n  )\n)"
     },
     "execution_count": 11,
     "metadata": {},
     "output_type": "execute_result"
    }
   ],
   "source": [
    "model"
   ],
   "metadata": {
    "collapsed": false
   }
  },
  {
   "cell_type": "code",
   "execution_count": 12,
   "outputs": [],
   "source": [
    "model.backbone.fc = torch.nn.Sequential(\n",
    "    torch.nn.Linear(in_features=512, out_features=128, bias=True),\n",
    "    torch.nn.ReLU(inplace=True),\n",
    "    # torch.nn.BatchNorm1d(128),\n",
    "    torch.nn.Linear(in_features=128, out_features=10, bias=True),\n",
    ")\n"
   ],
   "metadata": {
    "collapsed": false
   }
  },
  {
   "cell_type": "code",
   "execution_count": 13,
   "outputs": [
    {
     "name": "stdout",
     "output_type": "stream",
     "text": [
      "conv1.weight: False\n",
      "bn1.weight: False\n",
      "bn1.bias: False\n",
      "layer1.0.conv1.weight: False\n",
      "layer1.0.bn1.weight: False\n",
      "layer1.0.bn1.bias: False\n",
      "layer1.0.conv2.weight: False\n",
      "layer1.0.bn2.weight: False\n",
      "layer1.0.bn2.bias: False\n",
      "layer1.1.conv1.weight: False\n",
      "layer1.1.bn1.weight: False\n",
      "layer1.1.bn1.bias: False\n",
      "layer1.1.conv2.weight: False\n",
      "layer1.1.bn2.weight: False\n",
      "layer1.1.bn2.bias: False\n",
      "layer2.0.conv1.weight: False\n",
      "layer2.0.bn1.weight: False\n",
      "layer2.0.bn1.bias: False\n",
      "layer2.0.conv2.weight: False\n",
      "layer2.0.bn2.weight: False\n",
      "layer2.0.bn2.bias: False\n",
      "layer2.0.downsample.0.weight: False\n",
      "layer2.0.downsample.1.weight: False\n",
      "layer2.0.downsample.1.bias: False\n",
      "layer2.1.conv1.weight: False\n",
      "layer2.1.bn1.weight: False\n",
      "layer2.1.bn1.bias: False\n",
      "layer2.1.conv2.weight: False\n",
      "layer2.1.bn2.weight: False\n",
      "layer2.1.bn2.bias: False\n",
      "layer3.0.conv1.weight: False\n",
      "layer3.0.bn1.weight: False\n",
      "layer3.0.bn1.bias: False\n",
      "layer3.0.conv2.weight: False\n",
      "layer3.0.bn2.weight: False\n",
      "layer3.0.bn2.bias: False\n",
      "layer3.0.downsample.0.weight: False\n",
      "layer3.0.downsample.1.weight: False\n",
      "layer3.0.downsample.1.bias: False\n",
      "layer3.1.conv1.weight: False\n",
      "layer3.1.bn1.weight: False\n",
      "layer3.1.bn1.bias: False\n",
      "layer3.1.conv2.weight: False\n",
      "layer3.1.bn2.weight: False\n",
      "layer3.1.bn2.bias: False\n",
      "layer4.0.conv1.weight: False\n",
      "layer4.0.bn1.weight: False\n",
      "layer4.0.bn1.bias: False\n",
      "layer4.0.conv2.weight: False\n",
      "layer4.0.bn2.weight: False\n",
      "layer4.0.bn2.bias: False\n",
      "layer4.0.downsample.0.weight: False\n",
      "layer4.0.downsample.1.weight: False\n",
      "layer4.0.downsample.1.bias: False\n",
      "layer4.1.conv1.weight: False\n",
      "layer4.1.bn1.weight: False\n",
      "layer4.1.bn1.bias: False\n",
      "layer4.1.conv2.weight: False\n",
      "layer4.1.bn2.weight: False\n",
      "layer4.1.bn2.bias: False\n",
      "fc.0.weight: True\n",
      "fc.0.bias: True\n",
      "fc.2.weight: True\n",
      "fc.2.bias: True\n"
     ]
    }
   ],
   "source": [
    "model.backbone.requires_grad_(False)\n",
    "model.backbone.fc.requires_grad_(True)\n",
    "\n",
    "for parameter in model.backbone.named_parameters():\n",
    "    print(f'{parameter[0]}: {parameter[1].requires_grad}')\n"
   ],
   "metadata": {
    "collapsed": false
   }
  },
  {
   "cell_type": "code",
   "execution_count": 7,
   "outputs": [
    {
     "name": "stderr",
     "output_type": "stream",
     "text": [
      "  0%|          | 0/234 [00:00<?, ?it/s]D:\\Programy\\DataSpell 2022.2.3\\DataspellProjects\\SimCLRPytorch-main\\venv\\lib\\site-packages\\torch\\optim\\lr_scheduler.py:807: UserWarning: To get the last learning rate computed by the scheduler, please use `get_last_lr()`.\n",
      "  warnings.warn(\"To get the last learning rate computed by the scheduler, \"\n",
      "100%|██████████| 234/234 [01:33<00:00,  2.49it/s]\n",
      "100%|██████████| 234/234 [00:51<00:00,  4.55it/s]\n",
      "100%|██████████| 234/234 [00:51<00:00,  4.52it/s]\n",
      "100%|██████████| 234/234 [00:52<00:00,  4.47it/s]\n",
      "100%|██████████| 234/234 [00:54<00:00,  4.28it/s]\n",
      "100%|██████████| 234/234 [00:53<00:00,  4.39it/s]\n",
      "100%|██████████| 234/234 [00:51<00:00,  4.50it/s]\n",
      "100%|██████████| 234/234 [00:51<00:00,  4.53it/s]\n",
      "100%|██████████| 234/234 [00:52<00:00,  4.45it/s]\n",
      "100%|██████████| 234/234 [00:52<00:00,  4.42it/s]\n",
      "100%|██████████| 234/234 [00:53<00:00,  4.37it/s]\n",
      "100%|██████████| 234/234 [00:52<00:00,  4.43it/s]\n",
      "100%|██████████| 234/234 [00:52<00:00,  4.43it/s]\n",
      "100%|██████████| 234/234 [00:52<00:00,  4.47it/s]\n",
      "100%|██████████| 234/234 [00:55<00:00,  4.19it/s]\n",
      "100%|██████████| 234/234 [01:04<00:00,  3.60it/s]\n",
      "100%|██████████| 234/234 [01:04<00:00,  3.61it/s]\n",
      "100%|██████████| 234/234 [01:04<00:00,  3.65it/s]\n",
      "100%|██████████| 234/234 [01:03<00:00,  3.66it/s]\n",
      "100%|██████████| 234/234 [01:04<00:00,  3.63it/s]\n",
      "100%|██████████| 234/234 [01:05<00:00,  3.58it/s]\n",
      "100%|██████████| 234/234 [01:04<00:00,  3.64it/s]\n",
      "100%|██████████| 234/234 [01:05<00:00,  3.57it/s]\n",
      "100%|██████████| 234/234 [01:05<00:00,  3.55it/s]\n",
      "100%|██████████| 234/234 [01:05<00:00,  3.56it/s]\n",
      "100%|██████████| 234/234 [01:05<00:00,  3.58it/s]\n",
      "100%|██████████| 234/234 [01:07<00:00,  3.46it/s]\n",
      "100%|██████████| 234/234 [01:06<00:00,  3.54it/s]\n",
      "100%|██████████| 234/234 [01:05<00:00,  3.56it/s]\n",
      "100%|██████████| 234/234 [01:07<00:00,  3.48it/s]\n",
      "100%|██████████| 234/234 [01:06<00:00,  3.53it/s]\n",
      "100%|██████████| 234/234 [01:06<00:00,  3.50it/s]\n",
      "100%|██████████| 234/234 [01:08<00:00,  3.40it/s]\n",
      "100%|██████████| 234/234 [01:06<00:00,  3.49it/s]\n",
      "100%|██████████| 234/234 [01:07<00:00,  3.48it/s]\n",
      "100%|██████████| 234/234 [01:08<00:00,  3.42it/s]\n",
      "100%|██████████| 234/234 [01:08<00:00,  3.41it/s]\n",
      "100%|██████████| 234/234 [01:06<00:00,  3.51it/s]\n",
      "100%|██████████| 234/234 [01:11<00:00,  3.26it/s]\n",
      "100%|██████████| 234/234 [01:09<00:00,  3.36it/s]\n",
      "100%|██████████| 234/234 [01:21<00:00,  2.87it/s]\n",
      "100%|██████████| 234/234 [01:06<00:00,  3.51it/s]\n",
      "100%|██████████| 234/234 [01:08<00:00,  3.44it/s]\n",
      "100%|██████████| 234/234 [01:07<00:00,  3.47it/s]\n",
      "100%|██████████| 234/234 [01:08<00:00,  3.43it/s]\n",
      "100%|██████████| 234/234 [01:07<00:00,  3.46it/s]\n",
      "100%|██████████| 234/234 [01:08<00:00,  3.42it/s]\n",
      "100%|██████████| 234/234 [01:08<00:00,  3.39it/s]\n",
      "100%|██████████| 234/234 [01:07<00:00,  3.45it/s]\n",
      "100%|██████████| 234/234 [01:07<00:00,  3.46it/s]\n",
      "100%|██████████| 234/234 [01:07<00:00,  3.45it/s]\n",
      "100%|██████████| 234/234 [01:07<00:00,  3.46it/s]\n",
      "100%|██████████| 234/234 [01:09<00:00,  3.38it/s]\n",
      "100%|██████████| 234/234 [01:07<00:00,  3.44it/s]\n",
      "100%|██████████| 234/234 [01:07<00:00,  3.48it/s]\n",
      "100%|██████████| 234/234 [01:09<00:00,  3.39it/s]\n",
      "100%|██████████| 234/234 [01:07<00:00,  3.44it/s]\n",
      "100%|██████████| 234/234 [01:08<00:00,  3.43it/s]\n",
      "100%|██████████| 234/234 [01:09<00:00,  3.37it/s]\n",
      "100%|██████████| 234/234 [01:09<00:00,  3.36it/s]\n",
      "100%|██████████| 234/234 [01:08<00:00,  3.43it/s]\n",
      "100%|██████████| 234/234 [01:08<00:00,  3.42it/s]\n",
      "100%|██████████| 234/234 [01:08<00:00,  3.43it/s]\n",
      "100%|██████████| 234/234 [01:09<00:00,  3.38it/s]\n",
      "100%|██████████| 234/234 [01:08<00:00,  3.41it/s]\n",
      "100%|██████████| 234/234 [01:09<00:00,  3.37it/s]\n",
      "100%|██████████| 234/234 [01:08<00:00,  3.40it/s]\n",
      "100%|██████████| 234/234 [01:08<00:00,  3.40it/s]\n",
      "100%|██████████| 234/234 [01:08<00:00,  3.40it/s]\n",
      "100%|██████████| 234/234 [01:07<00:00,  3.46it/s]\n",
      "100%|██████████| 234/234 [01:09<00:00,  3.38it/s]\n",
      "100%|██████████| 234/234 [01:08<00:00,  3.40it/s]\n",
      "100%|██████████| 234/234 [01:08<00:00,  3.42it/s]\n",
      "100%|██████████| 234/234 [01:08<00:00,  3.42it/s]\n",
      "100%|██████████| 234/234 [01:07<00:00,  3.46it/s]\n",
      "100%|██████████| 234/234 [01:08<00:00,  3.41it/s]\n",
      "100%|██████████| 234/234 [01:07<00:00,  3.45it/s]\n",
      "100%|██████████| 234/234 [01:09<00:00,  3.39it/s]\n",
      "100%|██████████| 234/234 [01:11<00:00,  3.28it/s]\n",
      "100%|██████████| 234/234 [01:07<00:00,  3.47it/s]\n",
      "100%|██████████| 234/234 [01:07<00:00,  3.45it/s]\n",
      "100%|██████████| 234/234 [01:06<00:00,  3.50it/s]\n",
      "100%|██████████| 234/234 [01:07<00:00,  3.46it/s]\n",
      "100%|██████████| 234/234 [01:06<00:00,  3.51it/s]\n",
      "100%|██████████| 234/234 [01:07<00:00,  3.48it/s]\n",
      "100%|██████████| 234/234 [01:07<00:00,  3.47it/s]\n",
      "100%|██████████| 234/234 [01:06<00:00,  3.49it/s]\n",
      "100%|██████████| 234/234 [01:06<00:00,  3.51it/s]\n",
      "100%|██████████| 234/234 [01:09<00:00,  3.39it/s]\n",
      "100%|██████████| 234/234 [01:08<00:00,  3.43it/s]\n",
      "100%|██████████| 234/234 [01:07<00:00,  3.46it/s]\n",
      "100%|██████████| 234/234 [01:07<00:00,  3.46it/s]\n",
      "100%|██████████| 234/234 [01:07<00:00,  3.45it/s]\n",
      "100%|██████████| 234/234 [01:07<00:00,  3.47it/s]\n",
      "100%|██████████| 234/234 [01:08<00:00,  3.40it/s]\n",
      "100%|██████████| 234/234 [01:08<00:00,  3.43it/s]\n",
      "100%|██████████| 234/234 [01:07<00:00,  3.47it/s]\n",
      "100%|██████████| 234/234 [01:08<00:00,  3.40it/s]\n",
      "100%|██████████| 234/234 [01:07<00:00,  3.47it/s]\n",
      "100%|██████████| 234/234 [01:08<00:00,  3.42it/s]\n",
      "100%|██████████| 234/234 [01:07<00:00,  3.45it/s]\n",
      "100%|██████████| 234/234 [01:07<00:00,  3.48it/s]\n",
      "100%|██████████| 234/234 [01:07<00:00,  3.46it/s]\n",
      "100%|██████████| 234/234 [01:08<00:00,  3.43it/s]\n",
      "100%|██████████| 234/234 [01:07<00:00,  3.47it/s]\n",
      "100%|██████████| 234/234 [01:08<00:00,  3.40it/s]\n",
      "100%|██████████| 234/234 [01:07<00:00,  3.45it/s]\n",
      "100%|██████████| 234/234 [01:08<00:00,  3.43it/s]\n",
      "100%|██████████| 234/234 [01:08<00:00,  3.42it/s]\n",
      "100%|██████████| 234/234 [01:07<00:00,  3.48it/s]\n",
      "100%|██████████| 234/234 [01:08<00:00,  3.41it/s]\n",
      "100%|██████████| 234/234 [01:07<00:00,  3.44it/s]\n",
      "100%|██████████| 234/234 [01:09<00:00,  3.36it/s]\n",
      "100%|██████████| 234/234 [01:07<00:00,  3.45it/s]\n",
      "100%|██████████| 234/234 [01:08<00:00,  3.43it/s]\n",
      "100%|██████████| 234/234 [01:08<00:00,  3.42it/s]\n",
      "100%|██████████| 234/234 [01:07<00:00,  3.45it/s]\n",
      "100%|██████████| 234/234 [01:08<00:00,  3.40it/s]\n",
      "100%|██████████| 234/234 [01:08<00:00,  3.40it/s]\n",
      "100%|██████████| 234/234 [01:08<00:00,  3.44it/s]\n",
      "100%|██████████| 234/234 [01:08<00:00,  3.40it/s]\n",
      "100%|██████████| 234/234 [01:08<00:00,  3.40it/s]\n",
      "100%|██████████| 234/234 [01:08<00:00,  3.42it/s]\n",
      "100%|██████████| 234/234 [01:08<00:00,  3.40it/s]\n",
      "100%|██████████| 234/234 [01:08<00:00,  3.44it/s]\n",
      "100%|██████████| 234/234 [01:08<00:00,  3.40it/s]\n",
      "100%|██████████| 234/234 [01:07<00:00,  3.48it/s]\n",
      "100%|██████████| 234/234 [01:08<00:00,  3.41it/s]\n",
      "100%|██████████| 234/234 [01:08<00:00,  3.44it/s]\n",
      "100%|██████████| 234/234 [01:08<00:00,  3.41it/s]\n",
      "100%|██████████| 234/234 [01:08<00:00,  3.44it/s]\n",
      "100%|██████████| 234/234 [01:09<00:00,  3.38it/s]\n",
      "100%|██████████| 234/234 [01:08<00:00,  3.43it/s]\n",
      "100%|██████████| 234/234 [01:07<00:00,  3.46it/s]\n",
      "100%|██████████| 234/234 [01:07<00:00,  3.47it/s]\n",
      "100%|██████████| 234/234 [01:07<00:00,  3.45it/s]\n",
      "100%|██████████| 234/234 [01:07<00:00,  3.48it/s]\n",
      "100%|██████████| 234/234 [01:08<00:00,  3.42it/s]\n",
      "100%|██████████| 234/234 [01:07<00:00,  3.46it/s]\n",
      "100%|██████████| 234/234 [01:08<00:00,  3.43it/s]\n",
      "100%|██████████| 234/234 [01:07<00:00,  3.49it/s]\n",
      "100%|██████████| 234/234 [01:07<00:00,  3.46it/s]\n",
      "100%|██████████| 234/234 [01:06<00:00,  3.51it/s]\n",
      "100%|██████████| 234/234 [01:06<00:00,  3.50it/s]\n",
      "100%|██████████| 234/234 [01:07<00:00,  3.47it/s]\n",
      "100%|██████████| 234/234 [01:07<00:00,  3.45it/s]\n",
      "100%|██████████| 234/234 [01:07<00:00,  3.47it/s]\n",
      "100%|██████████| 234/234 [01:07<00:00,  3.45it/s]\n",
      "100%|██████████| 234/234 [01:07<00:00,  3.49it/s]\n",
      "100%|██████████| 234/234 [01:07<00:00,  3.46it/s]\n",
      "100%|██████████| 234/234 [01:08<00:00,  3.43it/s]\n",
      "100%|██████████| 234/234 [01:06<00:00,  3.52it/s]\n",
      "100%|██████████| 234/234 [01:08<00:00,  3.42it/s]\n",
      "100%|██████████| 234/234 [01:07<00:00,  3.47it/s]\n",
      "100%|██████████| 234/234 [01:07<00:00,  3.48it/s]\n",
      "100%|██████████| 234/234 [01:07<00:00,  3.46it/s]\n",
      "100%|██████████| 234/234 [01:07<00:00,  3.45it/s]\n",
      "100%|██████████| 234/234 [01:07<00:00,  3.48it/s]\n",
      "100%|██████████| 234/234 [01:08<00:00,  3.44it/s]\n",
      "100%|██████████| 234/234 [01:07<00:00,  3.49it/s]\n",
      "100%|██████████| 234/234 [01:06<00:00,  3.49it/s]\n",
      "100%|██████████| 234/234 [01:08<00:00,  3.42it/s]\n",
      "100%|██████████| 234/234 [01:07<00:00,  3.48it/s]\n",
      "100%|██████████| 234/234 [01:07<00:00,  3.45it/s]\n",
      "100%|██████████| 234/234 [01:08<00:00,  3.44it/s]\n",
      "100%|██████████| 234/234 [01:08<00:00,  3.42it/s]\n",
      "100%|██████████| 234/234 [01:07<00:00,  3.48it/s]\n",
      "100%|██████████| 234/234 [01:07<00:00,  3.48it/s]\n",
      "100%|██████████| 234/234 [01:07<00:00,  3.48it/s]\n",
      "100%|██████████| 234/234 [01:07<00:00,  3.47it/s]\n",
      "100%|██████████| 234/234 [01:07<00:00,  3.49it/s]\n",
      "100%|██████████| 234/234 [01:07<00:00,  3.48it/s]\n",
      "100%|██████████| 234/234 [01:07<00:00,  3.47it/s]\n",
      "100%|██████████| 234/234 [01:07<00:00,  3.45it/s]\n",
      "100%|██████████| 234/234 [01:08<00:00,  3.39it/s]\n",
      "100%|██████████| 234/234 [01:07<00:00,  3.48it/s]\n",
      "100%|██████████| 234/234 [01:07<00:00,  3.46it/s]\n",
      "100%|██████████| 234/234 [01:07<00:00,  3.48it/s]\n",
      "100%|██████████| 234/234 [01:07<00:00,  3.47it/s]\n",
      "100%|██████████| 234/234 [01:07<00:00,  3.47it/s]\n",
      "100%|██████████| 234/234 [01:06<00:00,  3.50it/s]\n",
      "100%|██████████| 234/234 [01:07<00:00,  3.48it/s]\n",
      "100%|██████████| 234/234 [01:07<00:00,  3.47it/s]\n",
      "100%|██████████| 234/234 [01:06<00:00,  3.50it/s]\n",
      "100%|██████████| 234/234 [01:06<00:00,  3.50it/s]\n",
      "100%|██████████| 234/234 [01:06<00:00,  3.49it/s]\n",
      "100%|██████████| 234/234 [01:06<00:00,  3.50it/s]\n",
      "100%|██████████| 234/234 [01:07<00:00,  3.47it/s]\n",
      "100%|██████████| 234/234 [01:06<00:00,  3.50it/s]\n",
      "100%|██████████| 234/234 [01:07<00:00,  3.48it/s]\n",
      "100%|██████████| 234/234 [01:06<00:00,  3.51it/s]\n",
      "100%|██████████| 234/234 [01:08<00:00,  3.44it/s]\n",
      "100%|██████████| 234/234 [01:07<00:00,  3.49it/s]\n",
      "100%|██████████| 234/234 [01:06<00:00,  3.53it/s]\n",
      "100%|██████████| 234/234 [01:08<00:00,  3.42it/s]\n",
      "100%|██████████| 234/234 [01:07<00:00,  3.49it/s]\n",
      "100%|██████████| 234/234 [01:06<00:00,  3.50it/s]\n",
      "100%|██████████| 234/234 [01:06<00:00,  3.53it/s]\n",
      "100%|██████████| 234/234 [01:08<00:00,  3.43it/s]\n",
      "100%|██████████| 234/234 [01:06<00:00,  3.53it/s]\n"
     ]
    }
   ],
   "source": [
    "optimizer = torch.optim.Adam(model.parameters(), 0.0003, weight_decay=1e-4)\n",
    "\n",
    "scheduler = torch.optim.lr_scheduler.CosineAnnealingLR(optimizer, T_max=len(train_loader_1), eta_min=0,\n",
    "                                                       last_epoch=-1)\n",
    "\n",
    "with torch.cuda.device(gpu_index):\n",
    "    simclr = PreTrainer(model=model, optimizer=optimizer, scheduler=scheduler, device=device, epochs=200, log_every_n_steps=100)\n",
    "    simclr.train(train_loader_1, shuffle=True)\n"
   ],
   "metadata": {
    "collapsed": false
   }
  },
  {
   "cell_type": "code",
   "execution_count": 14,
   "outputs": [],
   "source": [
    "head_dataset = datasets.MNIST('./datasets', download=True, train=False, transform=transforms.ToTensor()) #update of names to more suitable\n",
    "head_loader = torch.utils.data.DataLoader(head_dataset, batch_size=256, shuffle=True, pin_memory=True, drop_last=True, generator=g)"
   ],
   "metadata": {
    "collapsed": false
   }
  },
  {
   "cell_type": "code",
   "execution_count": 16,
   "outputs": [],
   "source": [
    "optimizer = torch.optim.Adam(model.parameters(), 0.0003, weight_decay=1e-4)\n",
    "\n",
    "scheduler = torch.optim.lr_scheduler.CosineAnnealingLR(optimizer, T_max=len(train_loader_1), eta_min=0,\n",
    "                                                       last_epoch=-1)"
   ],
   "metadata": {
    "collapsed": false
   }
  },
  {
   "cell_type": "code",
   "execution_count": null,
   "outputs": [],
   "source": [
    "train_size = int(0.8 * len(head_dataset))\n",
    "test_size = len(head_dataset) - train_size\n",
    "train_dataset, test_dataset = torch.utils.data.random_split(head_dataset, [train_size, test_size])\n",
    "trainer = HeadTrainer(train_dataset, test_dataset, batch_size=256)\n",
    "history = trainer.train(model, optimizer, n_epochs=200)\n",
    "show_results(model=history)"
   ],
   "metadata": {
    "collapsed": false,
    "pycharm": {
     "is_executing": true
    }
   }
  },
  {
   "cell_type": "code",
   "execution_count": null,
   "outputs": [],
   "source": [],
   "metadata": {
    "collapsed": false
   }
  },
  {
   "cell_type": "code",
   "execution_count": 38,
   "outputs": [
    {
     "name": "stderr",
     "output_type": "stream",
     "text": [
      " 10%|█         | 4/39 [00:00<00:03, 11.32it/s]"
     ]
    },
    {
     "name": "stdout",
     "output_type": "stream",
     "text": [
      "tensor([32.0312], device='cuda:0')\n",
      "tensor([40.2344], device='cuda:0')\n",
      "tensor([37.5000], device='cuda:0')\n",
      "tensor([37.1094], device='cuda:0')\n",
      "tensor([38.6719], device='cuda:0')\n",
      "tensor([35.1562], device='cuda:0')\n"
     ]
    },
    {
     "name": "stderr",
     "output_type": "stream",
     "text": [
      " 26%|██▌       | 10/39 [00:00<00:01, 17.73it/s]"
     ]
    },
    {
     "name": "stdout",
     "output_type": "stream",
     "text": [
      "tensor([32.0312], device='cuda:0')\n",
      "tensor([35.5469], device='cuda:0')\n",
      "tensor([37.5000], device='cuda:0')\n",
      "tensor([36.7188], device='cuda:0')\n",
      "tensor([37.1094], device='cuda:0')\n"
     ]
    },
    {
     "name": "stderr",
     "output_type": "stream",
     "text": [
      " 33%|███▎      | 13/39 [00:00<00:01, 19.17it/s]"
     ]
    },
    {
     "name": "stdout",
     "output_type": "stream",
     "text": [
      "tensor([35.1562], device='cuda:0')\n",
      "tensor([38.6719], device='cuda:0')\n",
      "tensor([33.5938], device='cuda:0')\n",
      "tensor([34.3750], device='cuda:0')\n",
      "tensor([38.2812], device='cuda:0')\n"
     ]
    },
    {
     "name": "stderr",
     "output_type": "stream",
     "text": [
      " 49%|████▊     | 19/39 [00:01<00:00, 20.99it/s]"
     ]
    },
    {
     "name": "stdout",
     "output_type": "stream",
     "text": [
      "tensor([36.3281], device='cuda:0')\n",
      "tensor([40.2344], device='cuda:0')\n",
      "tensor([37.5000], device='cuda:0')\n",
      "tensor([31.6406], device='cuda:0')\n",
      "tensor([38.6719], device='cuda:0')\n"
     ]
    },
    {
     "name": "stderr",
     "output_type": "stream",
     "text": [
      " 64%|██████▍   | 25/39 [00:01<00:00, 21.99it/s]"
     ]
    },
    {
     "name": "stdout",
     "output_type": "stream",
     "text": [
      "tensor([33.5938], device='cuda:0')\n",
      "tensor([32.0312], device='cuda:0')\n",
      "tensor([35.1562], device='cuda:0')\n",
      "tensor([36.7188], device='cuda:0')\n",
      "tensor([34.3750], device='cuda:0')\n"
     ]
    },
    {
     "name": "stderr",
     "output_type": "stream",
     "text": [
      " 79%|███████▉  | 31/39 [00:01<00:00, 22.29it/s]"
     ]
    },
    {
     "name": "stdout",
     "output_type": "stream",
     "text": [
      "tensor([35.1562], device='cuda:0')\n",
      "tensor([32.4219], device='cuda:0')\n",
      "tensor([38.2812], device='cuda:0')\n",
      "tensor([36.7188], device='cuda:0')\n",
      "tensor([35.5469], device='cuda:0')\n"
     ]
    },
    {
     "name": "stderr",
     "output_type": "stream",
     "text": [
      " 87%|████████▋ | 34/39 [00:01<00:00, 22.57it/s]"
     ]
    },
    {
     "name": "stdout",
     "output_type": "stream",
     "text": [
      "tensor([33.2031], device='cuda:0')\n",
      "tensor([35.5469], device='cuda:0')\n",
      "tensor([33.2031], device='cuda:0')\n",
      "tensor([41.0156], device='cuda:0')\n",
      "tensor([33.9844], device='cuda:0')\n",
      "tensor([29.6875], device='cuda:0')\n"
     ]
    },
    {
     "name": "stderr",
     "output_type": "stream",
     "text": [
      "100%|██████████| 39/39 [00:01<00:00, 20.01it/s]"
     ]
    },
    {
     "name": "stdout",
     "output_type": "stream",
     "text": [
      "tensor([39.0625], device='cuda:0')\n",
      "tensor([33.9844], device='cuda:0')\n"
     ]
    },
    {
     "name": "stderr",
     "output_type": "stream",
     "text": [
      "\n"
     ]
    }
   ],
   "source": [
    "import logging\n",
    "from torch.utils.tensorboard import SummaryWriter\n",
    "import os\n",
    "from model.model import accuracy\n",
    "from tqdm import tqdm\n",
    "\n",
    "total = 0\n",
    "running_accuracy = 0\n",
    "n_iter = 0\n",
    "writer = SummaryWriter()\n",
    "logging.basicConfig(filename=os.path.join(writer.log_dir, 'training.log'), level=logging.DEBUG)\n",
    "criterion = torch.nn.CrossEntropyLoss().to(device)\n",
    "\n",
    "with torch.no_grad():\n",
    "    for images, labels in tqdm(head_loader):\n",
    "        images = torch.cat((images, images), dim=0)\n",
    "        labels = torch.cat((labels, labels), dim=0)\n",
    "\n",
    "        images = images.to(device)\n",
    "        labels = labels.to(device)\n",
    "        output = model(images)\n",
    "        loss = criterion(output, labels)\n",
    "        top1, top5 = accuracy(output, labels, topk=(1, 5))\n",
    "        writer.add_scalar('loss', loss, global_step=n_iter)\n",
    "        writer.add_scalar('acc/top1', top1[0], global_step=n_iter)\n",
    "        writer.add_scalar('acc/top5', top5[0], global_step=n_iter)\n",
    "        n_iter += 1\n",
    "        print(top1)"
   ],
   "metadata": {
    "collapsed": false
   }
  },
  {
   "cell_type": "code",
   "execution_count": null,
   "outputs": [],
   "source": [
    "torch.save(model.state_dict(), 'saved_models/model_ultimate_MNIST1s.pth')"
   ],
   "metadata": {
    "collapsed": false
   }
  },
  {
   "cell_type": "code",
   "execution_count": null,
   "outputs": [],
   "source": [
    "optimizer = torch.optim.Adam(model.parameters(), 0.0003, weight_decay=1e-4)\n",
    "\n",
    "scheduler = torch.optim.lr_scheduler.CosineAnnealingLR(optimizer, T_max=len(train_loader_2), eta_min=0,\n",
    "                                                       last_epoch=-1)\n",
    "with torch.cuda.device(gpu_index):\\\n",
    "    simclr = PreTrainer(model=model, optimizer=optimizer, scheduler=scheduler, device=device, epochs=200, log_every_n_steps=100)\n",
    "    simclr.train(train_loader_2, shuffle=False)\n"
   ],
   "metadata": {
    "collapsed": false
   }
  }
 ],
 "metadata": {
  "kernelspec": {
   "display_name": "Python 3",
   "language": "python",
   "name": "python3"
  },
  "language_info": {
   "codemirror_mode": {
    "name": "ipython",
    "version": 2
   },
   "file_extension": ".py",
   "mimetype": "text/x-python",
   "name": "python",
   "nbconvert_exporter": "python",
   "pygments_lexer": "ipython2",
   "version": "2.7.6"
  }
 },
 "nbformat": 4,
 "nbformat_minor": 0
}
