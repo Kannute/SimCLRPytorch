{
 "cells": [
  {
   "cell_type": "code",
   "execution_count": 6,
   "metadata": {
    "collapsed": true
   },
   "outputs": [],
   "source": [
    "from model.model import ConvModel, SimCLR\n",
    "import argparse\n",
    "import torch\n",
    "import torch.backends.cudnn as cudnn\n",
    "from torchvision import models\n",
    "from torchvision import transforms, datasets\n"
   ]
  },
  {
   "cell_type": "code",
   "execution_count": 7,
   "outputs": [],
   "source": [
    "if torch.cuda.is_available():\n",
    "    device = torch.device('cuda')\n",
    "    cudnn.deterministic = True\n",
    "    cudnn.benchmark = True\n",
    "    gpu_index = 0\n",
    "else:\n",
    "    device = torch.device('cpu')\n",
    "    gpu_index = -1\n"
   ],
   "metadata": {
    "collapsed": false
   }
  },
  {
   "cell_type": "code",
   "execution_count": 8,
   "outputs": [],
   "source": [
    "composed_transforms = transforms.Compose([\n",
    "        transforms.GaussianBlur(kernel_size=3),\n",
    "      transforms.RandomRotation(degrees=10), # TODO\n",
    "      transforms.RandomGrayscale(p=0.2),\n",
    "      transforms.ToTensor()])"
   ],
   "metadata": {
    "collapsed": false
   }
  },
  {
   "cell_type": "code",
   "execution_count": 10,
   "outputs": [
    {
     "data": {
      "text/plain": "<torch._C.Generator at 0x1b934d8bb30>"
     },
     "execution_count": 10,
     "metadata": {},
     "output_type": "execute_result"
    }
   ],
   "source": [
    "train_dataset = datasets.MNIST('./datasets', train=True,\n",
    "                               transform=composed_transforms,\n",
    "                               download=True)\n",
    "val_dataset = datasets.MNIST('./datasets', download=True, transform=transforms.ToTensor())\n",
    "g = torch.Generator()\n",
    "g.manual_seed(0)"
   ],
   "metadata": {
    "collapsed": false
   }
  },
  {
   "cell_type": "code",
   "execution_count": 11,
   "outputs": [],
   "source": [
    "train_loader = torch.utils.data.DataLoader(\n",
    "    train_dataset, batch_size=256, shuffle=False,\n",
    "     pin_memory=True, drop_last=True, generator=g)\n",
    "val_loader = torch.utils.data.DataLoader(val_dataset, batch_size=256, shuffle=False)"
   ],
   "metadata": {
    "collapsed": false
   }
  },
  {
   "cell_type": "code",
   "execution_count": 12,
   "outputs": [
    {
     "name": "stderr",
     "output_type": "stream",
     "text": [
      "D:\\Programy\\DataSpell 2022.2.3\\DataspellProjects\\SimCLRPytorch-main\\venv\\lib\\site-packages\\torchvision\\models\\_utils.py:208: UserWarning: The parameter 'pretrained' is deprecated since 0.13 and may be removed in the future, please use 'weights' instead.\n",
      "  warnings.warn(\n",
      "D:\\Programy\\DataSpell 2022.2.3\\DataspellProjects\\SimCLRPytorch-main\\venv\\lib\\site-packages\\torchvision\\models\\_utils.py:223: UserWarning: Arguments other than a weight enum or `None` for 'weights' are deprecated since 0.13 and may be removed in the future. The current behavior is equivalent to passing `weights=None`.\n",
      "  warnings.warn(msg)\n"
     ]
    }
   ],
   "source": [
    "model = ConvModel(out_dim=10)\n",
    "\n",
    "# model.load_state_dict(torch.load('saved_models/model_01_no_aug_random_labels.pth'))\n"
   ],
   "metadata": {
    "collapsed": false
   }
  },
  {
   "cell_type": "code",
   "execution_count": 8,
   "outputs": [
    {
     "name": "stderr",
     "output_type": "stream",
     "text": [
      "  0%|          | 0/234 [00:00<?, ?it/s]D:\\Programy\\DataSpell 2022.2.3\\DataspellProjects\\SimCLRPytorch-main\\venv\\lib\\site-packages\\torch\\optim\\lr_scheduler.py:807: UserWarning: To get the last learning rate computed by the scheduler, please use `get_last_lr()`.\n",
      "  warnings.warn(\"To get the last learning rate computed by the scheduler, \"\n",
      "100%|██████████| 234/234 [01:28<00:00,  2.65it/s]\n",
      "100%|██████████| 234/234 [00:48<00:00,  4.81it/s]\n",
      "100%|██████████| 234/234 [00:49<00:00,  4.72it/s]\n",
      "100%|██████████| 234/234 [00:52<00:00,  4.42it/s]\n",
      "100%|██████████| 234/234 [00:54<00:00,  4.26it/s]\n",
      "100%|██████████| 234/234 [00:53<00:00,  4.38it/s]\n",
      "100%|██████████| 234/234 [00:53<00:00,  4.40it/s]\n",
      "100%|██████████| 234/234 [00:54<00:00,  4.32it/s]\n",
      "100%|██████████| 234/234 [00:52<00:00,  4.43it/s]\n",
      "100%|██████████| 234/234 [00:54<00:00,  4.28it/s]\n",
      "100%|██████████| 234/234 [00:53<00:00,  4.38it/s]\n",
      "100%|██████████| 234/234 [00:52<00:00,  4.42it/s]\n",
      "100%|██████████| 234/234 [00:53<00:00,  4.36it/s]\n",
      "100%|██████████| 234/234 [00:52<00:00,  4.43it/s]\n",
      "100%|██████████| 234/234 [00:53<00:00,  4.39it/s]\n",
      "100%|██████████| 234/234 [00:52<00:00,  4.50it/s]\n",
      "100%|██████████| 234/234 [00:52<00:00,  4.45it/s]\n",
      "100%|██████████| 234/234 [00:53<00:00,  4.38it/s]\n",
      "100%|██████████| 234/234 [00:56<00:00,  4.12it/s]\n",
      "100%|██████████| 234/234 [01:12<00:00,  3.21it/s]\n",
      "100%|██████████| 234/234 [01:00<00:00,  3.85it/s]\n",
      "100%|██████████| 234/234 [00:51<00:00,  4.54it/s]\n",
      "100%|██████████| 234/234 [00:52<00:00,  4.48it/s]\n",
      "100%|██████████| 234/234 [00:55<00:00,  4.20it/s]\n",
      "100%|██████████| 234/234 [00:54<00:00,  4.27it/s]\n",
      "100%|██████████| 234/234 [00:52<00:00,  4.45it/s]\n",
      "100%|██████████| 234/234 [00:52<00:00,  4.46it/s]\n",
      "100%|██████████| 234/234 [01:03<00:00,  3.71it/s]\n",
      "100%|██████████| 234/234 [01:06<00:00,  3.54it/s]\n",
      "100%|██████████| 234/234 [01:56<00:00,  2.01it/s]\n",
      "100%|██████████| 234/234 [02:10<00:00,  1.79it/s]\n",
      "100%|██████████| 234/234 [02:34<00:00,  1.51it/s]\n",
      "100%|██████████| 234/234 [02:39<00:00,  1.47it/s]\n",
      "100%|██████████| 234/234 [02:41<00:00,  1.45it/s]\n",
      "100%|██████████| 234/234 [02:47<00:00,  1.40it/s]\n",
      "100%|██████████| 234/234 [01:54<00:00,  2.05it/s]\n",
      "100%|██████████| 234/234 [01:14<00:00,  3.15it/s]\n",
      "100%|██████████| 234/234 [00:57<00:00,  4.03it/s]\n",
      "100%|██████████| 234/234 [00:57<00:00,  4.09it/s]\n",
      "100%|██████████| 234/234 [00:54<00:00,  4.33it/s]\n",
      "100%|██████████| 234/234 [00:51<00:00,  4.51it/s]\n",
      "100%|██████████| 234/234 [00:57<00:00,  4.04it/s]\n",
      "100%|██████████| 234/234 [00:55<00:00,  4.25it/s]\n",
      "100%|██████████| 234/234 [00:52<00:00,  4.44it/s]\n",
      "100%|██████████| 234/234 [01:04<00:00,  3.62it/s]\n",
      "100%|██████████| 234/234 [01:14<00:00,  3.12it/s]\n",
      "100%|██████████| 234/234 [01:34<00:00,  2.47it/s]\n",
      "100%|██████████| 234/234 [01:37<00:00,  2.40it/s]\n",
      "100%|██████████| 234/234 [01:38<00:00,  2.38it/s]\n",
      "100%|██████████| 234/234 [01:42<00:00,  2.28it/s]\n",
      "100%|██████████| 234/234 [01:45<00:00,  2.22it/s]\n",
      "100%|██████████| 234/234 [01:42<00:00,  2.27it/s]\n",
      "100%|██████████| 234/234 [01:41<00:00,  2.31it/s]\n",
      "100%|██████████| 234/234 [01:39<00:00,  2.36it/s]\n",
      "100%|██████████| 234/234 [01:41<00:00,  2.32it/s]\n",
      "100%|██████████| 234/234 [02:35<00:00,  1.50it/s]\n",
      "100%|██████████| 234/234 [01:48<00:00,  2.17it/s]\n",
      "100%|██████████| 234/234 [01:39<00:00,  2.36it/s]\n",
      "100%|██████████| 234/234 [01:30<00:00,  2.58it/s]\n",
      "100%|██████████| 234/234 [01:16<00:00,  3.06it/s]\n",
      "100%|██████████| 234/234 [00:59<00:00,  3.95it/s]\n",
      "100%|██████████| 234/234 [01:03<00:00,  3.69it/s]\n",
      "100%|██████████| 234/234 [01:14<00:00,  3.12it/s]\n",
      "100%|██████████| 234/234 [00:57<00:00,  4.03it/s]\n",
      "100%|██████████| 234/234 [00:55<00:00,  4.23it/s]\n",
      "100%|██████████| 234/234 [00:54<00:00,  4.32it/s]\n",
      "100%|██████████| 234/234 [00:55<00:00,  4.22it/s]\n",
      "100%|██████████| 234/234 [00:56<00:00,  4.15it/s]\n",
      "100%|██████████| 234/234 [00:54<00:00,  4.31it/s]\n",
      "100%|██████████| 234/234 [00:53<00:00,  4.38it/s]\n",
      "100%|██████████| 234/234 [00:54<00:00,  4.26it/s]\n",
      "100%|██████████| 234/234 [00:53<00:00,  4.36it/s]\n",
      "100%|██████████| 234/234 [00:54<00:00,  4.32it/s]\n",
      "100%|██████████| 234/234 [00:54<00:00,  4.26it/s]\n",
      "100%|██████████| 234/234 [00:55<00:00,  4.22it/s]\n",
      "100%|██████████| 234/234 [00:56<00:00,  4.15it/s]\n",
      "100%|██████████| 234/234 [00:55<00:00,  4.20it/s]\n",
      "100%|██████████| 234/234 [00:55<00:00,  4.22it/s]\n",
      "100%|██████████| 234/234 [00:55<00:00,  4.19it/s]\n",
      "100%|██████████| 234/234 [00:57<00:00,  4.08it/s]\n",
      "100%|██████████| 234/234 [00:56<00:00,  4.14it/s]\n",
      "100%|██████████| 234/234 [00:55<00:00,  4.21it/s]\n",
      "100%|██████████| 234/234 [00:56<00:00,  4.13it/s]\n",
      "100%|██████████| 234/234 [00:56<00:00,  4.15it/s]\n",
      "100%|██████████| 234/234 [00:55<00:00,  4.22it/s]\n",
      "100%|██████████| 234/234 [00:56<00:00,  4.15it/s]\n",
      "100%|██████████| 234/234 [00:55<00:00,  4.19it/s]\n",
      "100%|██████████| 234/234 [00:57<00:00,  4.10it/s]\n",
      "100%|██████████| 234/234 [00:57<00:00,  4.09it/s]\n",
      "100%|██████████| 234/234 [00:54<00:00,  4.30it/s]\n",
      "100%|██████████| 234/234 [00:56<00:00,  4.14it/s]\n",
      "100%|██████████| 234/234 [00:56<00:00,  4.16it/s]\n",
      "100%|██████████| 234/234 [00:55<00:00,  4.19it/s]\n",
      "100%|██████████| 234/234 [00:56<00:00,  4.17it/s]\n",
      "100%|██████████| 234/234 [00:55<00:00,  4.20it/s]\n",
      "100%|██████████| 234/234 [00:56<00:00,  4.15it/s]\n",
      "100%|██████████| 234/234 [00:59<00:00,  3.96it/s]\n",
      "100%|██████████| 234/234 [00:54<00:00,  4.27it/s]\n",
      "100%|██████████| 234/234 [00:56<00:00,  4.14it/s]\n",
      "100%|██████████| 234/234 [00:55<00:00,  4.22it/s]\n"
     ]
    }
   ],
   "source": [
    "optimizer = torch.optim.Adam(model.parameters(), 0.0003, weight_decay=1e-4)\n",
    "\n",
    "scheduler = torch.optim.lr_scheduler.CosineAnnealingLR(optimizer, T_max=len(train_loader), eta_min=0,\n",
    "                                                       last_epoch=-1)\n",
    "\n",
    "with torch.cuda.device(gpu_index):\n",
    "    simclr = SimCLR(model=model, optimizer=optimizer, scheduler=scheduler, device=device, epochs=100, log_every_n_steps=100)\n",
    "    simclr.train(train_loader, shuffle=False)"
   ],
   "metadata": {
    "collapsed": false
   }
  },
  {
   "cell_type": "code",
   "execution_count": 9,
   "outputs": [],
   "source": [
    "torch.save(model.state_dict(), 'saved_models/model_final.pth')"
   ],
   "metadata": {
    "collapsed": false
   }
  },
  {
   "cell_type": "code",
   "execution_count": 10,
   "outputs": [
    {
     "data": {
      "text/plain": "ConvModel(\n  (resnet_model): ResNet(\n    (conv1): Conv2d(1, 64, kernel_size=(7, 7), stride=(2, 2), padding=(3, 3), bias=False)\n    (bn1): BatchNorm2d(64, eps=1e-05, momentum=0.1, affine=True, track_running_stats=True)\n    (relu): ReLU(inplace=True)\n    (maxpool): MaxPool2d(kernel_size=3, stride=2, padding=1, dilation=1, ceil_mode=False)\n    (layer1): Sequential(\n      (0): BasicBlock(\n        (conv1): Conv2d(64, 64, kernel_size=(3, 3), stride=(1, 1), padding=(1, 1), bias=False)\n        (bn1): BatchNorm2d(64, eps=1e-05, momentum=0.1, affine=True, track_running_stats=True)\n        (relu): ReLU(inplace=True)\n        (conv2): Conv2d(64, 64, kernel_size=(3, 3), stride=(1, 1), padding=(1, 1), bias=False)\n        (bn2): BatchNorm2d(64, eps=1e-05, momentum=0.1, affine=True, track_running_stats=True)\n      )\n      (1): BasicBlock(\n        (conv1): Conv2d(64, 64, kernel_size=(3, 3), stride=(1, 1), padding=(1, 1), bias=False)\n        (bn1): BatchNorm2d(64, eps=1e-05, momentum=0.1, affine=True, track_running_stats=True)\n        (relu): ReLU(inplace=True)\n        (conv2): Conv2d(64, 64, kernel_size=(3, 3), stride=(1, 1), padding=(1, 1), bias=False)\n        (bn2): BatchNorm2d(64, eps=1e-05, momentum=0.1, affine=True, track_running_stats=True)\n      )\n    )\n    (layer2): Sequential(\n      (0): BasicBlock(\n        (conv1): Conv2d(64, 128, kernel_size=(3, 3), stride=(2, 2), padding=(1, 1), bias=False)\n        (bn1): BatchNorm2d(128, eps=1e-05, momentum=0.1, affine=True, track_running_stats=True)\n        (relu): ReLU(inplace=True)\n        (conv2): Conv2d(128, 128, kernel_size=(3, 3), stride=(1, 1), padding=(1, 1), bias=False)\n        (bn2): BatchNorm2d(128, eps=1e-05, momentum=0.1, affine=True, track_running_stats=True)\n        (downsample): Sequential(\n          (0): Conv2d(64, 128, kernel_size=(1, 1), stride=(2, 2), bias=False)\n          (1): BatchNorm2d(128, eps=1e-05, momentum=0.1, affine=True, track_running_stats=True)\n        )\n      )\n      (1): BasicBlock(\n        (conv1): Conv2d(128, 128, kernel_size=(3, 3), stride=(1, 1), padding=(1, 1), bias=False)\n        (bn1): BatchNorm2d(128, eps=1e-05, momentum=0.1, affine=True, track_running_stats=True)\n        (relu): ReLU(inplace=True)\n        (conv2): Conv2d(128, 128, kernel_size=(3, 3), stride=(1, 1), padding=(1, 1), bias=False)\n        (bn2): BatchNorm2d(128, eps=1e-05, momentum=0.1, affine=True, track_running_stats=True)\n      )\n    )\n    (layer3): Sequential(\n      (0): BasicBlock(\n        (conv1): Conv2d(128, 256, kernel_size=(3, 3), stride=(2, 2), padding=(1, 1), bias=False)\n        (bn1): BatchNorm2d(256, eps=1e-05, momentum=0.1, affine=True, track_running_stats=True)\n        (relu): ReLU(inplace=True)\n        (conv2): Conv2d(256, 256, kernel_size=(3, 3), stride=(1, 1), padding=(1, 1), bias=False)\n        (bn2): BatchNorm2d(256, eps=1e-05, momentum=0.1, affine=True, track_running_stats=True)\n        (downsample): Sequential(\n          (0): Conv2d(128, 256, kernel_size=(1, 1), stride=(2, 2), bias=False)\n          (1): BatchNorm2d(256, eps=1e-05, momentum=0.1, affine=True, track_running_stats=True)\n        )\n      )\n      (1): BasicBlock(\n        (conv1): Conv2d(256, 256, kernel_size=(3, 3), stride=(1, 1), padding=(1, 1), bias=False)\n        (bn1): BatchNorm2d(256, eps=1e-05, momentum=0.1, affine=True, track_running_stats=True)\n        (relu): ReLU(inplace=True)\n        (conv2): Conv2d(256, 256, kernel_size=(3, 3), stride=(1, 1), padding=(1, 1), bias=False)\n        (bn2): BatchNorm2d(256, eps=1e-05, momentum=0.1, affine=True, track_running_stats=True)\n      )\n    )\n    (layer4): Sequential(\n      (0): BasicBlock(\n        (conv1): Conv2d(256, 512, kernel_size=(3, 3), stride=(2, 2), padding=(1, 1), bias=False)\n        (bn1): BatchNorm2d(512, eps=1e-05, momentum=0.1, affine=True, track_running_stats=True)\n        (relu): ReLU(inplace=True)\n        (conv2): Conv2d(512, 512, kernel_size=(3, 3), stride=(1, 1), padding=(1, 1), bias=False)\n        (bn2): BatchNorm2d(512, eps=1e-05, momentum=0.1, affine=True, track_running_stats=True)\n        (downsample): Sequential(\n          (0): Conv2d(256, 512, kernel_size=(1, 1), stride=(2, 2), bias=False)\n          (1): BatchNorm2d(512, eps=1e-05, momentum=0.1, affine=True, track_running_stats=True)\n        )\n      )\n      (1): BasicBlock(\n        (conv1): Conv2d(512, 512, kernel_size=(3, 3), stride=(1, 1), padding=(1, 1), bias=False)\n        (bn1): BatchNorm2d(512, eps=1e-05, momentum=0.1, affine=True, track_running_stats=True)\n        (relu): ReLU(inplace=True)\n        (conv2): Conv2d(512, 512, kernel_size=(3, 3), stride=(1, 1), padding=(1, 1), bias=False)\n        (bn2): BatchNorm2d(512, eps=1e-05, momentum=0.1, affine=True, track_running_stats=True)\n      )\n    )\n    (avgpool): AdaptiveAvgPool2d(output_size=(1, 1))\n    (fc): Linear(in_features=512, out_features=10, bias=True)\n  )\n  (backbone): ResNet(\n    (conv1): Conv2d(1, 64, kernel_size=(7, 7), stride=(2, 2), padding=(3, 3), bias=False)\n    (bn1): BatchNorm2d(64, eps=1e-05, momentum=0.1, affine=True, track_running_stats=True)\n    (relu): ReLU(inplace=True)\n    (maxpool): MaxPool2d(kernel_size=3, stride=2, padding=1, dilation=1, ceil_mode=False)\n    (layer1): Sequential(\n      (0): BasicBlock(\n        (conv1): Conv2d(64, 64, kernel_size=(3, 3), stride=(1, 1), padding=(1, 1), bias=False)\n        (bn1): BatchNorm2d(64, eps=1e-05, momentum=0.1, affine=True, track_running_stats=True)\n        (relu): ReLU(inplace=True)\n        (conv2): Conv2d(64, 64, kernel_size=(3, 3), stride=(1, 1), padding=(1, 1), bias=False)\n        (bn2): BatchNorm2d(64, eps=1e-05, momentum=0.1, affine=True, track_running_stats=True)\n      )\n      (1): BasicBlock(\n        (conv1): Conv2d(64, 64, kernel_size=(3, 3), stride=(1, 1), padding=(1, 1), bias=False)\n        (bn1): BatchNorm2d(64, eps=1e-05, momentum=0.1, affine=True, track_running_stats=True)\n        (relu): ReLU(inplace=True)\n        (conv2): Conv2d(64, 64, kernel_size=(3, 3), stride=(1, 1), padding=(1, 1), bias=False)\n        (bn2): BatchNorm2d(64, eps=1e-05, momentum=0.1, affine=True, track_running_stats=True)\n      )\n    )\n    (layer2): Sequential(\n      (0): BasicBlock(\n        (conv1): Conv2d(64, 128, kernel_size=(3, 3), stride=(2, 2), padding=(1, 1), bias=False)\n        (bn1): BatchNorm2d(128, eps=1e-05, momentum=0.1, affine=True, track_running_stats=True)\n        (relu): ReLU(inplace=True)\n        (conv2): Conv2d(128, 128, kernel_size=(3, 3), stride=(1, 1), padding=(1, 1), bias=False)\n        (bn2): BatchNorm2d(128, eps=1e-05, momentum=0.1, affine=True, track_running_stats=True)\n        (downsample): Sequential(\n          (0): Conv2d(64, 128, kernel_size=(1, 1), stride=(2, 2), bias=False)\n          (1): BatchNorm2d(128, eps=1e-05, momentum=0.1, affine=True, track_running_stats=True)\n        )\n      )\n      (1): BasicBlock(\n        (conv1): Conv2d(128, 128, kernel_size=(3, 3), stride=(1, 1), padding=(1, 1), bias=False)\n        (bn1): BatchNorm2d(128, eps=1e-05, momentum=0.1, affine=True, track_running_stats=True)\n        (relu): ReLU(inplace=True)\n        (conv2): Conv2d(128, 128, kernel_size=(3, 3), stride=(1, 1), padding=(1, 1), bias=False)\n        (bn2): BatchNorm2d(128, eps=1e-05, momentum=0.1, affine=True, track_running_stats=True)\n      )\n    )\n    (layer3): Sequential(\n      (0): BasicBlock(\n        (conv1): Conv2d(128, 256, kernel_size=(3, 3), stride=(2, 2), padding=(1, 1), bias=False)\n        (bn1): BatchNorm2d(256, eps=1e-05, momentum=0.1, affine=True, track_running_stats=True)\n        (relu): ReLU(inplace=True)\n        (conv2): Conv2d(256, 256, kernel_size=(3, 3), stride=(1, 1), padding=(1, 1), bias=False)\n        (bn2): BatchNorm2d(256, eps=1e-05, momentum=0.1, affine=True, track_running_stats=True)\n        (downsample): Sequential(\n          (0): Conv2d(128, 256, kernel_size=(1, 1), stride=(2, 2), bias=False)\n          (1): BatchNorm2d(256, eps=1e-05, momentum=0.1, affine=True, track_running_stats=True)\n        )\n      )\n      (1): BasicBlock(\n        (conv1): Conv2d(256, 256, kernel_size=(3, 3), stride=(1, 1), padding=(1, 1), bias=False)\n        (bn1): BatchNorm2d(256, eps=1e-05, momentum=0.1, affine=True, track_running_stats=True)\n        (relu): ReLU(inplace=True)\n        (conv2): Conv2d(256, 256, kernel_size=(3, 3), stride=(1, 1), padding=(1, 1), bias=False)\n        (bn2): BatchNorm2d(256, eps=1e-05, momentum=0.1, affine=True, track_running_stats=True)\n      )\n    )\n    (layer4): Sequential(\n      (0): BasicBlock(\n        (conv1): Conv2d(256, 512, kernel_size=(3, 3), stride=(2, 2), padding=(1, 1), bias=False)\n        (bn1): BatchNorm2d(512, eps=1e-05, momentum=0.1, affine=True, track_running_stats=True)\n        (relu): ReLU(inplace=True)\n        (conv2): Conv2d(512, 512, kernel_size=(3, 3), stride=(1, 1), padding=(1, 1), bias=False)\n        (bn2): BatchNorm2d(512, eps=1e-05, momentum=0.1, affine=True, track_running_stats=True)\n        (downsample): Sequential(\n          (0): Conv2d(256, 512, kernel_size=(1, 1), stride=(2, 2), bias=False)\n          (1): BatchNorm2d(512, eps=1e-05, momentum=0.1, affine=True, track_running_stats=True)\n        )\n      )\n      (1): BasicBlock(\n        (conv1): Conv2d(512, 512, kernel_size=(3, 3), stride=(1, 1), padding=(1, 1), bias=False)\n        (bn1): BatchNorm2d(512, eps=1e-05, momentum=0.1, affine=True, track_running_stats=True)\n        (relu): ReLU(inplace=True)\n        (conv2): Conv2d(512, 512, kernel_size=(3, 3), stride=(1, 1), padding=(1, 1), bias=False)\n        (bn2): BatchNorm2d(512, eps=1e-05, momentum=0.1, affine=True, track_running_stats=True)\n      )\n    )\n    (avgpool): AdaptiveAvgPool2d(output_size=(1, 1))\n    (fc): Linear(in_features=512, out_features=10, bias=True)\n  )\n)"
     },
     "execution_count": 10,
     "metadata": {},
     "output_type": "execute_result"
    }
   ],
   "source": [
    "model"
   ],
   "metadata": {
    "collapsed": false
   }
  },
  {
   "cell_type": "code",
   "execution_count": 13,
   "outputs": [],
   "source": [
    "model = torch.load('saved_models/model_01.pth')"
   ],
   "metadata": {
    "collapsed": false
   }
  },
  {
   "cell_type": "code",
   "execution_count": 14,
   "outputs": [
    {
     "ename": "AttributeError",
     "evalue": "'collections.OrderedDict' object has no attribute 'backbone'",
     "output_type": "error",
     "traceback": [
      "\u001B[1;31m---------------------------------------------------------------------------\u001B[0m",
      "\u001B[1;31mAttributeError\u001B[0m                            Traceback (most recent call last)",
      "Cell \u001B[1;32mIn [14], line 1\u001B[0m\n\u001B[1;32m----> 1\u001B[0m \u001B[43mmodel\u001B[49m\u001B[38;5;241;43m.\u001B[39;49m\u001B[43mbackbone\u001B[49m\u001B[38;5;241m.\u001B[39mfc \u001B[38;5;241m=\u001B[39m torch\u001B[38;5;241m.\u001B[39mnn\u001B[38;5;241m.\u001B[39mSequential(\n\u001B[0;32m      2\u001B[0m     torch\u001B[38;5;241m.\u001B[39mnn\u001B[38;5;241m.\u001B[39mLinear(in_features\u001B[38;5;241m=\u001B[39m\u001B[38;5;241m512\u001B[39m, out_features\u001B[38;5;241m=\u001B[39m\u001B[38;5;241m128\u001B[39m, bias\u001B[38;5;241m=\u001B[39m\u001B[38;5;28;01mTrue\u001B[39;00m),\n\u001B[0;32m      3\u001B[0m     torch\u001B[38;5;241m.\u001B[39mnn\u001B[38;5;241m.\u001B[39mReLU(inplace\u001B[38;5;241m=\u001B[39m\u001B[38;5;28;01mTrue\u001B[39;00m),\n\u001B[0;32m      4\u001B[0m     \u001B[38;5;66;03m# torch.nn.BatchNorm2d(128,)\u001B[39;00m\n\u001B[0;32m      5\u001B[0m     torch\u001B[38;5;241m.\u001B[39mnn\u001B[38;5;241m.\u001B[39mLinear(in_features\u001B[38;5;241m=\u001B[39m\u001B[38;5;241m128\u001B[39m, out_features\u001B[38;5;241m=\u001B[39m\u001B[38;5;241m10\u001B[39m, bias\u001B[38;5;241m=\u001B[39m\u001B[38;5;28;01mTrue\u001B[39;00m),\n\u001B[0;32m      6\u001B[0m )\n\u001B[0;32m      7\u001B[0m \u001B[38;5;66;03m# liniowa 512 -> 128\u001B[39;00m\n\u001B[0;32m      8\u001B[0m \u001B[38;5;66;03m# relu\u001B[39;00m\n\u001B[0;32m      9\u001B[0m \u001B[38;5;66;03m# batchnorm\u001B[39;00m\n\u001B[0;32m     10\u001B[0m \u001B[38;5;66;03m# liniowa 128 -> 10\u001B[39;00m\n",
      "\u001B[1;31mAttributeError\u001B[0m: 'collections.OrderedDict' object has no attribute 'backbone'"
     ]
    }
   ],
   "source": [
    "model.backbone.fc = torch.nn.Sequential(\n",
    "    torch.nn.Linear(in_features=512, out_features=128, bias=True),\n",
    "    torch.nn.ReLU(inplace=True),\n",
    "    # torch.nn.BatchNorm2d(128,)\n",
    "    torch.nn.Linear(in_features=128, out_features=10, bias=True),\n",
    ")\n",
    "# liniowa 512 -> 128\n",
    "# relu\n",
    "# batchnorm\n",
    "# liniowa 128 -> 10"
   ],
   "metadata": {
    "collapsed": false
   }
  },
  {
   "cell_type": "code",
   "execution_count": 12,
   "outputs": [
    {
     "data": {
      "text/plain": "ConvModel(\n  (resnet_model): ResNet(\n    (conv1): Conv2d(1, 64, kernel_size=(7, 7), stride=(2, 2), padding=(3, 3), bias=False)\n    (bn1): BatchNorm2d(64, eps=1e-05, momentum=0.1, affine=True, track_running_stats=True)\n    (relu): ReLU(inplace=True)\n    (maxpool): MaxPool2d(kernel_size=3, stride=2, padding=1, dilation=1, ceil_mode=False)\n    (layer1): Sequential(\n      (0): BasicBlock(\n        (conv1): Conv2d(64, 64, kernel_size=(3, 3), stride=(1, 1), padding=(1, 1), bias=False)\n        (bn1): BatchNorm2d(64, eps=1e-05, momentum=0.1, affine=True, track_running_stats=True)\n        (relu): ReLU(inplace=True)\n        (conv2): Conv2d(64, 64, kernel_size=(3, 3), stride=(1, 1), padding=(1, 1), bias=False)\n        (bn2): BatchNorm2d(64, eps=1e-05, momentum=0.1, affine=True, track_running_stats=True)\n      )\n      (1): BasicBlock(\n        (conv1): Conv2d(64, 64, kernel_size=(3, 3), stride=(1, 1), padding=(1, 1), bias=False)\n        (bn1): BatchNorm2d(64, eps=1e-05, momentum=0.1, affine=True, track_running_stats=True)\n        (relu): ReLU(inplace=True)\n        (conv2): Conv2d(64, 64, kernel_size=(3, 3), stride=(1, 1), padding=(1, 1), bias=False)\n        (bn2): BatchNorm2d(64, eps=1e-05, momentum=0.1, affine=True, track_running_stats=True)\n      )\n    )\n    (layer2): Sequential(\n      (0): BasicBlock(\n        (conv1): Conv2d(64, 128, kernel_size=(3, 3), stride=(2, 2), padding=(1, 1), bias=False)\n        (bn1): BatchNorm2d(128, eps=1e-05, momentum=0.1, affine=True, track_running_stats=True)\n        (relu): ReLU(inplace=True)\n        (conv2): Conv2d(128, 128, kernel_size=(3, 3), stride=(1, 1), padding=(1, 1), bias=False)\n        (bn2): BatchNorm2d(128, eps=1e-05, momentum=0.1, affine=True, track_running_stats=True)\n        (downsample): Sequential(\n          (0): Conv2d(64, 128, kernel_size=(1, 1), stride=(2, 2), bias=False)\n          (1): BatchNorm2d(128, eps=1e-05, momentum=0.1, affine=True, track_running_stats=True)\n        )\n      )\n      (1): BasicBlock(\n        (conv1): Conv2d(128, 128, kernel_size=(3, 3), stride=(1, 1), padding=(1, 1), bias=False)\n        (bn1): BatchNorm2d(128, eps=1e-05, momentum=0.1, affine=True, track_running_stats=True)\n        (relu): ReLU(inplace=True)\n        (conv2): Conv2d(128, 128, kernel_size=(3, 3), stride=(1, 1), padding=(1, 1), bias=False)\n        (bn2): BatchNorm2d(128, eps=1e-05, momentum=0.1, affine=True, track_running_stats=True)\n      )\n    )\n    (layer3): Sequential(\n      (0): BasicBlock(\n        (conv1): Conv2d(128, 256, kernel_size=(3, 3), stride=(2, 2), padding=(1, 1), bias=False)\n        (bn1): BatchNorm2d(256, eps=1e-05, momentum=0.1, affine=True, track_running_stats=True)\n        (relu): ReLU(inplace=True)\n        (conv2): Conv2d(256, 256, kernel_size=(3, 3), stride=(1, 1), padding=(1, 1), bias=False)\n        (bn2): BatchNorm2d(256, eps=1e-05, momentum=0.1, affine=True, track_running_stats=True)\n        (downsample): Sequential(\n          (0): Conv2d(128, 256, kernel_size=(1, 1), stride=(2, 2), bias=False)\n          (1): BatchNorm2d(256, eps=1e-05, momentum=0.1, affine=True, track_running_stats=True)\n        )\n      )\n      (1): BasicBlock(\n        (conv1): Conv2d(256, 256, kernel_size=(3, 3), stride=(1, 1), padding=(1, 1), bias=False)\n        (bn1): BatchNorm2d(256, eps=1e-05, momentum=0.1, affine=True, track_running_stats=True)\n        (relu): ReLU(inplace=True)\n        (conv2): Conv2d(256, 256, kernel_size=(3, 3), stride=(1, 1), padding=(1, 1), bias=False)\n        (bn2): BatchNorm2d(256, eps=1e-05, momentum=0.1, affine=True, track_running_stats=True)\n      )\n    )\n    (layer4): Sequential(\n      (0): BasicBlock(\n        (conv1): Conv2d(256, 512, kernel_size=(3, 3), stride=(2, 2), padding=(1, 1), bias=False)\n        (bn1): BatchNorm2d(512, eps=1e-05, momentum=0.1, affine=True, track_running_stats=True)\n        (relu): ReLU(inplace=True)\n        (conv2): Conv2d(512, 512, kernel_size=(3, 3), stride=(1, 1), padding=(1, 1), bias=False)\n        (bn2): BatchNorm2d(512, eps=1e-05, momentum=0.1, affine=True, track_running_stats=True)\n        (downsample): Sequential(\n          (0): Conv2d(256, 512, kernel_size=(1, 1), stride=(2, 2), bias=False)\n          (1): BatchNorm2d(512, eps=1e-05, momentum=0.1, affine=True, track_running_stats=True)\n        )\n      )\n      (1): BasicBlock(\n        (conv1): Conv2d(512, 512, kernel_size=(3, 3), stride=(1, 1), padding=(1, 1), bias=False)\n        (bn1): BatchNorm2d(512, eps=1e-05, momentum=0.1, affine=True, track_running_stats=True)\n        (relu): ReLU(inplace=True)\n        (conv2): Conv2d(512, 512, kernel_size=(3, 3), stride=(1, 1), padding=(1, 1), bias=False)\n        (bn2): BatchNorm2d(512, eps=1e-05, momentum=0.1, affine=True, track_running_stats=True)\n      )\n    )\n    (avgpool): AdaptiveAvgPool2d(output_size=(1, 1))\n    (fc): Sequential(\n      (0): Linear(in_features=512, out_features=128, bias=True)\n      (1): ReLU(inplace=True)\n      (2): Linear(in_features=128, out_features=10, bias=True)\n    )\n  )\n  (backbone): ResNet(\n    (conv1): Conv2d(1, 64, kernel_size=(7, 7), stride=(2, 2), padding=(3, 3), bias=False)\n    (bn1): BatchNorm2d(64, eps=1e-05, momentum=0.1, affine=True, track_running_stats=True)\n    (relu): ReLU(inplace=True)\n    (maxpool): MaxPool2d(kernel_size=3, stride=2, padding=1, dilation=1, ceil_mode=False)\n    (layer1): Sequential(\n      (0): BasicBlock(\n        (conv1): Conv2d(64, 64, kernel_size=(3, 3), stride=(1, 1), padding=(1, 1), bias=False)\n        (bn1): BatchNorm2d(64, eps=1e-05, momentum=0.1, affine=True, track_running_stats=True)\n        (relu): ReLU(inplace=True)\n        (conv2): Conv2d(64, 64, kernel_size=(3, 3), stride=(1, 1), padding=(1, 1), bias=False)\n        (bn2): BatchNorm2d(64, eps=1e-05, momentum=0.1, affine=True, track_running_stats=True)\n      )\n      (1): BasicBlock(\n        (conv1): Conv2d(64, 64, kernel_size=(3, 3), stride=(1, 1), padding=(1, 1), bias=False)\n        (bn1): BatchNorm2d(64, eps=1e-05, momentum=0.1, affine=True, track_running_stats=True)\n        (relu): ReLU(inplace=True)\n        (conv2): Conv2d(64, 64, kernel_size=(3, 3), stride=(1, 1), padding=(1, 1), bias=False)\n        (bn2): BatchNorm2d(64, eps=1e-05, momentum=0.1, affine=True, track_running_stats=True)\n      )\n    )\n    (layer2): Sequential(\n      (0): BasicBlock(\n        (conv1): Conv2d(64, 128, kernel_size=(3, 3), stride=(2, 2), padding=(1, 1), bias=False)\n        (bn1): BatchNorm2d(128, eps=1e-05, momentum=0.1, affine=True, track_running_stats=True)\n        (relu): ReLU(inplace=True)\n        (conv2): Conv2d(128, 128, kernel_size=(3, 3), stride=(1, 1), padding=(1, 1), bias=False)\n        (bn2): BatchNorm2d(128, eps=1e-05, momentum=0.1, affine=True, track_running_stats=True)\n        (downsample): Sequential(\n          (0): Conv2d(64, 128, kernel_size=(1, 1), stride=(2, 2), bias=False)\n          (1): BatchNorm2d(128, eps=1e-05, momentum=0.1, affine=True, track_running_stats=True)\n        )\n      )\n      (1): BasicBlock(\n        (conv1): Conv2d(128, 128, kernel_size=(3, 3), stride=(1, 1), padding=(1, 1), bias=False)\n        (bn1): BatchNorm2d(128, eps=1e-05, momentum=0.1, affine=True, track_running_stats=True)\n        (relu): ReLU(inplace=True)\n        (conv2): Conv2d(128, 128, kernel_size=(3, 3), stride=(1, 1), padding=(1, 1), bias=False)\n        (bn2): BatchNorm2d(128, eps=1e-05, momentum=0.1, affine=True, track_running_stats=True)\n      )\n    )\n    (layer3): Sequential(\n      (0): BasicBlock(\n        (conv1): Conv2d(128, 256, kernel_size=(3, 3), stride=(2, 2), padding=(1, 1), bias=False)\n        (bn1): BatchNorm2d(256, eps=1e-05, momentum=0.1, affine=True, track_running_stats=True)\n        (relu): ReLU(inplace=True)\n        (conv2): Conv2d(256, 256, kernel_size=(3, 3), stride=(1, 1), padding=(1, 1), bias=False)\n        (bn2): BatchNorm2d(256, eps=1e-05, momentum=0.1, affine=True, track_running_stats=True)\n        (downsample): Sequential(\n          (0): Conv2d(128, 256, kernel_size=(1, 1), stride=(2, 2), bias=False)\n          (1): BatchNorm2d(256, eps=1e-05, momentum=0.1, affine=True, track_running_stats=True)\n        )\n      )\n      (1): BasicBlock(\n        (conv1): Conv2d(256, 256, kernel_size=(3, 3), stride=(1, 1), padding=(1, 1), bias=False)\n        (bn1): BatchNorm2d(256, eps=1e-05, momentum=0.1, affine=True, track_running_stats=True)\n        (relu): ReLU(inplace=True)\n        (conv2): Conv2d(256, 256, kernel_size=(3, 3), stride=(1, 1), padding=(1, 1), bias=False)\n        (bn2): BatchNorm2d(256, eps=1e-05, momentum=0.1, affine=True, track_running_stats=True)\n      )\n    )\n    (layer4): Sequential(\n      (0): BasicBlock(\n        (conv1): Conv2d(256, 512, kernel_size=(3, 3), stride=(2, 2), padding=(1, 1), bias=False)\n        (bn1): BatchNorm2d(512, eps=1e-05, momentum=0.1, affine=True, track_running_stats=True)\n        (relu): ReLU(inplace=True)\n        (conv2): Conv2d(512, 512, kernel_size=(3, 3), stride=(1, 1), padding=(1, 1), bias=False)\n        (bn2): BatchNorm2d(512, eps=1e-05, momentum=0.1, affine=True, track_running_stats=True)\n        (downsample): Sequential(\n          (0): Conv2d(256, 512, kernel_size=(1, 1), stride=(2, 2), bias=False)\n          (1): BatchNorm2d(512, eps=1e-05, momentum=0.1, affine=True, track_running_stats=True)\n        )\n      )\n      (1): BasicBlock(\n        (conv1): Conv2d(512, 512, kernel_size=(3, 3), stride=(1, 1), padding=(1, 1), bias=False)\n        (bn1): BatchNorm2d(512, eps=1e-05, momentum=0.1, affine=True, track_running_stats=True)\n        (relu): ReLU(inplace=True)\n        (conv2): Conv2d(512, 512, kernel_size=(3, 3), stride=(1, 1), padding=(1, 1), bias=False)\n        (bn2): BatchNorm2d(512, eps=1e-05, momentum=0.1, affine=True, track_running_stats=True)\n      )\n    )\n    (avgpool): AdaptiveAvgPool2d(output_size=(1, 1))\n    (fc): Sequential(\n      (0): Linear(in_features=512, out_features=128, bias=True)\n      (1): ReLU(inplace=True)\n      (2): Linear(in_features=128, out_features=10, bias=True)\n    )\n  )\n)"
     },
     "execution_count": 12,
     "metadata": {},
     "output_type": "execute_result"
    }
   ],
   "source": [
    "model.backbone.requires_grad_(False)\n",
    "model.backbone.fc.requires_grad_(True)\n",
    "model"
   ],
   "metadata": {
    "collapsed": false
   }
  },
  {
   "cell_type": "code",
   "execution_count": 13,
   "outputs": [
    {
     "name": "stderr",
     "output_type": "stream",
     "text": [
      "100%|██████████| 235/235 [00:14<00:00, 15.77it/s]\n",
      "100%|██████████| 235/235 [00:13<00:00, 17.59it/s]\n",
      "100%|██████████| 235/235 [00:13<00:00, 17.21it/s]\n",
      "100%|██████████| 235/235 [00:13<00:00, 17.16it/s]\n",
      "100%|██████████| 235/235 [00:14<00:00, 16.57it/s]\n",
      "100%|██████████| 235/235 [00:14<00:00, 16.47it/s]\n",
      "100%|██████████| 235/235 [00:14<00:00, 15.95it/s]\n",
      "100%|██████████| 235/235 [00:14<00:00, 16.57it/s]\n",
      "100%|██████████| 235/235 [00:17<00:00, 13.12it/s]\n",
      "100%|██████████| 235/235 [00:16<00:00, 14.68it/s]\n",
      "100%|██████████| 235/235 [00:16<00:00, 14.14it/s]\n",
      "100%|██████████| 235/235 [00:17<00:00, 13.82it/s]\n",
      "100%|██████████| 235/235 [00:15<00:00, 15.26it/s]\n",
      "100%|██████████| 235/235 [00:15<00:00, 14.83it/s]\n",
      "100%|██████████| 235/235 [00:14<00:00, 15.96it/s]\n",
      "100%|██████████| 235/235 [00:14<00:00, 15.69it/s]\n",
      "100%|██████████| 235/235 [00:15<00:00, 15.58it/s]\n",
      "100%|██████████| 235/235 [00:14<00:00, 16.18it/s]\n",
      "100%|██████████| 235/235 [00:15<00:00, 15.40it/s]\n",
      "100%|██████████| 235/235 [00:15<00:00, 15.04it/s]\n",
      "100%|██████████| 235/235 [00:14<00:00, 16.20it/s]\n",
      "100%|██████████| 235/235 [00:16<00:00, 14.23it/s]\n",
      "100%|██████████| 235/235 [00:16<00:00, 14.25it/s]\n",
      "100%|██████████| 235/235 [00:15<00:00, 15.47it/s]\n",
      "100%|██████████| 235/235 [00:15<00:00, 15.03it/s]\n",
      "100%|██████████| 235/235 [00:15<00:00, 15.51it/s]\n",
      "100%|██████████| 235/235 [00:17<00:00, 13.82it/s]\n",
      "100%|██████████| 235/235 [00:17<00:00, 13.59it/s]\n",
      "100%|██████████| 235/235 [00:14<00:00, 15.85it/s]\n",
      "100%|██████████| 235/235 [00:16<00:00, 14.40it/s]\n",
      "100%|██████████| 235/235 [00:14<00:00, 16.11it/s]\n",
      "100%|██████████| 235/235 [00:14<00:00, 16.18it/s]\n",
      "100%|██████████| 235/235 [00:15<00:00, 15.06it/s]\n",
      "100%|██████████| 235/235 [00:14<00:00, 15.82it/s]\n",
      "100%|██████████| 235/235 [00:21<00:00, 10.99it/s]\n",
      "100%|██████████| 235/235 [00:18<00:00, 12.66it/s]\n",
      "100%|██████████| 235/235 [00:18<00:00, 12.69it/s]\n",
      "100%|██████████| 235/235 [00:20<00:00, 11.54it/s]\n",
      "100%|██████████| 235/235 [00:20<00:00, 11.37it/s]\n",
      "100%|██████████| 235/235 [00:18<00:00, 12.55it/s]\n",
      "100%|██████████| 235/235 [00:18<00:00, 12.85it/s]\n",
      "100%|██████████| 235/235 [00:19<00:00, 12.09it/s]\n",
      "100%|██████████| 235/235 [00:21<00:00, 10.91it/s]\n",
      "100%|██████████| 235/235 [00:19<00:00, 12.30it/s]\n",
      "100%|██████████| 235/235 [00:18<00:00, 12.66it/s]\n",
      "100%|██████████| 235/235 [00:18<00:00, 12.70it/s]\n",
      "100%|██████████| 235/235 [00:18<00:00, 12.92it/s]\n",
      "100%|██████████| 235/235 [00:18<00:00, 12.40it/s]\n",
      "100%|██████████| 235/235 [00:18<00:00, 12.83it/s]\n",
      "100%|██████████| 235/235 [00:19<00:00, 12.31it/s]\n",
      "100%|██████████| 235/235 [00:19<00:00, 12.11it/s]\n",
      "100%|██████████| 235/235 [00:20<00:00, 11.74it/s]\n",
      "100%|██████████| 235/235 [00:20<00:00, 11.56it/s]\n",
      "100%|██████████| 235/235 [00:17<00:00, 13.68it/s]\n",
      "100%|██████████| 235/235 [00:16<00:00, 14.28it/s]\n",
      "100%|██████████| 235/235 [00:16<00:00, 14.19it/s]\n",
      "100%|██████████| 235/235 [00:16<00:00, 14.07it/s]\n",
      "100%|██████████| 235/235 [00:16<00:00, 14.31it/s]\n",
      "100%|██████████| 235/235 [00:16<00:00, 14.02it/s]\n",
      "100%|██████████| 235/235 [00:16<00:00, 14.45it/s]\n",
      "100%|██████████| 235/235 [00:16<00:00, 13.98it/s]\n",
      "100%|██████████| 235/235 [00:16<00:00, 14.45it/s]\n",
      "100%|██████████| 235/235 [00:16<00:00, 14.05it/s]\n",
      "100%|██████████| 235/235 [00:16<00:00, 14.31it/s]\n",
      "100%|██████████| 235/235 [00:16<00:00, 14.34it/s]\n",
      "100%|██████████| 235/235 [00:16<00:00, 14.01it/s]\n",
      "100%|██████████| 235/235 [00:16<00:00, 14.46it/s]\n",
      "100%|██████████| 235/235 [00:17<00:00, 13.82it/s]\n",
      "100%|██████████| 235/235 [00:16<00:00, 14.19it/s]\n",
      "100%|██████████| 235/235 [00:16<00:00, 14.15it/s]\n",
      "100%|██████████| 235/235 [00:16<00:00, 14.08it/s]\n",
      "100%|██████████| 235/235 [00:17<00:00, 13.71it/s]\n",
      "100%|██████████| 235/235 [00:16<00:00, 14.12it/s]\n",
      "100%|██████████| 235/235 [00:16<00:00, 14.45it/s]\n",
      "100%|██████████| 235/235 [00:16<00:00, 13.98it/s]\n",
      "100%|██████████| 235/235 [00:16<00:00, 14.34it/s]\n",
      "100%|██████████| 235/235 [00:16<00:00, 14.05it/s]\n",
      "100%|██████████| 235/235 [00:16<00:00, 14.27it/s]\n",
      "100%|██████████| 235/235 [00:16<00:00, 14.16it/s]\n",
      "100%|██████████| 235/235 [00:16<00:00, 14.02it/s]\n",
      "100%|██████████| 235/235 [00:16<00:00, 14.42it/s]\n",
      "100%|██████████| 235/235 [00:18<00:00, 13.03it/s]\n",
      "100%|██████████| 235/235 [00:16<00:00, 14.41it/s]\n",
      "100%|██████████| 235/235 [00:16<00:00, 13.84it/s]\n",
      "100%|██████████| 235/235 [00:16<00:00, 14.37it/s]\n",
      "100%|██████████| 235/235 [00:16<00:00, 14.09it/s]\n",
      "100%|██████████| 235/235 [00:16<00:00, 14.14it/s]\n",
      "100%|██████████| 235/235 [00:16<00:00, 14.18it/s]\n",
      "100%|██████████| 235/235 [00:16<00:00, 14.06it/s]\n",
      "100%|██████████| 235/235 [00:16<00:00, 14.45it/s]\n",
      "100%|██████████| 235/235 [00:16<00:00, 14.00it/s]\n",
      "100%|██████████| 235/235 [00:16<00:00, 13.83it/s]\n",
      "100%|██████████| 235/235 [00:17<00:00, 13.21it/s]\n",
      "100%|██████████| 235/235 [00:19<00:00, 12.34it/s]\n",
      "100%|██████████| 235/235 [00:21<00:00, 10.88it/s]\n",
      "100%|██████████| 235/235 [00:17<00:00, 13.29it/s]\n",
      "100%|██████████| 235/235 [00:17<00:00, 13.72it/s]\n",
      "100%|██████████| 235/235 [00:18<00:00, 12.70it/s]\n",
      "100%|██████████| 235/235 [00:16<00:00, 13.96it/s]\n",
      "100%|██████████| 235/235 [00:16<00:00, 13.86it/s]\n"
     ]
    }
   ],
   "source": [
    "optimizer = torch.optim.Adam(model.parameters(), 0.0003, weight_decay=1e-4)\n",
    "\n",
    "with torch.cuda.device(gpu_index):\n",
    "    simclr = SimCLR(model=model, optimizer=optimizer, scheduler=scheduler, device=device, epochs=100, log_every_n_steps=100)\n",
    "    simclr.train(val_loader, shuffle=False)\n"
   ],
   "metadata": {
    "collapsed": false
   }
  },
  {
   "cell_type": "code",
   "execution_count": null,
   "outputs": [],
   "source": [],
   "metadata": {
    "collapsed": false
   }
  }
 ],
 "metadata": {
  "kernelspec": {
   "display_name": "Python 3",
   "language": "python",
   "name": "python3"
  },
  "language_info": {
   "codemirror_mode": {
    "name": "ipython",
    "version": 2
   },
   "file_extension": ".py",
   "mimetype": "text/x-python",
   "name": "python",
   "nbconvert_exporter": "python",
   "pygments_lexer": "ipython2",
   "version": "2.7.6"
  }
 },
 "nbformat": 4,
 "nbformat_minor": 0
}
