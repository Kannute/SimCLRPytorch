{
 "cells": [
  {
   "cell_type": "code",
   "execution_count": 1,
   "metadata": {
    "collapsed": true
   },
   "outputs": [],
   "source": [
    "from model.model import ConvModel, SimCLR\n",
    "import argparse\n",
    "import torch\n",
    "import torch.backends.cudnn as cudnn\n",
    "from torchvision import models\n",
    "from torchvision import transforms, datasets\n"
   ]
  },
  {
   "cell_type": "code",
   "execution_count": 2,
   "outputs": [],
   "source": [
    "if torch.cuda.is_available():\n",
    "    device = torch.device('cuda')\n",
    "    cudnn.deterministic = True\n",
    "    cudnn.benchmark = True\n",
    "    gpu_index = 0\n",
    "else:\n",
    "    device = torch.device('cpu')\n",
    "    gpu_index = -1\n"
   ],
   "metadata": {
    "collapsed": false
   }
  },
  {
   "cell_type": "code",
   "execution_count": 10,
   "outputs": [],
   "source": [
    "composed_transforms = transforms.Compose([\n",
    "        transforms.GaussianBlur(kernel_size=3),\n",
    "      transforms.RandomRotation(degrees=10), # TODO\n",
    "      transforms.RandomGrayscale(p=0.2),\n",
    "      transforms.ToTensor()])"
   ],
   "metadata": {
    "collapsed": false
   }
  },
  {
   "cell_type": "markdown",
   "source": [],
   "metadata": {
    "collapsed": false
   }
  },
  {
   "cell_type": "code",
   "execution_count": 27,
   "outputs": [
    {
     "name": "stdout",
     "output_type": "stream",
     "text": [
      "Files already downloaded and verified\n",
      "Files already downloaded and verified\n"
     ]
    },
    {
     "data": {
      "text/plain": "<torch._C.Generator at 0x1828dde55d0>"
     },
     "execution_count": 27,
     "metadata": {},
     "output_type": "execute_result"
    }
   ],
   "source": [
    "train_dataset_1 = datasets.CIFAR10('./datasets', train=True,\n",
    "                               transform=composed_transforms,\n",
    "                               download=True)\n",
    "train_dataset_2 = datasets.CIFAR10('./datasets', download=True, train=True, transform=transforms.ToTensor())\n",
    "g = torch.Generator()\n",
    "g.manual_seed(0)"
   ],
   "metadata": {
    "collapsed": false
   }
  },
  {
   "cell_type": "code",
   "execution_count": 28,
   "outputs": [],
   "source": [
    "train_loader_1 = torch.utils.data.DataLoader(\n",
    "    train_dataset_1, batch_size=256, shuffle=False,\n",
    "     pin_memory=True, drop_last=True, generator=g)\n",
    "train_loader_2 = torch.utils.data.DataLoader(train_dataset_2, batch_size=256, shuffle=True, pin_memory=True, drop_last=True, generator=g)"
   ],
   "metadata": {
    "collapsed": false
   }
  },
  {
   "cell_type": "code",
   "execution_count": 29,
   "outputs": [
    {
     "name": "stderr",
     "output_type": "stream",
     "text": [
      "C:\\Users\\kacpe\\DataspellProjects\\SimCLRPytorch\\venv\\lib\\site-packages\\torchvision\\models\\_utils.py:208: UserWarning: The parameter 'pretrained' is deprecated since 0.13 and may be removed in the future, please use 'weights' instead.\n",
      "  warnings.warn(\n",
      "C:\\Users\\kacpe\\DataspellProjects\\SimCLRPytorch\\venv\\lib\\site-packages\\torchvision\\models\\_utils.py:223: UserWarning: Arguments other than a weight enum or `None` for 'weights' are deprecated since 0.13 and may be removed in the future. The current behavior is equivalent to passing `weights=None`.\n",
      "  warnings.warn(msg)\n"
     ]
    },
    {
     "data": {
      "text/plain": "<All keys matched successfully>"
     },
     "execution_count": 29,
     "metadata": {},
     "output_type": "execute_result"
    }
   ],
   "source": [
    "model = ConvModel(out_dim=10, dataset='CIFAR10')\n",
    "\n",
    "model.load_state_dict(torch.load('saved_models/model_final_cifar10_200_epochs.pth'))\n"
   ],
   "metadata": {
    "collapsed": false
   }
  },
  {
   "cell_type": "code",
   "execution_count": 30,
   "outputs": [
    {
     "ename": "NameError",
     "evalue": "name 'train_loader' is not defined",
     "output_type": "error",
     "traceback": [
      "\u001B[1;31m---------------------------------------------------------------------------\u001B[0m",
      "\u001B[1;31mNameError\u001B[0m                                 Traceback (most recent call last)",
      "Cell \u001B[1;32mIn [30], line 3\u001B[0m\n\u001B[0;32m      1\u001B[0m optimizer \u001B[38;5;241m=\u001B[39m torch\u001B[38;5;241m.\u001B[39moptim\u001B[38;5;241m.\u001B[39mAdam(model\u001B[38;5;241m.\u001B[39mparameters(), \u001B[38;5;241m0.0003\u001B[39m, weight_decay\u001B[38;5;241m=\u001B[39m\u001B[38;5;241m1e-4\u001B[39m)\n\u001B[1;32m----> 3\u001B[0m scheduler \u001B[38;5;241m=\u001B[39m torch\u001B[38;5;241m.\u001B[39moptim\u001B[38;5;241m.\u001B[39mlr_scheduler\u001B[38;5;241m.\u001B[39mCosineAnnealingLR(optimizer, T_max\u001B[38;5;241m=\u001B[39m\u001B[38;5;28mlen\u001B[39m(\u001B[43mtrain_loader\u001B[49m), eta_min\u001B[38;5;241m=\u001B[39m\u001B[38;5;241m0\u001B[39m,\n\u001B[0;32m      4\u001B[0m                                                        last_epoch\u001B[38;5;241m=\u001B[39m\u001B[38;5;241m-\u001B[39m\u001B[38;5;241m1\u001B[39m)\n\u001B[0;32m      6\u001B[0m \u001B[38;5;28;01mwith\u001B[39;00m torch\u001B[38;5;241m.\u001B[39mcuda\u001B[38;5;241m.\u001B[39mdevice(gpu_index):\n\u001B[0;32m      7\u001B[0m     simclr \u001B[38;5;241m=\u001B[39m SimCLR(model\u001B[38;5;241m=\u001B[39mmodel, optimizer\u001B[38;5;241m=\u001B[39moptimizer, scheduler\u001B[38;5;241m=\u001B[39mscheduler, device\u001B[38;5;241m=\u001B[39mdevice, epochs\u001B[38;5;241m=\u001B[39m\u001B[38;5;241m200\u001B[39m, log_every_n_steps\u001B[38;5;241m=\u001B[39m\u001B[38;5;241m100\u001B[39m)\n",
      "\u001B[1;31mNameError\u001B[0m: name 'train_loader' is not defined"
     ]
    }
   ],
   "source": [
    "optimizer = torch.optim.Adam(model.parameters(), 0.0003, weight_decay=1e-4)\n",
    "\n",
    "scheduler = torch.optim.lr_scheduler.CosineAnnealingLR(optimizer, T_max=len(train_loader_1), eta_min=0,\n",
    "                                                       last_epoch=-1)\n",
    "\n",
    "with torch.cuda.device(gpu_index):\n",
    "    simclr = SimCLR(model=model, optimizer=optimizer, scheduler=scheduler, device=device, epochs=200, log_every_n_steps=100)\n",
    "    simclr.train(train_loader_1, shuffle=True)"
   ],
   "metadata": {
    "collapsed": false
   }
  },
  {
   "cell_type": "code",
   "execution_count": 9,
   "outputs": [],
   "source": [
    "torch.save(model.state_dict(), 'saved_models/model_final_cifar10_200_epochs.pth')"
   ],
   "metadata": {
    "collapsed": false
   }
  },
  {
   "cell_type": "code",
   "execution_count": 31,
   "outputs": [
    {
     "data": {
      "text/plain": "ConvModel(\n  (resnet_model): ResNet(\n    (conv1): Conv2d(3, 64, kernel_size=(7, 7), stride=(2, 2), padding=(3, 3), bias=False)\n    (bn1): BatchNorm2d(64, eps=1e-05, momentum=0.1, affine=True, track_running_stats=True)\n    (relu): ReLU(inplace=True)\n    (maxpool): MaxPool2d(kernel_size=3, stride=2, padding=1, dilation=1, ceil_mode=False)\n    (layer1): Sequential(\n      (0): BasicBlock(\n        (conv1): Conv2d(64, 64, kernel_size=(3, 3), stride=(1, 1), padding=(1, 1), bias=False)\n        (bn1): BatchNorm2d(64, eps=1e-05, momentum=0.1, affine=True, track_running_stats=True)\n        (relu): ReLU(inplace=True)\n        (conv2): Conv2d(64, 64, kernel_size=(3, 3), stride=(1, 1), padding=(1, 1), bias=False)\n        (bn2): BatchNorm2d(64, eps=1e-05, momentum=0.1, affine=True, track_running_stats=True)\n      )\n      (1): BasicBlock(\n        (conv1): Conv2d(64, 64, kernel_size=(3, 3), stride=(1, 1), padding=(1, 1), bias=False)\n        (bn1): BatchNorm2d(64, eps=1e-05, momentum=0.1, affine=True, track_running_stats=True)\n        (relu): ReLU(inplace=True)\n        (conv2): Conv2d(64, 64, kernel_size=(3, 3), stride=(1, 1), padding=(1, 1), bias=False)\n        (bn2): BatchNorm2d(64, eps=1e-05, momentum=0.1, affine=True, track_running_stats=True)\n      )\n    )\n    (layer2): Sequential(\n      (0): BasicBlock(\n        (conv1): Conv2d(64, 128, kernel_size=(3, 3), stride=(2, 2), padding=(1, 1), bias=False)\n        (bn1): BatchNorm2d(128, eps=1e-05, momentum=0.1, affine=True, track_running_stats=True)\n        (relu): ReLU(inplace=True)\n        (conv2): Conv2d(128, 128, kernel_size=(3, 3), stride=(1, 1), padding=(1, 1), bias=False)\n        (bn2): BatchNorm2d(128, eps=1e-05, momentum=0.1, affine=True, track_running_stats=True)\n        (downsample): Sequential(\n          (0): Conv2d(64, 128, kernel_size=(1, 1), stride=(2, 2), bias=False)\n          (1): BatchNorm2d(128, eps=1e-05, momentum=0.1, affine=True, track_running_stats=True)\n        )\n      )\n      (1): BasicBlock(\n        (conv1): Conv2d(128, 128, kernel_size=(3, 3), stride=(1, 1), padding=(1, 1), bias=False)\n        (bn1): BatchNorm2d(128, eps=1e-05, momentum=0.1, affine=True, track_running_stats=True)\n        (relu): ReLU(inplace=True)\n        (conv2): Conv2d(128, 128, kernel_size=(3, 3), stride=(1, 1), padding=(1, 1), bias=False)\n        (bn2): BatchNorm2d(128, eps=1e-05, momentum=0.1, affine=True, track_running_stats=True)\n      )\n    )\n    (layer3): Sequential(\n      (0): BasicBlock(\n        (conv1): Conv2d(128, 256, kernel_size=(3, 3), stride=(2, 2), padding=(1, 1), bias=False)\n        (bn1): BatchNorm2d(256, eps=1e-05, momentum=0.1, affine=True, track_running_stats=True)\n        (relu): ReLU(inplace=True)\n        (conv2): Conv2d(256, 256, kernel_size=(3, 3), stride=(1, 1), padding=(1, 1), bias=False)\n        (bn2): BatchNorm2d(256, eps=1e-05, momentum=0.1, affine=True, track_running_stats=True)\n        (downsample): Sequential(\n          (0): Conv2d(128, 256, kernel_size=(1, 1), stride=(2, 2), bias=False)\n          (1): BatchNorm2d(256, eps=1e-05, momentum=0.1, affine=True, track_running_stats=True)\n        )\n      )\n      (1): BasicBlock(\n        (conv1): Conv2d(256, 256, kernel_size=(3, 3), stride=(1, 1), padding=(1, 1), bias=False)\n        (bn1): BatchNorm2d(256, eps=1e-05, momentum=0.1, affine=True, track_running_stats=True)\n        (relu): ReLU(inplace=True)\n        (conv2): Conv2d(256, 256, kernel_size=(3, 3), stride=(1, 1), padding=(1, 1), bias=False)\n        (bn2): BatchNorm2d(256, eps=1e-05, momentum=0.1, affine=True, track_running_stats=True)\n      )\n    )\n    (layer4): Sequential(\n      (0): BasicBlock(\n        (conv1): Conv2d(256, 512, kernel_size=(3, 3), stride=(2, 2), padding=(1, 1), bias=False)\n        (bn1): BatchNorm2d(512, eps=1e-05, momentum=0.1, affine=True, track_running_stats=True)\n        (relu): ReLU(inplace=True)\n        (conv2): Conv2d(512, 512, kernel_size=(3, 3), stride=(1, 1), padding=(1, 1), bias=False)\n        (bn2): BatchNorm2d(512, eps=1e-05, momentum=0.1, affine=True, track_running_stats=True)\n        (downsample): Sequential(\n          (0): Conv2d(256, 512, kernel_size=(1, 1), stride=(2, 2), bias=False)\n          (1): BatchNorm2d(512, eps=1e-05, momentum=0.1, affine=True, track_running_stats=True)\n        )\n      )\n      (1): BasicBlock(\n        (conv1): Conv2d(512, 512, kernel_size=(3, 3), stride=(1, 1), padding=(1, 1), bias=False)\n        (bn1): BatchNorm2d(512, eps=1e-05, momentum=0.1, affine=True, track_running_stats=True)\n        (relu): ReLU(inplace=True)\n        (conv2): Conv2d(512, 512, kernel_size=(3, 3), stride=(1, 1), padding=(1, 1), bias=False)\n        (bn2): BatchNorm2d(512, eps=1e-05, momentum=0.1, affine=True, track_running_stats=True)\n      )\n    )\n    (avgpool): AdaptiveAvgPool2d(output_size=(1, 1))\n    (fc): Linear(in_features=512, out_features=10, bias=True)\n  )\n  (backbone): ResNet(\n    (conv1): Conv2d(3, 64, kernel_size=(7, 7), stride=(2, 2), padding=(3, 3), bias=False)\n    (bn1): BatchNorm2d(64, eps=1e-05, momentum=0.1, affine=True, track_running_stats=True)\n    (relu): ReLU(inplace=True)\n    (maxpool): MaxPool2d(kernel_size=3, stride=2, padding=1, dilation=1, ceil_mode=False)\n    (layer1): Sequential(\n      (0): BasicBlock(\n        (conv1): Conv2d(64, 64, kernel_size=(3, 3), stride=(1, 1), padding=(1, 1), bias=False)\n        (bn1): BatchNorm2d(64, eps=1e-05, momentum=0.1, affine=True, track_running_stats=True)\n        (relu): ReLU(inplace=True)\n        (conv2): Conv2d(64, 64, kernel_size=(3, 3), stride=(1, 1), padding=(1, 1), bias=False)\n        (bn2): BatchNorm2d(64, eps=1e-05, momentum=0.1, affine=True, track_running_stats=True)\n      )\n      (1): BasicBlock(\n        (conv1): Conv2d(64, 64, kernel_size=(3, 3), stride=(1, 1), padding=(1, 1), bias=False)\n        (bn1): BatchNorm2d(64, eps=1e-05, momentum=0.1, affine=True, track_running_stats=True)\n        (relu): ReLU(inplace=True)\n        (conv2): Conv2d(64, 64, kernel_size=(3, 3), stride=(1, 1), padding=(1, 1), bias=False)\n        (bn2): BatchNorm2d(64, eps=1e-05, momentum=0.1, affine=True, track_running_stats=True)\n      )\n    )\n    (layer2): Sequential(\n      (0): BasicBlock(\n        (conv1): Conv2d(64, 128, kernel_size=(3, 3), stride=(2, 2), padding=(1, 1), bias=False)\n        (bn1): BatchNorm2d(128, eps=1e-05, momentum=0.1, affine=True, track_running_stats=True)\n        (relu): ReLU(inplace=True)\n        (conv2): Conv2d(128, 128, kernel_size=(3, 3), stride=(1, 1), padding=(1, 1), bias=False)\n        (bn2): BatchNorm2d(128, eps=1e-05, momentum=0.1, affine=True, track_running_stats=True)\n        (downsample): Sequential(\n          (0): Conv2d(64, 128, kernel_size=(1, 1), stride=(2, 2), bias=False)\n          (1): BatchNorm2d(128, eps=1e-05, momentum=0.1, affine=True, track_running_stats=True)\n        )\n      )\n      (1): BasicBlock(\n        (conv1): Conv2d(128, 128, kernel_size=(3, 3), stride=(1, 1), padding=(1, 1), bias=False)\n        (bn1): BatchNorm2d(128, eps=1e-05, momentum=0.1, affine=True, track_running_stats=True)\n        (relu): ReLU(inplace=True)\n        (conv2): Conv2d(128, 128, kernel_size=(3, 3), stride=(1, 1), padding=(1, 1), bias=False)\n        (bn2): BatchNorm2d(128, eps=1e-05, momentum=0.1, affine=True, track_running_stats=True)\n      )\n    )\n    (layer3): Sequential(\n      (0): BasicBlock(\n        (conv1): Conv2d(128, 256, kernel_size=(3, 3), stride=(2, 2), padding=(1, 1), bias=False)\n        (bn1): BatchNorm2d(256, eps=1e-05, momentum=0.1, affine=True, track_running_stats=True)\n        (relu): ReLU(inplace=True)\n        (conv2): Conv2d(256, 256, kernel_size=(3, 3), stride=(1, 1), padding=(1, 1), bias=False)\n        (bn2): BatchNorm2d(256, eps=1e-05, momentum=0.1, affine=True, track_running_stats=True)\n        (downsample): Sequential(\n          (0): Conv2d(128, 256, kernel_size=(1, 1), stride=(2, 2), bias=False)\n          (1): BatchNorm2d(256, eps=1e-05, momentum=0.1, affine=True, track_running_stats=True)\n        )\n      )\n      (1): BasicBlock(\n        (conv1): Conv2d(256, 256, kernel_size=(3, 3), stride=(1, 1), padding=(1, 1), bias=False)\n        (bn1): BatchNorm2d(256, eps=1e-05, momentum=0.1, affine=True, track_running_stats=True)\n        (relu): ReLU(inplace=True)\n        (conv2): Conv2d(256, 256, kernel_size=(3, 3), stride=(1, 1), padding=(1, 1), bias=False)\n        (bn2): BatchNorm2d(256, eps=1e-05, momentum=0.1, affine=True, track_running_stats=True)\n      )\n    )\n    (layer4): Sequential(\n      (0): BasicBlock(\n        (conv1): Conv2d(256, 512, kernel_size=(3, 3), stride=(2, 2), padding=(1, 1), bias=False)\n        (bn1): BatchNorm2d(512, eps=1e-05, momentum=0.1, affine=True, track_running_stats=True)\n        (relu): ReLU(inplace=True)\n        (conv2): Conv2d(512, 512, kernel_size=(3, 3), stride=(1, 1), padding=(1, 1), bias=False)\n        (bn2): BatchNorm2d(512, eps=1e-05, momentum=0.1, affine=True, track_running_stats=True)\n        (downsample): Sequential(\n          (0): Conv2d(256, 512, kernel_size=(1, 1), stride=(2, 2), bias=False)\n          (1): BatchNorm2d(512, eps=1e-05, momentum=0.1, affine=True, track_running_stats=True)\n        )\n      )\n      (1): BasicBlock(\n        (conv1): Conv2d(512, 512, kernel_size=(3, 3), stride=(1, 1), padding=(1, 1), bias=False)\n        (bn1): BatchNorm2d(512, eps=1e-05, momentum=0.1, affine=True, track_running_stats=True)\n        (relu): ReLU(inplace=True)\n        (conv2): Conv2d(512, 512, kernel_size=(3, 3), stride=(1, 1), padding=(1, 1), bias=False)\n        (bn2): BatchNorm2d(512, eps=1e-05, momentum=0.1, affine=True, track_running_stats=True)\n      )\n    )\n    (avgpool): AdaptiveAvgPool2d(output_size=(1, 1))\n    (fc): Linear(in_features=512, out_features=10, bias=True)\n  )\n)"
     },
     "execution_count": 31,
     "metadata": {},
     "output_type": "execute_result"
    }
   ],
   "source": [
    "model"
   ],
   "metadata": {
    "collapsed": false
   }
  },
  {
   "cell_type": "code",
   "execution_count": 32,
   "outputs": [],
   "source": [
    "model.backbone.fc = torch.nn.Sequential(\n",
    "    torch.nn.Linear(in_features=512, out_features=128, bias=True),\n",
    "    torch.nn.ReLU(inplace=True),\n",
    "    # torch.nn.BatchNorm1d(128),\n",
    "    torch.nn.Linear(in_features=128, out_features=10, bias=True),\n",
    ")\n"
   ],
   "metadata": {
    "collapsed": false
   }
  },
  {
   "cell_type": "code",
   "execution_count": 33,
   "outputs": [
    {
     "name": "stdout",
     "output_type": "stream",
     "text": [
      "conv1.weight: False\n",
      "bn1.weight: False\n",
      "bn1.bias: False\n",
      "layer1.0.conv1.weight: False\n",
      "layer1.0.bn1.weight: False\n",
      "layer1.0.bn1.bias: False\n",
      "layer1.0.conv2.weight: False\n",
      "layer1.0.bn2.weight: False\n",
      "layer1.0.bn2.bias: False\n",
      "layer1.1.conv1.weight: False\n",
      "layer1.1.bn1.weight: False\n",
      "layer1.1.bn1.bias: False\n",
      "layer1.1.conv2.weight: False\n",
      "layer1.1.bn2.weight: False\n",
      "layer1.1.bn2.bias: False\n",
      "layer2.0.conv1.weight: False\n",
      "layer2.0.bn1.weight: False\n",
      "layer2.0.bn1.bias: False\n",
      "layer2.0.conv2.weight: False\n",
      "layer2.0.bn2.weight: False\n",
      "layer2.0.bn2.bias: False\n",
      "layer2.0.downsample.0.weight: False\n",
      "layer2.0.downsample.1.weight: False\n",
      "layer2.0.downsample.1.bias: False\n",
      "layer2.1.conv1.weight: False\n",
      "layer2.1.bn1.weight: False\n",
      "layer2.1.bn1.bias: False\n",
      "layer2.1.conv2.weight: False\n",
      "layer2.1.bn2.weight: False\n",
      "layer2.1.bn2.bias: False\n",
      "layer3.0.conv1.weight: False\n",
      "layer3.0.bn1.weight: False\n",
      "layer3.0.bn1.bias: False\n",
      "layer3.0.conv2.weight: False\n",
      "layer3.0.bn2.weight: False\n",
      "layer3.0.bn2.bias: False\n",
      "layer3.0.downsample.0.weight: False\n",
      "layer3.0.downsample.1.weight: False\n",
      "layer3.0.downsample.1.bias: False\n",
      "layer3.1.conv1.weight: False\n",
      "layer3.1.bn1.weight: False\n",
      "layer3.1.bn1.bias: False\n",
      "layer3.1.conv2.weight: False\n",
      "layer3.1.bn2.weight: False\n",
      "layer3.1.bn2.bias: False\n",
      "layer4.0.conv1.weight: False\n",
      "layer4.0.bn1.weight: False\n",
      "layer4.0.bn1.bias: False\n",
      "layer4.0.conv2.weight: False\n",
      "layer4.0.bn2.weight: False\n",
      "layer4.0.bn2.bias: False\n",
      "layer4.0.downsample.0.weight: False\n",
      "layer4.0.downsample.1.weight: False\n",
      "layer4.0.downsample.1.bias: False\n",
      "layer4.1.conv1.weight: False\n",
      "layer4.1.bn1.weight: False\n",
      "layer4.1.bn1.bias: False\n",
      "layer4.1.conv2.weight: False\n",
      "layer4.1.bn2.weight: False\n",
      "layer4.1.bn2.bias: False\n",
      "fc.0.weight: True\n",
      "fc.0.bias: True\n",
      "fc.2.weight: True\n",
      "fc.2.bias: True\n"
     ]
    }
   ],
   "source": [
    "model.backbone.requires_grad_(False)\n",
    "model.backbone.fc.requires_grad_(True)\n",
    "\n",
    "for parameter in model.backbone.named_parameters():\n",
    "    print(f'{parameter[0]}: {parameter[1].requires_grad}')\n"
   ],
   "metadata": {
    "collapsed": false
   }
  },
  {
   "cell_type": "code",
   "execution_count": 34,
   "outputs": [
    {
     "name": "stderr",
     "output_type": "stream",
     "text": [
      "  0%|          | 0/195 [00:00<?, ?it/s]C:\\Users\\kacpe\\DataspellProjects\\SimCLRPytorch\\venv\\lib\\site-packages\\torch\\optim\\lr_scheduler.py:807: UserWarning: To get the last learning rate computed by the scheduler, please use `get_last_lr()`.\n",
      "  warnings.warn(\"To get the last learning rate computed by the scheduler, \"\n",
      "100%|██████████| 195/195 [00:07<00:00, 26.05it/s]\n",
      "100%|██████████| 195/195 [00:06<00:00, 27.87it/s]\n",
      "100%|██████████| 195/195 [00:06<00:00, 27.93it/s]\n",
      "100%|██████████| 195/195 [00:06<00:00, 27.86it/s]\n",
      "100%|██████████| 195/195 [00:06<00:00, 28.11it/s]\n",
      "100%|██████████| 195/195 [00:06<00:00, 28.19it/s]\n",
      "100%|██████████| 195/195 [00:07<00:00, 27.51it/s]\n",
      "100%|██████████| 195/195 [00:06<00:00, 28.00it/s]\n",
      "100%|██████████| 195/195 [00:07<00:00, 27.42it/s]\n",
      "100%|██████████| 195/195 [00:07<00:00, 27.82it/s]\n",
      "100%|██████████| 195/195 [00:07<00:00, 27.61it/s]\n",
      "100%|██████████| 195/195 [00:07<00:00, 27.33it/s]\n",
      "100%|██████████| 195/195 [00:06<00:00, 28.30it/s]\n",
      "100%|██████████| 195/195 [00:06<00:00, 27.92it/s]\n",
      "100%|██████████| 195/195 [00:07<00:00, 27.39it/s]\n",
      "100%|██████████| 195/195 [00:07<00:00, 27.33it/s]\n",
      "100%|██████████| 195/195 [00:07<00:00, 27.43it/s]\n",
      "100%|██████████| 195/195 [00:07<00:00, 27.75it/s]\n",
      "100%|██████████| 195/195 [00:06<00:00, 28.03it/s]\n",
      "100%|██████████| 195/195 [00:06<00:00, 28.37it/s]\n",
      "100%|██████████| 195/195 [00:06<00:00, 27.95it/s]\n",
      "100%|██████████| 195/195 [00:06<00:00, 28.27it/s]\n",
      "100%|██████████| 195/195 [00:06<00:00, 28.33it/s]\n",
      "100%|██████████| 195/195 [00:06<00:00, 28.13it/s]\n",
      "100%|██████████| 195/195 [00:07<00:00, 27.82it/s]\n",
      "100%|██████████| 195/195 [00:07<00:00, 27.52it/s]\n",
      "100%|██████████| 195/195 [00:06<00:00, 28.08it/s]\n",
      "100%|██████████| 195/195 [00:07<00:00, 26.96it/s]\n",
      "100%|██████████| 195/195 [00:07<00:00, 26.99it/s]\n",
      "100%|██████████| 195/195 [00:07<00:00, 27.70it/s]\n",
      "100%|██████████| 195/195 [00:07<00:00, 27.33it/s]\n",
      "100%|██████████| 195/195 [00:07<00:00, 27.79it/s]\n",
      "100%|██████████| 195/195 [00:07<00:00, 26.87it/s]\n",
      "100%|██████████| 195/195 [00:06<00:00, 27.88it/s]\n",
      "100%|██████████| 195/195 [00:06<00:00, 27.92it/s]\n",
      "100%|██████████| 195/195 [00:06<00:00, 28.58it/s]\n",
      "100%|██████████| 195/195 [00:07<00:00, 27.51it/s]\n",
      "100%|██████████| 195/195 [00:06<00:00, 28.23it/s]\n",
      "100%|██████████| 195/195 [00:07<00:00, 27.16it/s]\n",
      "100%|██████████| 195/195 [00:06<00:00, 28.60it/s]\n",
      "100%|██████████| 195/195 [00:06<00:00, 28.32it/s]\n",
      "100%|██████████| 195/195 [00:06<00:00, 28.81it/s]\n",
      "100%|██████████| 195/195 [00:07<00:00, 27.62it/s]\n",
      "100%|██████████| 195/195 [00:07<00:00, 27.68it/s]\n",
      "100%|██████████| 195/195 [00:06<00:00, 28.18it/s]\n",
      "100%|██████████| 195/195 [00:07<00:00, 27.28it/s]\n",
      "100%|██████████| 195/195 [00:07<00:00, 27.25it/s]\n",
      "100%|██████████| 195/195 [00:07<00:00, 26.02it/s]\n",
      "100%|██████████| 195/195 [00:06<00:00, 27.93it/s]\n",
      "100%|██████████| 195/195 [00:06<00:00, 27.91it/s]\n",
      "100%|██████████| 195/195 [00:06<00:00, 29.35it/s]\n",
      "100%|██████████| 195/195 [00:07<00:00, 27.84it/s]\n",
      "100%|██████████| 195/195 [00:07<00:00, 27.81it/s]\n",
      "100%|██████████| 195/195 [00:07<00:00, 27.35it/s]\n",
      "100%|██████████| 195/195 [00:07<00:00, 26.44it/s]\n",
      "100%|██████████| 195/195 [00:07<00:00, 27.61it/s]\n",
      "100%|██████████| 195/195 [00:06<00:00, 28.40it/s]\n",
      "100%|██████████| 195/195 [00:06<00:00, 29.06it/s]\n",
      "100%|██████████| 195/195 [00:06<00:00, 29.27it/s]\n",
      "100%|██████████| 195/195 [00:06<00:00, 29.31it/s]\n",
      "100%|██████████| 195/195 [00:06<00:00, 28.44it/s]\n",
      "100%|██████████| 195/195 [00:07<00:00, 27.22it/s]\n",
      "100%|██████████| 195/195 [00:07<00:00, 27.79it/s]\n",
      "100%|██████████| 195/195 [00:06<00:00, 27.91it/s]\n",
      "100%|██████████| 195/195 [00:07<00:00, 27.60it/s]\n",
      "100%|██████████| 195/195 [00:07<00:00, 27.44it/s]\n",
      "100%|██████████| 195/195 [00:07<00:00, 26.93it/s]\n",
      "100%|██████████| 195/195 [00:06<00:00, 28.14it/s]\n",
      "100%|██████████| 195/195 [00:06<00:00, 28.38it/s]\n",
      "100%|██████████| 195/195 [00:07<00:00, 26.98it/s]\n",
      "100%|██████████| 195/195 [00:07<00:00, 27.58it/s]\n",
      "100%|██████████| 195/195 [00:07<00:00, 27.62it/s]\n",
      "100%|██████████| 195/195 [00:06<00:00, 28.14it/s]\n",
      "100%|██████████| 195/195 [00:07<00:00, 27.59it/s]\n",
      "100%|██████████| 195/195 [00:07<00:00, 25.18it/s]\n",
      "100%|██████████| 195/195 [00:07<00:00, 27.58it/s]\n",
      "100%|██████████| 195/195 [00:07<00:00, 27.02it/s]\n",
      "100%|██████████| 195/195 [00:07<00:00, 27.85it/s]\n",
      "100%|██████████| 195/195 [00:07<00:00, 27.13it/s]\n",
      "100%|██████████| 195/195 [00:07<00:00, 27.28it/s]\n",
      "100%|██████████| 195/195 [00:07<00:00, 27.25it/s]\n",
      "100%|██████████| 195/195 [00:07<00:00, 27.26it/s]\n",
      "100%|██████████| 195/195 [00:07<00:00, 27.65it/s]\n",
      "100%|██████████| 195/195 [00:07<00:00, 27.68it/s]\n",
      "100%|██████████| 195/195 [00:07<00:00, 26.44it/s]\n",
      "100%|██████████| 195/195 [00:07<00:00, 27.32it/s]\n",
      "100%|██████████| 195/195 [00:07<00:00, 27.26it/s]\n",
      "100%|██████████| 195/195 [00:07<00:00, 27.48it/s]\n",
      "100%|██████████| 195/195 [00:07<00:00, 27.35it/s]\n",
      "100%|██████████| 195/195 [00:07<00:00, 27.32it/s]\n",
      "100%|██████████| 195/195 [00:07<00:00, 26.41it/s]\n",
      "100%|██████████| 195/195 [00:07<00:00, 27.76it/s]\n",
      "100%|██████████| 195/195 [00:07<00:00, 27.30it/s]\n",
      "100%|██████████| 195/195 [00:07<00:00, 26.71it/s]\n",
      "100%|██████████| 195/195 [00:06<00:00, 28.14it/s]\n",
      "100%|██████████| 195/195 [00:07<00:00, 27.21it/s]\n",
      "100%|██████████| 195/195 [00:07<00:00, 27.60it/s]\n",
      "100%|██████████| 195/195 [00:07<00:00, 27.56it/s]\n",
      "100%|██████████| 195/195 [00:07<00:00, 25.44it/s]\n",
      "100%|██████████| 195/195 [00:07<00:00, 26.30it/s]\n",
      "100%|██████████| 195/195 [00:07<00:00, 27.55it/s]\n",
      "100%|██████████| 195/195 [00:07<00:00, 27.56it/s]\n",
      "100%|██████████| 195/195 [00:07<00:00, 26.59it/s]\n",
      "100%|██████████| 195/195 [00:07<00:00, 27.06it/s]\n",
      "100%|██████████| 195/195 [00:07<00:00, 27.44it/s]\n",
      "100%|██████████| 195/195 [00:07<00:00, 27.66it/s]\n",
      "100%|██████████| 195/195 [00:07<00:00, 27.14it/s]\n",
      "100%|██████████| 195/195 [00:07<00:00, 27.46it/s]\n",
      "100%|██████████| 195/195 [00:07<00:00, 27.06it/s]\n",
      "100%|██████████| 195/195 [00:07<00:00, 27.84it/s]\n",
      "100%|██████████| 195/195 [00:07<00:00, 26.88it/s]\n",
      "100%|██████████| 195/195 [00:07<00:00, 26.96it/s]\n",
      "100%|██████████| 195/195 [00:07<00:00, 27.43it/s]\n",
      "100%|██████████| 195/195 [00:07<00:00, 26.74it/s]\n",
      "100%|██████████| 195/195 [00:07<00:00, 25.27it/s]\n",
      "100%|██████████| 195/195 [00:07<00:00, 24.96it/s]\n",
      "100%|██████████| 195/195 [00:07<00:00, 25.34it/s]\n",
      "100%|██████████| 195/195 [00:07<00:00, 25.45it/s]\n",
      "100%|██████████| 195/195 [00:07<00:00, 25.10it/s]\n",
      "100%|██████████| 195/195 [00:07<00:00, 24.64it/s]\n",
      "100%|██████████| 195/195 [00:07<00:00, 25.57it/s]\n",
      "100%|██████████| 195/195 [00:07<00:00, 25.45it/s]\n",
      "100%|██████████| 195/195 [00:07<00:00, 25.79it/s]\n",
      "100%|██████████| 195/195 [00:07<00:00, 24.74it/s]\n",
      "100%|██████████| 195/195 [00:07<00:00, 26.13it/s]\n",
      "100%|██████████| 195/195 [00:07<00:00, 27.31it/s]\n",
      "100%|██████████| 195/195 [00:07<00:00, 26.93it/s]\n",
      "100%|██████████| 195/195 [00:07<00:00, 27.24it/s]\n",
      "100%|██████████| 195/195 [00:07<00:00, 27.38it/s]\n",
      "100%|██████████| 195/195 [00:07<00:00, 27.01it/s]\n",
      "100%|██████████| 195/195 [00:07<00:00, 27.26it/s]\n",
      "100%|██████████| 195/195 [00:07<00:00, 27.05it/s]\n",
      "100%|██████████| 195/195 [00:07<00:00, 27.23it/s]\n",
      "100%|██████████| 195/195 [00:07<00:00, 25.76it/s]\n",
      "100%|██████████| 195/195 [00:07<00:00, 25.90it/s]\n",
      "100%|██████████| 195/195 [00:07<00:00, 26.50it/s]\n",
      "100%|██████████| 195/195 [00:07<00:00, 26.15it/s]\n",
      "100%|██████████| 195/195 [00:07<00:00, 25.87it/s]\n",
      "100%|██████████| 195/195 [00:07<00:00, 26.16it/s]\n",
      "100%|██████████| 195/195 [00:07<00:00, 26.36it/s]\n",
      "100%|██████████| 195/195 [00:07<00:00, 26.03it/s]\n",
      "100%|██████████| 195/195 [00:07<00:00, 25.82it/s]\n",
      "100%|██████████| 195/195 [00:07<00:00, 26.54it/s]\n",
      "100%|██████████| 195/195 [00:07<00:00, 26.42it/s]\n",
      "100%|██████████| 195/195 [00:07<00:00, 26.36it/s]\n",
      "100%|██████████| 195/195 [00:07<00:00, 26.31it/s]\n",
      "100%|██████████| 195/195 [00:07<00:00, 26.40it/s]\n",
      "100%|██████████| 195/195 [00:07<00:00, 26.78it/s]\n",
      "100%|██████████| 195/195 [00:07<00:00, 26.62it/s]\n",
      "100%|██████████| 195/195 [00:07<00:00, 26.55it/s]\n",
      "100%|██████████| 195/195 [00:07<00:00, 26.26it/s]\n",
      "100%|██████████| 195/195 [00:07<00:00, 26.10it/s]\n",
      "100%|██████████| 195/195 [00:07<00:00, 26.41it/s]\n",
      "100%|██████████| 195/195 [00:07<00:00, 26.55it/s]\n",
      "100%|██████████| 195/195 [00:07<00:00, 26.19it/s]\n",
      "100%|██████████| 195/195 [00:07<00:00, 26.31it/s]\n",
      "100%|██████████| 195/195 [00:07<00:00, 26.55it/s]\n",
      "100%|██████████| 195/195 [00:07<00:00, 26.40it/s]\n",
      "100%|██████████| 195/195 [00:07<00:00, 26.25it/s]\n",
      "100%|██████████| 195/195 [00:07<00:00, 26.52it/s]\n",
      "100%|██████████| 195/195 [00:07<00:00, 26.37it/s]\n",
      "100%|██████████| 195/195 [00:07<00:00, 25.95it/s]\n",
      "100%|██████████| 195/195 [00:07<00:00, 26.27it/s]\n",
      "100%|██████████| 195/195 [00:07<00:00, 26.50it/s]\n",
      "100%|██████████| 195/195 [00:07<00:00, 26.79it/s]\n",
      "100%|██████████| 195/195 [00:07<00:00, 26.73it/s]\n",
      "100%|██████████| 195/195 [00:07<00:00, 26.58it/s]\n",
      "100%|██████████| 195/195 [00:07<00:00, 26.21it/s]\n",
      "100%|██████████| 195/195 [00:07<00:00, 26.56it/s]\n",
      "100%|██████████| 195/195 [00:07<00:00, 26.52it/s]\n",
      "100%|██████████| 195/195 [00:07<00:00, 26.20it/s]\n",
      "100%|██████████| 195/195 [00:07<00:00, 26.40it/s]\n",
      "100%|██████████| 195/195 [00:07<00:00, 26.44it/s]\n",
      "100%|██████████| 195/195 [00:07<00:00, 26.33it/s]\n",
      "100%|██████████| 195/195 [00:07<00:00, 26.57it/s]\n",
      "100%|██████████| 195/195 [00:07<00:00, 26.59it/s]\n",
      "100%|██████████| 195/195 [00:07<00:00, 26.26it/s]\n",
      "100%|██████████| 195/195 [00:07<00:00, 26.32it/s]\n",
      "100%|██████████| 195/195 [00:07<00:00, 25.84it/s]\n",
      "100%|██████████| 195/195 [00:07<00:00, 26.30it/s]\n",
      "100%|██████████| 195/195 [00:07<00:00, 25.02it/s]\n",
      "100%|██████████| 195/195 [00:07<00:00, 25.58it/s]\n",
      "100%|██████████| 195/195 [00:07<00:00, 26.45it/s]\n",
      "100%|██████████| 195/195 [00:07<00:00, 26.80it/s]\n",
      "100%|██████████| 195/195 [00:07<00:00, 26.58it/s]\n",
      "100%|██████████| 195/195 [00:07<00:00, 26.58it/s]\n",
      "100%|██████████| 195/195 [00:07<00:00, 26.39it/s]\n",
      "100%|██████████| 195/195 [00:07<00:00, 26.42it/s]\n",
      "100%|██████████| 195/195 [00:07<00:00, 26.31it/s]\n",
      "100%|██████████| 195/195 [00:07<00:00, 26.41it/s]\n",
      "100%|██████████| 195/195 [00:07<00:00, 26.41it/s]\n",
      "100%|██████████| 195/195 [00:07<00:00, 26.85it/s]\n",
      "100%|██████████| 195/195 [00:07<00:00, 26.44it/s]\n",
      "100%|██████████| 195/195 [00:07<00:00, 26.76it/s]\n",
      "100%|██████████| 195/195 [00:07<00:00, 26.35it/s]\n",
      "100%|██████████| 195/195 [00:07<00:00, 26.38it/s]\n",
      "100%|██████████| 195/195 [00:07<00:00, 26.04it/s]\n",
      "100%|██████████| 195/195 [00:07<00:00, 24.93it/s]\n",
      "100%|██████████| 195/195 [00:07<00:00, 25.42it/s]\n",
      "100%|██████████| 195/195 [00:07<00:00, 26.35it/s]\n"
     ]
    }
   ],
   "source": [
    "optimizer = torch.optim.Adam(model.parameters(), 0.0003, weight_decay=1e-4)\n",
    "\n",
    "scheduler = torch.optim.lr_scheduler.CosineAnnealingLR(optimizer, T_max=len(train_loader_2), eta_min=0,\n",
    "                                                       last_epoch=-1)\n",
    "with torch.cuda.device(gpu_index):\n",
    "    simclr = SimCLR(model=model, optimizer=optimizer, scheduler=scheduler, device=device, epochs=200, log_every_n_steps=100)\n",
    "    simclr.train(train_loader_2, shuffle=False)\n"
   ],
   "metadata": {
    "collapsed": false
   }
  },
  {
   "cell_type": "code",
   "execution_count": 35,
   "outputs": [
    {
     "name": "stdout",
     "output_type": "stream",
     "text": [
      "Files already downloaded and verified\n"
     ]
    }
   ],
   "source": [
    "test_dataset = datasets.CIFAR10('./datasets', download=True, train=False, transform=transforms.ToTensor())\n",
    "test_loader = torch.utils.data.DataLoader(test_dataset, batch_size=256, shuffle=True, pin_memory=True, drop_last=True, generator=g)"
   ],
   "metadata": {
    "collapsed": false
   }
  },
  {
   "cell_type": "code",
   "execution_count": 38,
   "outputs": [
    {
     "name": "stderr",
     "output_type": "stream",
     "text": [
      " 10%|█         | 4/39 [00:00<00:03, 11.32it/s]"
     ]
    },
    {
     "name": "stdout",
     "output_type": "stream",
     "text": [
      "tensor([32.0312], device='cuda:0')\n",
      "tensor([40.2344], device='cuda:0')\n",
      "tensor([37.5000], device='cuda:0')\n",
      "tensor([37.1094], device='cuda:0')\n",
      "tensor([38.6719], device='cuda:0')\n",
      "tensor([35.1562], device='cuda:0')\n"
     ]
    },
    {
     "name": "stderr",
     "output_type": "stream",
     "text": [
      " 26%|██▌       | 10/39 [00:00<00:01, 17.73it/s]"
     ]
    },
    {
     "name": "stdout",
     "output_type": "stream",
     "text": [
      "tensor([32.0312], device='cuda:0')\n",
      "tensor([35.5469], device='cuda:0')\n",
      "tensor([37.5000], device='cuda:0')\n",
      "tensor([36.7188], device='cuda:0')\n",
      "tensor([37.1094], device='cuda:0')\n"
     ]
    },
    {
     "name": "stderr",
     "output_type": "stream",
     "text": [
      " 33%|███▎      | 13/39 [00:00<00:01, 19.17it/s]"
     ]
    },
    {
     "name": "stdout",
     "output_type": "stream",
     "text": [
      "tensor([35.1562], device='cuda:0')\n",
      "tensor([38.6719], device='cuda:0')\n",
      "tensor([33.5938], device='cuda:0')\n",
      "tensor([34.3750], device='cuda:0')\n",
      "tensor([38.2812], device='cuda:0')\n"
     ]
    },
    {
     "name": "stderr",
     "output_type": "stream",
     "text": [
      " 49%|████▊     | 19/39 [00:01<00:00, 20.99it/s]"
     ]
    },
    {
     "name": "stdout",
     "output_type": "stream",
     "text": [
      "tensor([36.3281], device='cuda:0')\n",
      "tensor([40.2344], device='cuda:0')\n",
      "tensor([37.5000], device='cuda:0')\n",
      "tensor([31.6406], device='cuda:0')\n",
      "tensor([38.6719], device='cuda:0')\n"
     ]
    },
    {
     "name": "stderr",
     "output_type": "stream",
     "text": [
      " 64%|██████▍   | 25/39 [00:01<00:00, 21.99it/s]"
     ]
    },
    {
     "name": "stdout",
     "output_type": "stream",
     "text": [
      "tensor([33.5938], device='cuda:0')\n",
      "tensor([32.0312], device='cuda:0')\n",
      "tensor([35.1562], device='cuda:0')\n",
      "tensor([36.7188], device='cuda:0')\n",
      "tensor([34.3750], device='cuda:0')\n"
     ]
    },
    {
     "name": "stderr",
     "output_type": "stream",
     "text": [
      " 79%|███████▉  | 31/39 [00:01<00:00, 22.29it/s]"
     ]
    },
    {
     "name": "stdout",
     "output_type": "stream",
     "text": [
      "tensor([35.1562], device='cuda:0')\n",
      "tensor([32.4219], device='cuda:0')\n",
      "tensor([38.2812], device='cuda:0')\n",
      "tensor([36.7188], device='cuda:0')\n",
      "tensor([35.5469], device='cuda:0')\n"
     ]
    },
    {
     "name": "stderr",
     "output_type": "stream",
     "text": [
      " 87%|████████▋ | 34/39 [00:01<00:00, 22.57it/s]"
     ]
    },
    {
     "name": "stdout",
     "output_type": "stream",
     "text": [
      "tensor([33.2031], device='cuda:0')\n",
      "tensor([35.5469], device='cuda:0')\n",
      "tensor([33.2031], device='cuda:0')\n",
      "tensor([41.0156], device='cuda:0')\n",
      "tensor([33.9844], device='cuda:0')\n",
      "tensor([29.6875], device='cuda:0')\n"
     ]
    },
    {
     "name": "stderr",
     "output_type": "stream",
     "text": [
      "100%|██████████| 39/39 [00:01<00:00, 20.01it/s]"
     ]
    },
    {
     "name": "stdout",
     "output_type": "stream",
     "text": [
      "tensor([39.0625], device='cuda:0')\n",
      "tensor([33.9844], device='cuda:0')\n"
     ]
    },
    {
     "name": "stderr",
     "output_type": "stream",
     "text": [
      "\n"
     ]
    }
   ],
   "source": [
    "import logging\n",
    "from torch.utils.tensorboard import SummaryWriter\n",
    "import os\n",
    "from model.model import accuracy\n",
    "from tqdm import tqdm\n",
    "\n",
    "total = 0\n",
    "running_accuracy = 0\n",
    "n_iter = 0\n",
    "writer = SummaryWriter()\n",
    "logging.basicConfig(filename=os.path.join(writer.log_dir, 'training.log'), level=logging.DEBUG)\n",
    "criterion = torch.nn.CrossEntropyLoss().to(device)\n",
    "\n",
    "with torch.no_grad():\n",
    "    for images, labels in tqdm(test_loader):\n",
    "        images = torch.cat((images, images), dim=0)\n",
    "        labels = torch.cat((labels, labels), dim=0)\n",
    "\n",
    "        images = images.to(device)\n",
    "        labels = labels.to(device)\n",
    "        output = model(images)\n",
    "        loss = criterion(output, labels)\n",
    "        top1, top5 = accuracy(output, labels, topk=(1, 5))\n",
    "        writer.add_scalar('loss', loss, global_step=n_iter)\n",
    "        writer.add_scalar('acc/top1', top1[0], global_step=n_iter)\n",
    "        writer.add_scalar('acc/top5', top5[0], global_step=n_iter)\n",
    "        n_iter += 1\n",
    "        print(top1)"
   ],
   "metadata": {
    "collapsed": false
   }
  },
  {
   "cell_type": "code",
   "execution_count": null,
   "outputs": [],
   "source": [],
   "metadata": {
    "collapsed": false
   }
  }
 ],
 "metadata": {
  "kernelspec": {
   "display_name": "Python 3",
   "language": "python",
   "name": "python3"
  },
  "language_info": {
   "codemirror_mode": {
    "name": "ipython",
    "version": 2
   },
   "file_extension": ".py",
   "mimetype": "text/x-python",
   "name": "python",
   "nbconvert_exporter": "python",
   "pygments_lexer": "ipython2",
   "version": "2.7.6"
  }
 },
 "nbformat": 4,
 "nbformat_minor": 0
}
